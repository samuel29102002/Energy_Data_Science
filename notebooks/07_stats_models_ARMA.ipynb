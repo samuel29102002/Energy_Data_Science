{
 "cells": [
  {
   "cell_type": "markdown",
   "id": "666dc9e3",
   "metadata": {},
   "source": [
    "# Task 7 · Statistical Time-Series Models (ARIMA/SARIMA)\n",
    "\n",
    "This notebook fits and evaluates ARIMA/SARIMA models for the household demand series, providing diagnostics, evaluation metrics, and artefacts for both the LaTeX report and the interactive dashboard."
   ]
  },
  {
   "cell_type": "code",
   "execution_count": 9,
   "id": "dd4e41ec",
   "metadata": {},
   "outputs": [],
   "source": [
    "from pathlib import Path\n",
    "import sys\n",
    "\n",
    "import numpy as np\n",
    "import pandas as pd\n",
    "import plotly.express as px\n",
    "import plotly.graph_objects as go\n",
    "\n",
    "# Project imports\n",
    "ROOT = Path.cwd().resolve()\n",
    "if not (ROOT / \"src\").exists():\n",
    "    ROOT = ROOT.parent\n",
    "if str(ROOT) not in sys.path:\n",
    "    sys.path.append(str(ROOT))\n",
    "\n",
    "from src.modeling_stats import (\n",
    "    acf_pacf,\n",
    "    stationarity_checks,\n",
    "    fit_arima,\n",
    "    forecast_arima,\n",
    "    evaluate_forecast,\n",
    "    walk_forward_daily,\n",
    ")\n",
    "from src.plotting import (\n",
    "    plot_acf_pacf,\n",
    "    plot_forecast_overlay,\n",
    "    plot_walkforward_panels,\n",
    "    plot_metrics_bar,\n",
    ")\n"
   ]
  },
  {
   "cell_type": "code",
   "execution_count": 10,
   "id": "9f1e9208",
   "metadata": {},
   "outputs": [
    {
     "name": "stdout",
     "output_type": "stream",
     "text": [
      "Demand sample: 2013-07-01 00:00:00+00:00 → 2014-06-30 23:00:00+00:00 | Observations: 8,760\n"
     ]
    }
   ],
   "source": [
    "pd.options.display.max_rows = 12\n",
    "\n",
    "FIG_PATH = ROOT / \"reports\" / \"figures\"\n",
    "TABLE_PATH = ROOT / \"reports\" / \"tables\"\n",
    "DATA_PATH = ROOT / \"data\" / \"raw\" / \"train_252145.csv\"\n",
    "\n",
    "FIG_PATH.mkdir(parents=True, exist_ok=True)\n",
    "TABLE_PATH.mkdir(parents=True, exist_ok=True)\n",
    "\n",
    "\n",
    "def save_figure(fig: go.Figure, name: str, width: int = 1280, height: int = 720, scale: int = 2) -> None:\n",
    "    png = FIG_PATH / f\"{name}.png\"\n",
    "    pdf = FIG_PATH / f\"{name}.pdf\"\n",
    "    fig.write_image(str(png), width=width, height=height, scale=scale)\n",
    "    fig.write_image(str(pdf), width=width, height=height, scale=scale)\n",
    "\n",
    "\n",
    "df = pd.read_csv(DATA_PATH, parse_dates=[\"timestamp\"]).sort_values(\"timestamp\")\n",
    "df[\"Demand\"] = pd.to_numeric(df[\"Demand\"], errors=\"coerce\")\n",
    "df = df.dropna(subset=[\"Demand\"]).set_index(\"timestamp\").sort_index()\n",
    "\n",
    "# Resample to hourly cadence to guarantee regularity\n",
    "hourly_demand = df[\"Demand\"].resample(\"H\").mean().interpolate(method=\"time\", limit_direction=\"both\").dropna()\n",
    "demand_df = hourly_demand.reset_index().rename(columns={\"timestamp\": \"timestamp\", \"Demand\": \"Demand\"})\n",
    "\n",
    "print(\n",
    "    f\"Demand sample: {demand_df['timestamp'].min()} → {demand_df['timestamp'].max()} | \"\n",
    "    f\"Observations: {len(demand_df):,}\"\n",
    ")\n"
   ]
  },
  {
   "cell_type": "markdown",
   "id": "e5020ad8",
   "metadata": {},
   "source": [
    "## Stationarity diagnostics"
   ]
  },
  {
   "cell_type": "code",
   "execution_count": 11,
   "id": "abeef6e5",
   "metadata": {},
   "outputs": [
    {
     "name": "stderr",
     "output_type": "stream",
     "text": [
      "/Users/samuel/EDS/Energy_Data_Science/src/modeling_stats.py:63: InterpolationWarning:\n",
      "\n",
      "The test statistic is outside of the range of p-values available in the\n",
      "look-up table. The actual p-value is smaller than the p-value returned.\n",
      "\n",
      "\n",
      "WARNING\tThread(Thread-8 (run)) choreographer.browser_async:browser_async.py:_close()- Resorting to unclean kill browser.\n"
     ]
    },
    {
     "data": {
      "application/vnd.plotly.v1+json": {
       "config": {
        "plotlyServerURL": "https://plot.ly"
       },
       "data": [
        {
         "marker": {
          "color": "#1f77b4"
         },
         "name": "ACF",
         "type": "bar",
         "x": {
          "bdata": "AAECAwQFBgcICQoLDA0ODxAREhMUFRYXGBkaGxwdHh8gISIjJCUmJygpKissLS4vMDEyMzQ1Njc4OTo7PD0+P0BBQkNERUZHSA==",
          "dtype": "i1"
         },
         "xaxis": "x",
         "y": {
          "bdata": "AAAAAAAA8D+wdqfYtU3hP7GLVPNHPtI/+lnkTrOvyD9b4EN5W9/AP6lBD8VtHbU/dOsiIxOPnz8760Em9Q9fv+KJtmHtpo6/x+tjD2E9fr9RzFLgt954P8st4/QqQHo/ll7YQLbISD/0VS3m4vxnP4is2dPDC3w/3HqTabRIlL9a9LmGw7KavyhLdIz9woe/2NrfmhpIlj+e4oZJ9uCtP3i5vwJqWL0/8IB69pj2wj9h/8FhiBnJPxOVj+JbBM4/b7iHnw5fzz9qi5WCdzHNP9ocyVkN78c/RA6QQDdAwD8kU48JRwyvP+jFPPrgJ40/OwfIwKZGkb8pOtNHXo6ov85Bcvq3iai/DwuL7x/Vnr/qcn+i0fCLv3FC7zga7Ie//pJMWfGbYL+VWs02UN1jv9SQeECJ+o2/eu9VMtuTob/0cmtQfUmlv/W9pbs7TaK/Zac9zCbrlL+M6vd7gT+YPwInCQn2ErI/aypE/wSUvj8Bb6+jr0/FP3ghBueVB8o//1Zvgxl2zz+c4naHcWjLP15RQ7OlQsU/1EceaoozwD8BNN01Q7+yP4Fq4odn9p4/heZC1FXKhL8TsLMe6jyiv+X+3AKKpqW/QOTsZ4JEn78xw5y8S+SVv3cSIlOyloC/yl3m6c4BRb/yxpOXaLCSvwnubv791Z2/E1xQ1HgFqb9GET8vZJ2rvwJ6PT5Vr6y/xZNjiPxIob8PrjEVqgt5P4zZ/Wn7lqk/H8M6kfaFuj/FSx0tHfbCP+wxX0E9xsg/nIi0ETXayz8=",
          "dtype": "f8"
         },
         "yaxis": "y"
        },
        {
         "marker": {
          "color": "#FFA500"
         },
         "name": "PACF",
         "type": "bar",
         "x": {
          "bdata": "AAECAwQFBgcICQoLDA0ODxAREhMUFRYXGBkaGxwdHh8gISIjJCUmJygpKissLS4vMDEyMzQ1Njc4OTo7PD0+P0BBQkNERUZHSA==",
          "dtype": "i1"
         },
         "xaxis": "x2",
         "y": {
          "bdata": "AAAAAAAA8D+vdqfYtU3hPw65FSKVQYW/QPk47Sftrj+s5ehB8YOBP3L1A+yphmS/iXpBfa04nr+IjXmqpvqRvxX7UuVtTIG/Y/czGb3UiD+btQmn/SGQP7VsMY6BOgE/oy7cUSzlc7+2Bgrt93RuP35Wo+iNtmg/gTu1fKtgo7/dRPrSMpRmv3EJ8x1gXIo/pLD2mIOlpD+SJxftC3SoP16D3jVdJLY/htxObIpFrj/5BB3ky5y5P3zrsYX+Abc/RsWKWeWBsj8FozTabrioP4qNNpSBXJQ/dltEErbEi7/ldPNBfLKhv7fnmlU395e//44DGk7RmL/zYIxfVRqjvwQBbb6zmWq/iEOC8uKOgT/+aVSvd2KAP3EQDH94Sm2/3THWXdyzhz/Oa0lo7i9rv4muxPkbOI2/cYRajRH9m79l0U6RtkGTv+Z+UTl1cIm/ZGzSTHqLhL83tuvUQJOYP01gGdKIG5o/3NKwwZ7jpT9l8vHaIjmqP+ncpl6kXa0/q6SaSVOntz95Uf/D/peAP/uXUsAmh4s/4FMbkKqakT+ylmcyKS+Iv28HJVg11G2//BiXvAJtlL+osFVCfwSOv5FUXeeRHIS/1bmxAHMncj9bdEwsyfxqv05a0cdLSoY/z0Yomu26fj/29yQk8tqVv6xqte+fMIC/LwfcLI9Xm78MOsPZ7kqFvwEfreicPJq/d1jE2vcNZL+8+8Y0579+P1M5v3mA5oE/wTtrQi4moD9FsO6kXQSaP8hMAa8Llak/5m1JzCHjpz8=",
          "dtype": "f8"
         },
         "yaxis": "y2"
        }
       ],
       "layout": {
        "annotations": [
         {
          "font": {
           "size": 16
          },
          "showarrow": false,
          "text": "ACF",
          "x": 0.225,
          "xanchor": "center",
          "xref": "paper",
          "y": 1,
          "yanchor": "bottom",
          "yref": "paper"
         },
         {
          "font": {
           "size": 16
          },
          "showarrow": false,
          "text": "PACF",
          "x": 0.775,
          "xanchor": "center",
          "xref": "paper",
          "y": 1,
          "yanchor": "bottom",
          "yref": "paper"
         }
        ],
        "font": {
         "color": "#222",
         "family": "CMU Serif, 'Times New Roman', serif",
         "size": 14
        },
        "legend": {
         "bgcolor": "rgba(255,255,255,0.85)",
         "bordercolor": "#d0d0d0",
         "borderwidth": 1
        },
        "margin": {
         "b": 50,
         "l": 70,
         "r": 30,
         "t": 60
        },
        "paper_bgcolor": "#ffffff",
        "plot_bgcolor": "#ffffff",
        "showlegend": false,
        "template": {
         "data": {
          "bar": [
           {
            "error_x": {
             "color": "#2a3f5f"
            },
            "error_y": {
             "color": "#2a3f5f"
            },
            "marker": {
             "line": {
              "color": "#E5ECF6",
              "width": 0.5
             },
             "pattern": {
              "fillmode": "overlay",
              "size": 10,
              "solidity": 0.2
             }
            },
            "type": "bar"
           }
          ],
          "barpolar": [
           {
            "marker": {
             "line": {
              "color": "#E5ECF6",
              "width": 0.5
             },
             "pattern": {
              "fillmode": "overlay",
              "size": 10,
              "solidity": 0.2
             }
            },
            "type": "barpolar"
           }
          ],
          "carpet": [
           {
            "aaxis": {
             "endlinecolor": "#2a3f5f",
             "gridcolor": "white",
             "linecolor": "white",
             "minorgridcolor": "white",
             "startlinecolor": "#2a3f5f"
            },
            "baxis": {
             "endlinecolor": "#2a3f5f",
             "gridcolor": "white",
             "linecolor": "white",
             "minorgridcolor": "white",
             "startlinecolor": "#2a3f5f"
            },
            "type": "carpet"
           }
          ],
          "choropleth": [
           {
            "colorbar": {
             "outlinewidth": 0,
             "ticks": ""
            },
            "type": "choropleth"
           }
          ],
          "contour": [
           {
            "colorbar": {
             "outlinewidth": 0,
             "ticks": ""
            },
            "colorscale": [
             [
              0,
              "#0d0887"
             ],
             [
              0.1111111111111111,
              "#46039f"
             ],
             [
              0.2222222222222222,
              "#7201a8"
             ],
             [
              0.3333333333333333,
              "#9c179e"
             ],
             [
              0.4444444444444444,
              "#bd3786"
             ],
             [
              0.5555555555555556,
              "#d8576b"
             ],
             [
              0.6666666666666666,
              "#ed7953"
             ],
             [
              0.7777777777777778,
              "#fb9f3a"
             ],
             [
              0.8888888888888888,
              "#fdca26"
             ],
             [
              1,
              "#f0f921"
             ]
            ],
            "type": "contour"
           }
          ],
          "contourcarpet": [
           {
            "colorbar": {
             "outlinewidth": 0,
             "ticks": ""
            },
            "type": "contourcarpet"
           }
          ],
          "heatmap": [
           {
            "colorbar": {
             "outlinewidth": 0,
             "ticks": ""
            },
            "colorscale": [
             [
              0,
              "#0d0887"
             ],
             [
              0.1111111111111111,
              "#46039f"
             ],
             [
              0.2222222222222222,
              "#7201a8"
             ],
             [
              0.3333333333333333,
              "#9c179e"
             ],
             [
              0.4444444444444444,
              "#bd3786"
             ],
             [
              0.5555555555555556,
              "#d8576b"
             ],
             [
              0.6666666666666666,
              "#ed7953"
             ],
             [
              0.7777777777777778,
              "#fb9f3a"
             ],
             [
              0.8888888888888888,
              "#fdca26"
             ],
             [
              1,
              "#f0f921"
             ]
            ],
            "type": "heatmap"
           }
          ],
          "histogram": [
           {
            "marker": {
             "pattern": {
              "fillmode": "overlay",
              "size": 10,
              "solidity": 0.2
             }
            },
            "type": "histogram"
           }
          ],
          "histogram2d": [
           {
            "colorbar": {
             "outlinewidth": 0,
             "ticks": ""
            },
            "colorscale": [
             [
              0,
              "#0d0887"
             ],
             [
              0.1111111111111111,
              "#46039f"
             ],
             [
              0.2222222222222222,
              "#7201a8"
             ],
             [
              0.3333333333333333,
              "#9c179e"
             ],
             [
              0.4444444444444444,
              "#bd3786"
             ],
             [
              0.5555555555555556,
              "#d8576b"
             ],
             [
              0.6666666666666666,
              "#ed7953"
             ],
             [
              0.7777777777777778,
              "#fb9f3a"
             ],
             [
              0.8888888888888888,
              "#fdca26"
             ],
             [
              1,
              "#f0f921"
             ]
            ],
            "type": "histogram2d"
           }
          ],
          "histogram2dcontour": [
           {
            "colorbar": {
             "outlinewidth": 0,
             "ticks": ""
            },
            "colorscale": [
             [
              0,
              "#0d0887"
             ],
             [
              0.1111111111111111,
              "#46039f"
             ],
             [
              0.2222222222222222,
              "#7201a8"
             ],
             [
              0.3333333333333333,
              "#9c179e"
             ],
             [
              0.4444444444444444,
              "#bd3786"
             ],
             [
              0.5555555555555556,
              "#d8576b"
             ],
             [
              0.6666666666666666,
              "#ed7953"
             ],
             [
              0.7777777777777778,
              "#fb9f3a"
             ],
             [
              0.8888888888888888,
              "#fdca26"
             ],
             [
              1,
              "#f0f921"
             ]
            ],
            "type": "histogram2dcontour"
           }
          ],
          "mesh3d": [
           {
            "colorbar": {
             "outlinewidth": 0,
             "ticks": ""
            },
            "type": "mesh3d"
           }
          ],
          "parcoords": [
           {
            "line": {
             "colorbar": {
              "outlinewidth": 0,
              "ticks": ""
             }
            },
            "type": "parcoords"
           }
          ],
          "pie": [
           {
            "automargin": true,
            "type": "pie"
           }
          ],
          "scatter": [
           {
            "fillpattern": {
             "fillmode": "overlay",
             "size": 10,
             "solidity": 0.2
            },
            "type": "scatter"
           }
          ],
          "scatter3d": [
           {
            "line": {
             "colorbar": {
              "outlinewidth": 0,
              "ticks": ""
             }
            },
            "marker": {
             "colorbar": {
              "outlinewidth": 0,
              "ticks": ""
             }
            },
            "type": "scatter3d"
           }
          ],
          "scattercarpet": [
           {
            "marker": {
             "colorbar": {
              "outlinewidth": 0,
              "ticks": ""
             }
            },
            "type": "scattercarpet"
           }
          ],
          "scattergeo": [
           {
            "marker": {
             "colorbar": {
              "outlinewidth": 0,
              "ticks": ""
             }
            },
            "type": "scattergeo"
           }
          ],
          "scattergl": [
           {
            "marker": {
             "colorbar": {
              "outlinewidth": 0,
              "ticks": ""
             }
            },
            "type": "scattergl"
           }
          ],
          "scattermap": [
           {
            "marker": {
             "colorbar": {
              "outlinewidth": 0,
              "ticks": ""
             }
            },
            "type": "scattermap"
           }
          ],
          "scattermapbox": [
           {
            "marker": {
             "colorbar": {
              "outlinewidth": 0,
              "ticks": ""
             }
            },
            "type": "scattermapbox"
           }
          ],
          "scatterpolar": [
           {
            "marker": {
             "colorbar": {
              "outlinewidth": 0,
              "ticks": ""
             }
            },
            "type": "scatterpolar"
           }
          ],
          "scatterpolargl": [
           {
            "marker": {
             "colorbar": {
              "outlinewidth": 0,
              "ticks": ""
             }
            },
            "type": "scatterpolargl"
           }
          ],
          "scatterternary": [
           {
            "marker": {
             "colorbar": {
              "outlinewidth": 0,
              "ticks": ""
             }
            },
            "type": "scatterternary"
           }
          ],
          "surface": [
           {
            "colorbar": {
             "outlinewidth": 0,
             "ticks": ""
            },
            "colorscale": [
             [
              0,
              "#0d0887"
             ],
             [
              0.1111111111111111,
              "#46039f"
             ],
             [
              0.2222222222222222,
              "#7201a8"
             ],
             [
              0.3333333333333333,
              "#9c179e"
             ],
             [
              0.4444444444444444,
              "#bd3786"
             ],
             [
              0.5555555555555556,
              "#d8576b"
             ],
             [
              0.6666666666666666,
              "#ed7953"
             ],
             [
              0.7777777777777778,
              "#fb9f3a"
             ],
             [
              0.8888888888888888,
              "#fdca26"
             ],
             [
              1,
              "#f0f921"
             ]
            ],
            "type": "surface"
           }
          ],
          "table": [
           {
            "cells": {
             "fill": {
              "color": "#EBF0F8"
             },
             "line": {
              "color": "white"
             }
            },
            "header": {
             "fill": {
              "color": "#C8D4E3"
             },
             "line": {
              "color": "white"
             }
            },
            "type": "table"
           }
          ]
         },
         "layout": {
          "annotationdefaults": {
           "arrowcolor": "#2a3f5f",
           "arrowhead": 0,
           "arrowwidth": 1
          },
          "autotypenumbers": "strict",
          "coloraxis": {
           "colorbar": {
            "outlinewidth": 0,
            "ticks": ""
           }
          },
          "colorscale": {
           "diverging": [
            [
             0,
             "#8e0152"
            ],
            [
             0.1,
             "#c51b7d"
            ],
            [
             0.2,
             "#de77ae"
            ],
            [
             0.3,
             "#f1b6da"
            ],
            [
             0.4,
             "#fde0ef"
            ],
            [
             0.5,
             "#f7f7f7"
            ],
            [
             0.6,
             "#e6f5d0"
            ],
            [
             0.7,
             "#b8e186"
            ],
            [
             0.8,
             "#7fbc41"
            ],
            [
             0.9,
             "#4d9221"
            ],
            [
             1,
             "#276419"
            ]
           ],
           "sequential": [
            [
             0,
             "#0d0887"
            ],
            [
             0.1111111111111111,
             "#46039f"
            ],
            [
             0.2222222222222222,
             "#7201a8"
            ],
            [
             0.3333333333333333,
             "#9c179e"
            ],
            [
             0.4444444444444444,
             "#bd3786"
            ],
            [
             0.5555555555555556,
             "#d8576b"
            ],
            [
             0.6666666666666666,
             "#ed7953"
            ],
            [
             0.7777777777777778,
             "#fb9f3a"
            ],
            [
             0.8888888888888888,
             "#fdca26"
            ],
            [
             1,
             "#f0f921"
            ]
           ],
           "sequentialminus": [
            [
             0,
             "#0d0887"
            ],
            [
             0.1111111111111111,
             "#46039f"
            ],
            [
             0.2222222222222222,
             "#7201a8"
            ],
            [
             0.3333333333333333,
             "#9c179e"
            ],
            [
             0.4444444444444444,
             "#bd3786"
            ],
            [
             0.5555555555555556,
             "#d8576b"
            ],
            [
             0.6666666666666666,
             "#ed7953"
            ],
            [
             0.7777777777777778,
             "#fb9f3a"
            ],
            [
             0.8888888888888888,
             "#fdca26"
            ],
            [
             1,
             "#f0f921"
            ]
           ]
          },
          "colorway": [
           "#636efa",
           "#EF553B",
           "#00cc96",
           "#ab63fa",
           "#FFA15A",
           "#19d3f3",
           "#FF6692",
           "#B6E880",
           "#FF97FF",
           "#FECB52"
          ],
          "font": {
           "color": "#2a3f5f"
          },
          "geo": {
           "bgcolor": "white",
           "lakecolor": "white",
           "landcolor": "#E5ECF6",
           "showlakes": true,
           "showland": true,
           "subunitcolor": "white"
          },
          "hoverlabel": {
           "align": "left"
          },
          "hovermode": "closest",
          "mapbox": {
           "style": "light"
          },
          "paper_bgcolor": "white",
          "plot_bgcolor": "#E5ECF6",
          "polar": {
           "angularaxis": {
            "gridcolor": "white",
            "linecolor": "white",
            "ticks": ""
           },
           "bgcolor": "#E5ECF6",
           "radialaxis": {
            "gridcolor": "white",
            "linecolor": "white",
            "ticks": ""
           }
          },
          "scene": {
           "xaxis": {
            "backgroundcolor": "#E5ECF6",
            "gridcolor": "white",
            "gridwidth": 2,
            "linecolor": "white",
            "showbackground": true,
            "ticks": "",
            "zerolinecolor": "white"
           },
           "yaxis": {
            "backgroundcolor": "#E5ECF6",
            "gridcolor": "white",
            "gridwidth": 2,
            "linecolor": "white",
            "showbackground": true,
            "ticks": "",
            "zerolinecolor": "white"
           },
           "zaxis": {
            "backgroundcolor": "#E5ECF6",
            "gridcolor": "white",
            "gridwidth": 2,
            "linecolor": "white",
            "showbackground": true,
            "ticks": "",
            "zerolinecolor": "white"
           }
          },
          "shapedefaults": {
           "line": {
            "color": "#2a3f5f"
           }
          },
          "ternary": {
           "aaxis": {
            "gridcolor": "white",
            "linecolor": "white",
            "ticks": ""
           },
           "baxis": {
            "gridcolor": "white",
            "linecolor": "white",
            "ticks": ""
           },
           "bgcolor": "#E5ECF6",
           "caxis": {
            "gridcolor": "white",
            "linecolor": "white",
            "ticks": ""
           }
          },
          "title": {
           "x": 0.05
          },
          "xaxis": {
           "automargin": true,
           "gridcolor": "white",
           "linecolor": "white",
           "ticks": "",
           "title": {
            "standoff": 15
           },
           "zerolinecolor": "white",
           "zerolinewidth": 2
          },
          "yaxis": {
           "automargin": true,
           "gridcolor": "white",
           "linecolor": "white",
           "ticks": "",
           "title": {
            "standoff": 15
           },
           "zerolinecolor": "white",
           "zerolinewidth": 2
          }
         }
        },
        "title": {
         "text": "Demand ACF and PACF (Hourly)"
        },
        "xaxis": {
         "anchor": "y",
         "domain": [
          0,
          0.45
         ],
         "gridcolor": "#e5e5e5",
         "showgrid": true,
         "title": {
          "text": "Lag"
         },
         "zeroline": false
        },
        "xaxis2": {
         "anchor": "y2",
         "domain": [
          0.55,
          1
         ],
         "gridcolor": "#e5e5e5",
         "showgrid": true,
         "title": {
          "text": "Lag"
         },
         "zeroline": false
        },
        "yaxis": {
         "anchor": "x",
         "domain": [
          0,
          1
         ],
         "gridcolor": "#e5e5e5",
         "showgrid": true,
         "title": {
          "text": "Correlation"
         },
         "zeroline": false
        },
        "yaxis2": {
         "anchor": "x2",
         "domain": [
          0,
          1
         ],
         "gridcolor": "#e5e5e5",
         "showgrid": true,
         "title": {
          "text": "Partial correlation"
         },
         "zeroline": false
        }
       }
      }
     },
     "metadata": {},
     "output_type": "display_data"
    }
   ],
   "source": [
    "nlags = 72\n",
    "acf_results = acf_pacf(hourly_demand, nlags=nlags)\n",
    "stationarity_df = stationarity_checks(hourly_demand)\n",
    "stationarity_df.to_csv(TABLE_PATH / \"stationarity_tests.csv\", index=False)\n",
    "\n",
    "fig_acf_pacf = plot_acf_pacf(\n",
    "    acf_results[\"acf\"],\n",
    "    acf_results[\"pacf\"],\n",
    "    title=\"Demand ACF and PACF (Hourly)\",\n",
    "    style=\"academic\",\n",
    ")\n",
    "save_figure(fig_acf_pacf, \"stats_acf_pacf\", width=1200, height=500)\n",
    "fig_acf_pacf\n"
   ]
  },
  {
   "cell_type": "code",
   "execution_count": 12,
   "id": "920806ef",
   "metadata": {},
   "outputs": [
    {
     "data": {
      "text/html": [
       "<div>\n",
       "<style scoped>\n",
       "    .dataframe tbody tr th:only-of-type {\n",
       "        vertical-align: middle;\n",
       "    }\n",
       "\n",
       "    .dataframe tbody tr th {\n",
       "        vertical-align: top;\n",
       "    }\n",
       "\n",
       "    .dataframe thead th {\n",
       "        text-align: right;\n",
       "    }\n",
       "</style>\n",
       "<table border=\"1\" class=\"dataframe\">\n",
       "  <thead>\n",
       "    <tr style=\"text-align: right;\">\n",
       "      <th></th>\n",
       "      <th>test</th>\n",
       "      <th>statistic</th>\n",
       "      <th>p_value</th>\n",
       "      <th>lag</th>\n",
       "    </tr>\n",
       "  </thead>\n",
       "  <tbody>\n",
       "    <tr>\n",
       "      <th>0</th>\n",
       "      <td>ADF</td>\n",
       "      <td>-11.773439</td>\n",
       "      <td>1.076326e-21</td>\n",
       "      <td>30</td>\n",
       "    </tr>\n",
       "    <tr>\n",
       "      <th>1</th>\n",
       "      <td>KPSS</td>\n",
       "      <td>1.227158</td>\n",
       "      <td>1.000000e-02</td>\n",
       "      <td>32</td>\n",
       "    </tr>\n",
       "  </tbody>\n",
       "</table>\n",
       "</div>"
      ],
      "text/plain": [
       "   test  statistic       p_value  lag\n",
       "0   ADF -11.773439  1.076326e-21   30\n",
       "1  KPSS   1.227158  1.000000e-02   32"
      ]
     },
     "execution_count": 12,
     "metadata": {},
     "output_type": "execute_result"
    }
   ],
   "source": [
    "stationarity_df"
   ]
  },
  {
   "cell_type": "markdown",
   "id": "01b612b4",
   "metadata": {},
   "source": [
    "## Candidate model definitions\n",
    "\n",
    "We explore one non-seasonal ARIMA configuration and two seasonal SARIMA variants motivated by the daily cycle (s = 24). Seasonal differencing is set to D = 1 where required to address residual daily seasonality."
   ]
  },
  {
   "cell_type": "code",
   "execution_count": 13,
   "id": "00f55bad",
   "metadata": {},
   "outputs": [
    {
     "name": "stdout",
     "output_type": "stream",
     "text": [
      "Training samples: 8,591; validation horizon: 24\n"
     ]
    }
   ],
   "source": [
    "MODEL_CANDIDATES = [\n",
    "    {\n",
    "        \"name\": \"ARIMA(2,1,2)\",\n",
    "        \"order\": (2, 1, 2),\n",
    "        \"seasonal_order\": (0, 0, 0, 0),\n",
    "    },\n",
    "    {\n",
    "        \"name\": \"SARIMA(1,1,1)(1,1,1,24)\",\n",
    "        \"order\": (1, 1, 1),\n",
    "        \"seasonal_order\": (1, 1, 1, 24),\n",
    "    },\n",
    "    {\n",
    "        \"name\": \"SARIMA(2,1,1)(0,1,1,24)\",\n",
    "        \"order\": (2, 1, 1),\n",
    "        \"seasonal_order\": (0, 1, 1, 24),\n",
    "    },\n",
    "]\n",
    "\n",
    "forecast_horizon = 24\n",
    "validation_window_hours = 24\n",
    "\n",
    "validation_cutoff = demand_df[\"timestamp\"].max() - pd.Timedelta(days=7)\n",
    "train_mask = demand_df[\"timestamp\"] < validation_cutoff\n",
    "val_mask = (demand_df[\"timestamp\"] >= validation_cutoff) & (\n",
    "    demand_df[\"timestamp\"] < validation_cutoff + pd.Timedelta(hours=validation_window_hours)\n",
    ")\n",
    "\n",
    "train_series = demand_df.loc[train_mask].set_index(\"timestamp\")[\"Demand\"]\n",
    "validation_df = demand_df.loc[val_mask].copy()\n",
    "\n",
    "print(f\"Training samples: {len(train_series):,}; validation horizon: {len(validation_df)}\")\n"
   ]
  },
  {
   "cell_type": "markdown",
   "id": "46f2a32c",
   "metadata": {},
   "source": [
    "## Whole-training split evaluation"
   ]
  },
  {
   "cell_type": "code",
   "execution_count": 14,
   "id": "20ca1008",
   "metadata": {},
   "outputs": [
    {
     "name": "stderr",
     "output_type": "stream",
     "text": [
      "/Users/samuel/opt/anaconda3/envs/ML/lib/python3.10/site-packages/statsmodels/tsa/base/tsa_model.py:473: ValueWarning:\n",
      "\n",
      "No frequency information was provided, so inferred frequency H will be used.\n",
      "\n",
      "/Users/samuel/opt/anaconda3/envs/ML/lib/python3.10/site-packages/statsmodels/tsa/base/tsa_model.py:473: ValueWarning:\n",
      "\n",
      "No frequency information was provided, so inferred frequency H will be used.\n",
      "\n",
      "/Users/samuel/opt/anaconda3/envs/ML/lib/python3.10/site-packages/statsmodels/tsa/base/tsa_model.py:473: ValueWarning:\n",
      "\n",
      "No frequency information was provided, so inferred frequency H will be used.\n",
      "\n",
      "/Users/samuel/opt/anaconda3/envs/ML/lib/python3.10/site-packages/statsmodels/tsa/base/tsa_model.py:473: ValueWarning:\n",
      "\n",
      "No frequency information was provided, so inferred frequency H will be used.\n",
      "\n",
      "/Users/samuel/opt/anaconda3/envs/ML/lib/python3.10/site-packages/statsmodels/tsa/base/tsa_model.py:473: ValueWarning:\n",
      "\n",
      "No frequency information was provided, so inferred frequency H will be used.\n",
      "\n",
      "/Users/samuel/opt/anaconda3/envs/ML/lib/python3.10/site-packages/statsmodels/tsa/base/tsa_model.py:473: ValueWarning:\n",
      "\n",
      "No frequency information was provided, so inferred frequency H will be used.\n",
      "\n"
     ]
    },
    {
     "data": {
      "text/html": [
       "<div>\n",
       "<style scoped>\n",
       "    .dataframe tbody tr th:only-of-type {\n",
       "        vertical-align: middle;\n",
       "    }\n",
       "\n",
       "    .dataframe tbody tr th {\n",
       "        vertical-align: top;\n",
       "    }\n",
       "\n",
       "    .dataframe thead th {\n",
       "        text-align: right;\n",
       "    }\n",
       "</style>\n",
       "<table border=\"1\" class=\"dataframe\">\n",
       "  <thead>\n",
       "    <tr style=\"text-align: right;\">\n",
       "      <th></th>\n",
       "      <th>model_name</th>\n",
       "      <th>MAE</th>\n",
       "      <th>RMSE</th>\n",
       "      <th>nRMSE</th>\n",
       "      <th>evaluation</th>\n",
       "    </tr>\n",
       "  </thead>\n",
       "  <tbody>\n",
       "    <tr>\n",
       "      <th>2</th>\n",
       "      <td>SARIMA(2,1,1)(0,1,1,24)</td>\n",
       "      <td>0.139409</td>\n",
       "      <td>0.233200</td>\n",
       "      <td>0.197627</td>\n",
       "      <td>Whole-train split</td>\n",
       "    </tr>\n",
       "    <tr>\n",
       "      <th>1</th>\n",
       "      <td>SARIMA(1,1,1)(1,1,1,24)</td>\n",
       "      <td>0.139234</td>\n",
       "      <td>0.234366</td>\n",
       "      <td>0.198615</td>\n",
       "      <td>Whole-train split</td>\n",
       "    </tr>\n",
       "    <tr>\n",
       "      <th>0</th>\n",
       "      <td>ARIMA(2,1,2)</td>\n",
       "      <td>0.219628</td>\n",
       "      <td>0.291779</td>\n",
       "      <td>0.247271</td>\n",
       "      <td>Whole-train split</td>\n",
       "    </tr>\n",
       "  </tbody>\n",
       "</table>\n",
       "</div>"
      ],
      "text/plain": [
       "                model_name       MAE      RMSE     nRMSE         evaluation\n",
       "2  SARIMA(2,1,1)(0,1,1,24)  0.139409  0.233200  0.197627  Whole-train split\n",
       "1  SARIMA(1,1,1)(1,1,1,24)  0.139234  0.234366  0.198615  Whole-train split\n",
       "0             ARIMA(2,1,2)  0.219628  0.291779  0.247271  Whole-train split"
      ]
     },
     "execution_count": 14,
     "metadata": {},
     "output_type": "execute_result"
    }
   ],
   "source": [
    "single_split_records = []\n",
    "single_split_predictions = []\n",
    "\n",
    "for candidate in MODEL_CANDIDATES:\n",
    "    result = fit_arima(train_series, order=candidate[\"order\"], seasonal_order=candidate[\"seasonal_order\"])\n",
    "    if result is None:\n",
    "        single_split_records.append({\"model_name\": candidate[\"name\"], \"MAE\": np.nan, \"RMSE\": np.nan, \"nRMSE\": np.nan})\n",
    "        continue\n",
    "\n",
    "    forecast_index = validation_df[\"timestamp\"].iloc[:forecast_horizon]\n",
    "    forecast = forecast_arima(result, horizon=forecast_horizon, index=forecast_index)\n",
    "    metrics = evaluate_forecast(validation_df[\"Demand\"].iloc[:forecast_horizon], forecast.values)\n",
    "    single_split_records.append({\"model_name\": candidate[\"name\"], **metrics})\n",
    "\n",
    "    pred_df = pd.DataFrame(\n",
    "        {\n",
    "            \"timestamp\": forecast_index,\n",
    "            \"y_true\": validation_df[\"Demand\"].iloc[:forecast_horizon].values,\n",
    "            \"y_pred\": forecast.values,\n",
    "            \"model_name\": candidate[\"name\"],\n",
    "        }\n",
    "    )\n",
    "    single_split_predictions.append(pred_df)\n",
    "\n",
    "single_split_metrics = pd.DataFrame(single_split_records)\n",
    "single_split_metrics[\"evaluation\"] = \"Whole-train split\"\n",
    "\n",
    "single_split_predictions_df = pd.concat(single_split_predictions, ignore_index=True)\n",
    "single_split_predictions_df.to_csv(TABLE_PATH / \"stats_single_split_predictions.csv\", index=False)\n",
    "single_split_metrics.to_csv(TABLE_PATH / \"model_candidates_metrics.csv\", index=False)\n",
    "\n",
    "single_split_metrics.sort_values(\"nRMSE\")\n"
   ]
  },
  {
   "cell_type": "markdown",
   "id": "96b95de5",
   "metadata": {},
   "source": [
    "**Metric definition.** We report MAE, RMSE, and normalized RMSE where\n",
    "\\(\text{nRMSE} = \text{RMSE} / (\\max(y) - \\min(y))\\). This scale-invariant metric follows the specification in Task 7."
   ]
  },
  {
   "cell_type": "markdown",
   "id": "871508d7",
   "metadata": {},
   "source": [
    "## Last-week daily walk-forward"
   ]
  },
  {
   "cell_type": "code",
   "execution_count": 15,
   "id": "5a4dddad",
   "metadata": {},
   "outputs": [
    {
     "name": "stderr",
     "output_type": "stream",
     "text": [
      "/Users/samuel/opt/anaconda3/envs/ML/lib/python3.10/site-packages/statsmodels/tsa/base/tsa_model.py:473: ValueWarning:\n",
      "\n",
      "No frequency information was provided, so inferred frequency H will be used.\n",
      "\n",
      "/Users/samuel/opt/anaconda3/envs/ML/lib/python3.10/site-packages/statsmodels/tsa/base/tsa_model.py:473: ValueWarning:\n",
      "\n",
      "No frequency information was provided, so inferred frequency H will be used.\n",
      "\n",
      "/Users/samuel/opt/anaconda3/envs/ML/lib/python3.10/site-packages/statsmodels/tsa/base/tsa_model.py:473: ValueWarning:\n",
      "\n",
      "No frequency information was provided, so inferred frequency H will be used.\n",
      "\n",
      "/Users/samuel/opt/anaconda3/envs/ML/lib/python3.10/site-packages/statsmodels/tsa/base/tsa_model.py:473: ValueWarning:\n",
      "\n",
      "No frequency information was provided, so inferred frequency H will be used.\n",
      "\n",
      "/Users/samuel/opt/anaconda3/envs/ML/lib/python3.10/site-packages/statsmodels/tsa/base/tsa_model.py:473: ValueWarning:\n",
      "\n",
      "No frequency information was provided, so inferred frequency H will be used.\n",
      "\n",
      "/Users/samuel/opt/anaconda3/envs/ML/lib/python3.10/site-packages/statsmodels/tsa/base/tsa_model.py:473: ValueWarning:\n",
      "\n",
      "No frequency information was provided, so inferred frequency H will be used.\n",
      "\n",
      "/Users/samuel/opt/anaconda3/envs/ML/lib/python3.10/site-packages/statsmodels/tsa/base/tsa_model.py:473: ValueWarning:\n",
      "\n",
      "No frequency information was provided, so inferred frequency H will be used.\n",
      "\n",
      "/Users/samuel/opt/anaconda3/envs/ML/lib/python3.10/site-packages/statsmodels/tsa/base/tsa_model.py:473: ValueWarning:\n",
      "\n",
      "No frequency information was provided, so inferred frequency H will be used.\n",
      "\n",
      "/Users/samuel/opt/anaconda3/envs/ML/lib/python3.10/site-packages/statsmodels/tsa/base/tsa_model.py:473: ValueWarning:\n",
      "\n",
      "No frequency information was provided, so inferred frequency H will be used.\n",
      "\n",
      "/Users/samuel/opt/anaconda3/envs/ML/lib/python3.10/site-packages/statsmodels/tsa/base/tsa_model.py:473: ValueWarning:\n",
      "\n",
      "No frequency information was provided, so inferred frequency H will be used.\n",
      "\n",
      "/Users/samuel/opt/anaconda3/envs/ML/lib/python3.10/site-packages/statsmodels/tsa/base/tsa_model.py:473: ValueWarning:\n",
      "\n",
      "No frequency information was provided, so inferred frequency H will be used.\n",
      "\n",
      "/Users/samuel/opt/anaconda3/envs/ML/lib/python3.10/site-packages/statsmodels/tsa/base/tsa_model.py:473: ValueWarning:\n",
      "\n",
      "No frequency information was provided, so inferred frequency H will be used.\n",
      "\n",
      "/Users/samuel/opt/anaconda3/envs/ML/lib/python3.10/site-packages/statsmodels/tsa/base/tsa_model.py:473: ValueWarning:\n",
      "\n",
      "No frequency information was provided, so inferred frequency H will be used.\n",
      "\n",
      "/Users/samuel/opt/anaconda3/envs/ML/lib/python3.10/site-packages/statsmodels/tsa/base/tsa_model.py:473: ValueWarning:\n",
      "\n",
      "No frequency information was provided, so inferred frequency H will be used.\n",
      "\n",
      "/Users/samuel/opt/anaconda3/envs/ML/lib/python3.10/site-packages/statsmodels/tsa/base/tsa_model.py:473: ValueWarning:\n",
      "\n",
      "No frequency information was provided, so inferred frequency H will be used.\n",
      "\n",
      "/Users/samuel/opt/anaconda3/envs/ML/lib/python3.10/site-packages/statsmodels/tsa/base/tsa_model.py:473: ValueWarning:\n",
      "\n",
      "No frequency information was provided, so inferred frequency H will be used.\n",
      "\n",
      "/Users/samuel/opt/anaconda3/envs/ML/lib/python3.10/site-packages/statsmodels/tsa/base/tsa_model.py:473: ValueWarning:\n",
      "\n",
      "No frequency information was provided, so inferred frequency H will be used.\n",
      "\n",
      "/Users/samuel/opt/anaconda3/envs/ML/lib/python3.10/site-packages/statsmodels/tsa/base/tsa_model.py:473: ValueWarning:\n",
      "\n",
      "No frequency information was provided, so inferred frequency H will be used.\n",
      "\n",
      "/Users/samuel/opt/anaconda3/envs/ML/lib/python3.10/site-packages/statsmodels/tsa/base/tsa_model.py:473: ValueWarning:\n",
      "\n",
      "No frequency information was provided, so inferred frequency H will be used.\n",
      "\n",
      "/Users/samuel/opt/anaconda3/envs/ML/lib/python3.10/site-packages/statsmodels/tsa/base/tsa_model.py:473: ValueWarning:\n",
      "\n",
      "No frequency information was provided, so inferred frequency H will be used.\n",
      "\n",
      "/Users/samuel/opt/anaconda3/envs/ML/lib/python3.10/site-packages/statsmodels/tsa/base/tsa_model.py:473: ValueWarning:\n",
      "\n",
      "No frequency information was provided, so inferred frequency H will be used.\n",
      "\n",
      "/Users/samuel/opt/anaconda3/envs/ML/lib/python3.10/site-packages/statsmodels/tsa/base/tsa_model.py:473: ValueWarning:\n",
      "\n",
      "No frequency information was provided, so inferred frequency H will be used.\n",
      "\n",
      "/Users/samuel/opt/anaconda3/envs/ML/lib/python3.10/site-packages/statsmodels/tsa/base/tsa_model.py:473: ValueWarning:\n",
      "\n",
      "No frequency information was provided, so inferred frequency H will be used.\n",
      "\n",
      "/Users/samuel/opt/anaconda3/envs/ML/lib/python3.10/site-packages/statsmodels/tsa/base/tsa_model.py:473: ValueWarning:\n",
      "\n",
      "No frequency information was provided, so inferred frequency H will be used.\n",
      "\n",
      "/Users/samuel/opt/anaconda3/envs/ML/lib/python3.10/site-packages/statsmodels/tsa/base/tsa_model.py:473: ValueWarning:\n",
      "\n",
      "No frequency information was provided, so inferred frequency H will be used.\n",
      "\n",
      "/Users/samuel/opt/anaconda3/envs/ML/lib/python3.10/site-packages/statsmodels/tsa/base/tsa_model.py:473: ValueWarning:\n",
      "\n",
      "No frequency information was provided, so inferred frequency H will be used.\n",
      "\n",
      "/Users/samuel/opt/anaconda3/envs/ML/lib/python3.10/site-packages/statsmodels/tsa/base/tsa_model.py:473: ValueWarning:\n",
      "\n",
      "No frequency information was provided, so inferred frequency H will be used.\n",
      "\n",
      "/Users/samuel/opt/anaconda3/envs/ML/lib/python3.10/site-packages/statsmodels/tsa/base/tsa_model.py:473: ValueWarning:\n",
      "\n",
      "No frequency information was provided, so inferred frequency H will be used.\n",
      "\n",
      "/Users/samuel/opt/anaconda3/envs/ML/lib/python3.10/site-packages/statsmodels/tsa/base/tsa_model.py:473: ValueWarning:\n",
      "\n",
      "No frequency information was provided, so inferred frequency H will be used.\n",
      "\n",
      "/Users/samuel/opt/anaconda3/envs/ML/lib/python3.10/site-packages/statsmodels/tsa/base/tsa_model.py:473: ValueWarning:\n",
      "\n",
      "No frequency information was provided, so inferred frequency H will be used.\n",
      "\n",
      "/Users/samuel/opt/anaconda3/envs/ML/lib/python3.10/site-packages/statsmodels/tsa/base/tsa_model.py:473: ValueWarning:\n",
      "\n",
      "No frequency information was provided, so inferred frequency H will be used.\n",
      "\n",
      "/Users/samuel/opt/anaconda3/envs/ML/lib/python3.10/site-packages/statsmodels/tsa/base/tsa_model.py:473: ValueWarning:\n",
      "\n",
      "No frequency information was provided, so inferred frequency H will be used.\n",
      "\n",
      "/Users/samuel/opt/anaconda3/envs/ML/lib/python3.10/site-packages/statsmodels/tsa/base/tsa_model.py:473: ValueWarning:\n",
      "\n",
      "No frequency information was provided, so inferred frequency H will be used.\n",
      "\n",
      "/Users/samuel/opt/anaconda3/envs/ML/lib/python3.10/site-packages/statsmodels/tsa/base/tsa_model.py:473: ValueWarning:\n",
      "\n",
      "No frequency information was provided, so inferred frequency H will be used.\n",
      "\n",
      "/Users/samuel/opt/anaconda3/envs/ML/lib/python3.10/site-packages/statsmodels/tsa/base/tsa_model.py:473: ValueWarning:\n",
      "\n",
      "No frequency information was provided, so inferred frequency H will be used.\n",
      "\n",
      "/Users/samuel/opt/anaconda3/envs/ML/lib/python3.10/site-packages/statsmodels/tsa/base/tsa_model.py:473: ValueWarning:\n",
      "\n",
      "No frequency information was provided, so inferred frequency H will be used.\n",
      "\n",
      "/Users/samuel/opt/anaconda3/envs/ML/lib/python3.10/site-packages/statsmodels/tsa/base/tsa_model.py:473: ValueWarning:\n",
      "\n",
      "No frequency information was provided, so inferred frequency H will be used.\n",
      "\n",
      "/Users/samuel/opt/anaconda3/envs/ML/lib/python3.10/site-packages/statsmodels/tsa/base/tsa_model.py:473: ValueWarning:\n",
      "\n",
      "No frequency information was provided, so inferred frequency H will be used.\n",
      "\n",
      "/Users/samuel/opt/anaconda3/envs/ML/lib/python3.10/site-packages/statsmodels/tsa/base/tsa_model.py:473: ValueWarning:\n",
      "\n",
      "No frequency information was provided, so inferred frequency H will be used.\n",
      "\n",
      "/Users/samuel/opt/anaconda3/envs/ML/lib/python3.10/site-packages/statsmodels/tsa/base/tsa_model.py:473: ValueWarning:\n",
      "\n",
      "No frequency information was provided, so inferred frequency H will be used.\n",
      "\n",
      "/Users/samuel/opt/anaconda3/envs/ML/lib/python3.10/site-packages/statsmodels/tsa/base/tsa_model.py:473: ValueWarning:\n",
      "\n",
      "No frequency information was provided, so inferred frequency H will be used.\n",
      "\n",
      "/Users/samuel/opt/anaconda3/envs/ML/lib/python3.10/site-packages/statsmodels/tsa/base/tsa_model.py:473: ValueWarning:\n",
      "\n",
      "No frequency information was provided, so inferred frequency H will be used.\n",
      "\n"
     ]
    },
    {
     "data": {
      "text/html": [
       "<div>\n",
       "<style scoped>\n",
       "    .dataframe tbody tr th:only-of-type {\n",
       "        vertical-align: middle;\n",
       "    }\n",
       "\n",
       "    .dataframe tbody tr th {\n",
       "        vertical-align: top;\n",
       "    }\n",
       "\n",
       "    .dataframe thead th {\n",
       "        text-align: right;\n",
       "    }\n",
       "</style>\n",
       "<table border=\"1\" class=\"dataframe\">\n",
       "  <thead>\n",
       "    <tr style=\"text-align: right;\">\n",
       "      <th></th>\n",
       "      <th>day_idx</th>\n",
       "      <th>MAE</th>\n",
       "      <th>RMSE</th>\n",
       "      <th>nRMSE</th>\n",
       "      <th>model_name</th>\n",
       "    </tr>\n",
       "  </thead>\n",
       "  <tbody>\n",
       "    <tr>\n",
       "      <th>0</th>\n",
       "      <td>1</td>\n",
       "      <td>0.219614</td>\n",
       "      <td>0.292238</td>\n",
       "      <td>0.247659</td>\n",
       "      <td>ARIMA(2,1,2)</td>\n",
       "    </tr>\n",
       "    <tr>\n",
       "      <th>1</th>\n",
       "      <td>2</td>\n",
       "      <td>0.198862</td>\n",
       "      <td>0.247114</td>\n",
       "      <td>0.268602</td>\n",
       "      <td>ARIMA(2,1,2)</td>\n",
       "    </tr>\n",
       "    <tr>\n",
       "      <th>2</th>\n",
       "      <td>3</td>\n",
       "      <td>0.204163</td>\n",
       "      <td>0.240069</td>\n",
       "      <td>0.300086</td>\n",
       "      <td>ARIMA(2,1,2)</td>\n",
       "    </tr>\n",
       "    <tr>\n",
       "      <th>3</th>\n",
       "      <td>4</td>\n",
       "      <td>0.394966</td>\n",
       "      <td>0.655675</td>\n",
       "      <td>0.302154</td>\n",
       "      <td>ARIMA(2,1,2)</td>\n",
       "    </tr>\n",
       "    <tr>\n",
       "      <th>4</th>\n",
       "      <td>5</td>\n",
       "      <td>0.182884</td>\n",
       "      <td>0.205684</td>\n",
       "      <td>0.380896</td>\n",
       "      <td>ARIMA(2,1,2)</td>\n",
       "    </tr>\n",
       "  </tbody>\n",
       "</table>\n",
       "</div>"
      ],
      "text/plain": [
       "   day_idx       MAE      RMSE     nRMSE    model_name\n",
       "0        1  0.219614  0.292238  0.247659  ARIMA(2,1,2)\n",
       "1        2  0.198862  0.247114  0.268602  ARIMA(2,1,2)\n",
       "2        3  0.204163  0.240069  0.300086  ARIMA(2,1,2)\n",
       "3        4  0.394966  0.655675  0.302154  ARIMA(2,1,2)\n",
       "4        5  0.182884  0.205684  0.380896  ARIMA(2,1,2)"
      ]
     },
     "execution_count": 15,
     "metadata": {},
     "output_type": "execute_result"
    }
   ],
   "source": [
    "walkforward_predictions_list = []\n",
    "walkforward_metrics_list = []\n",
    "\n",
    "for candidate in MODEL_CANDIDATES:\n",
    "    wf_pred, wf_metrics = walk_forward_daily(\n",
    "        demand_df,\n",
    "        target=\"Demand\",\n",
    "        days=7,\n",
    "        horizon=forecast_horizon,\n",
    "        order=candidate[\"order\"],\n",
    "        seasonal_order=candidate[\"seasonal_order\"],\n",
    "    )\n",
    "    if wf_pred.empty or wf_metrics.empty:\n",
    "        continue\n",
    "    wf_pred[\"model_name\"] = candidate[\"name\"]\n",
    "    wf_metrics[\"model_name\"] = candidate[\"name\"]\n",
    "    walkforward_predictions_list.append(wf_pred)\n",
    "    walkforward_metrics_list.append(wf_metrics)\n",
    "\n",
    "if walkforward_predictions_list:\n",
    "    walkforward_predictions_df = pd.concat(walkforward_predictions_list, ignore_index=True)\n",
    "else:\n",
    "    walkforward_predictions_df = pd.DataFrame(columns=[\"day_idx\", \"timestamp\", \"y_true\", \"y_pred\", \"model_name\"])\n",
    "\n",
    "if walkforward_metrics_list:\n",
    "    walkforward_metrics_df = pd.concat(walkforward_metrics_list, ignore_index=True)\n",
    "else:\n",
    "    walkforward_metrics_df = pd.DataFrame(columns=[\"day_idx\", \"MAE\", \"RMSE\", \"nRMSE\", \"model_name\"])\n",
    "\n",
    "walkforward_predictions_df.to_csv(TABLE_PATH / \"walkforward_predictions.csv\", index=False)\n",
    "walkforward_metrics_df.to_csv(TABLE_PATH / \"walkforward_per_day_metrics.csv\", index=False)\n",
    "\n",
    "walkforward_metrics_df.head()\n"
   ]
  },
  {
   "cell_type": "markdown",
   "id": "f29546bf",
   "metadata": {},
   "source": [
    "## Visual diagnostics"
   ]
  },
  {
   "cell_type": "code",
   "execution_count": 16,
   "id": "ca282098",
   "metadata": {},
   "outputs": [
    {
     "name": "stdout",
     "output_type": "stream",
     "text": [
      "Best model (whole-train nRMSE): SARIMA(2,1,1)(0,1,1,24)\n"
     ]
    },
    {
     "name": "stderr",
     "output_type": "stream",
     "text": [
      "WARNING\tThread(Thread-12 (run)) choreographer.browser_async:browser_async.py:_close()- Resorting to unclean kill browser.\n"
     ]
    },
    {
     "data": {
      "application/vnd.plotly.v1+json": {
       "config": {
        "plotlyServerURL": "https://plot.ly"
       },
       "data": [
        {
         "line": {
          "color": "#1f77b4",
          "width": 2
         },
         "marker": {
          "size": 6
         },
         "mode": "lines+markers",
         "name": "Observed",
         "type": "scatter",
         "x": [
          "2014-06-23T23:00:00",
          "2014-06-24T00:00:00",
          "2014-06-24T01:00:00",
          "2014-06-24T02:00:00",
          "2014-06-24T03:00:00",
          "2014-06-24T04:00:00",
          "2014-06-24T05:00:00",
          "2014-06-24T06:00:00",
          "2014-06-24T07:00:00",
          "2014-06-24T08:00:00",
          "2014-06-24T09:00:00",
          "2014-06-24T10:00:00",
          "2014-06-24T11:00:00",
          "2014-06-24T12:00:00",
          "2014-06-24T13:00:00",
          "2014-06-24T14:00:00",
          "2014-06-24T15:00:00",
          "2014-06-24T16:00:00",
          "2014-06-24T17:00:00",
          "2014-06-24T18:00:00",
          "2014-06-24T19:00:00",
          "2014-06-24T20:00:00",
          "2014-06-24T21:00:00",
          "2014-06-24T22:00:00"
         ],
         "y": {
          "bdata": "SOF6FK5H0T/sUbgehevRP7gehetRuM4/pHA9Ctej0D+PwvUoXI/SPx+F61G4HtU/SOF6FK5H0T8pXI/C9SjcPwAAAAAAAOA/KVyPwvUo5D8pXI/C9SjkP8P1KFyPwuU/7FG4HoXr4T+4HoXrUbj2P83MzMzMzPA/4XoUrkfh4j+kcD0K16PgP3E9CtejcO0/rkfhehSu5z+uR+F6FK7XP0jhehSuR+k/7FG4HoXr6T9mZmZmZmbWP+xRuB6F69E/",
          "dtype": "f8"
         }
        },
        {
         "line": {
          "color": "#FFA500",
          "dash": "dash",
          "width": 2
         },
         "marker": {
          "size": 6
         },
         "mode": "lines+markers",
         "name": "Forecast",
         "type": "scatter",
         "x": [
          "2014-06-23T23:00:00",
          "2014-06-24T00:00:00",
          "2014-06-24T01:00:00",
          "2014-06-24T02:00:00",
          "2014-06-24T03:00:00",
          "2014-06-24T04:00:00",
          "2014-06-24T05:00:00",
          "2014-06-24T06:00:00",
          "2014-06-24T07:00:00",
          "2014-06-24T08:00:00",
          "2014-06-24T09:00:00",
          "2014-06-24T10:00:00",
          "2014-06-24T11:00:00",
          "2014-06-24T12:00:00",
          "2014-06-24T13:00:00",
          "2014-06-24T14:00:00",
          "2014-06-24T15:00:00",
          "2014-06-24T16:00:00",
          "2014-06-24T17:00:00",
          "2014-06-24T18:00:00",
          "2014-06-24T19:00:00",
          "2014-06-24T20:00:00",
          "2014-06-24T21:00:00",
          "2014-06-24T22:00:00"
         ],
         "y": {
          "bdata": "GFKNqaH40j+fUUrkEITSP0cuXFu93NE/BOT6wLeU0T/KpOw/gy7RP8eEfoCfvNE/g5yODtN00z/doY9Qy3jXPwppGl2/neM/0mJc3evX5D/Lu8G1sNbnP2Li8devfuQ/RdJ//XqG4T/G0HJWdCPiP4tLlRYX8OI/St2jGt3R4T9uwWvs4mrhP6oyuXJeaeE/oDCxL8co4z8eh9u0iObiPzX8ll40h+U/FJclshCx5D9khbqxl7jhPyyFxDRcmN0/",
          "dtype": "f8"
         }
        }
       ],
       "layout": {
        "font": {
         "color": "#222",
         "family": "CMU Serif, 'Times New Roman', serif",
         "size": 14
        },
        "hovermode": "x unified",
        "legend": {
         "bgcolor": "rgba(255,255,255,0.85)",
         "bordercolor": "#d0d0d0",
         "borderwidth": 1
        },
        "margin": {
         "b": 50,
         "l": 70,
         "r": 30,
         "t": 60
        },
        "paper_bgcolor": "#ffffff",
        "plot_bgcolor": "#ffffff",
        "template": {
         "data": {
          "bar": [
           {
            "error_x": {
             "color": "#2a3f5f"
            },
            "error_y": {
             "color": "#2a3f5f"
            },
            "marker": {
             "line": {
              "color": "#E5ECF6",
              "width": 0.5
             },
             "pattern": {
              "fillmode": "overlay",
              "size": 10,
              "solidity": 0.2
             }
            },
            "type": "bar"
           }
          ],
          "barpolar": [
           {
            "marker": {
             "line": {
              "color": "#E5ECF6",
              "width": 0.5
             },
             "pattern": {
              "fillmode": "overlay",
              "size": 10,
              "solidity": 0.2
             }
            },
            "type": "barpolar"
           }
          ],
          "carpet": [
           {
            "aaxis": {
             "endlinecolor": "#2a3f5f",
             "gridcolor": "white",
             "linecolor": "white",
             "minorgridcolor": "white",
             "startlinecolor": "#2a3f5f"
            },
            "baxis": {
             "endlinecolor": "#2a3f5f",
             "gridcolor": "white",
             "linecolor": "white",
             "minorgridcolor": "white",
             "startlinecolor": "#2a3f5f"
            },
            "type": "carpet"
           }
          ],
          "choropleth": [
           {
            "colorbar": {
             "outlinewidth": 0,
             "ticks": ""
            },
            "type": "choropleth"
           }
          ],
          "contour": [
           {
            "colorbar": {
             "outlinewidth": 0,
             "ticks": ""
            },
            "colorscale": [
             [
              0,
              "#0d0887"
             ],
             [
              0.1111111111111111,
              "#46039f"
             ],
             [
              0.2222222222222222,
              "#7201a8"
             ],
             [
              0.3333333333333333,
              "#9c179e"
             ],
             [
              0.4444444444444444,
              "#bd3786"
             ],
             [
              0.5555555555555556,
              "#d8576b"
             ],
             [
              0.6666666666666666,
              "#ed7953"
             ],
             [
              0.7777777777777778,
              "#fb9f3a"
             ],
             [
              0.8888888888888888,
              "#fdca26"
             ],
             [
              1,
              "#f0f921"
             ]
            ],
            "type": "contour"
           }
          ],
          "contourcarpet": [
           {
            "colorbar": {
             "outlinewidth": 0,
             "ticks": ""
            },
            "type": "contourcarpet"
           }
          ],
          "heatmap": [
           {
            "colorbar": {
             "outlinewidth": 0,
             "ticks": ""
            },
            "colorscale": [
             [
              0,
              "#0d0887"
             ],
             [
              0.1111111111111111,
              "#46039f"
             ],
             [
              0.2222222222222222,
              "#7201a8"
             ],
             [
              0.3333333333333333,
              "#9c179e"
             ],
             [
              0.4444444444444444,
              "#bd3786"
             ],
             [
              0.5555555555555556,
              "#d8576b"
             ],
             [
              0.6666666666666666,
              "#ed7953"
             ],
             [
              0.7777777777777778,
              "#fb9f3a"
             ],
             [
              0.8888888888888888,
              "#fdca26"
             ],
             [
              1,
              "#f0f921"
             ]
            ],
            "type": "heatmap"
           }
          ],
          "histogram": [
           {
            "marker": {
             "pattern": {
              "fillmode": "overlay",
              "size": 10,
              "solidity": 0.2
             }
            },
            "type": "histogram"
           }
          ],
          "histogram2d": [
           {
            "colorbar": {
             "outlinewidth": 0,
             "ticks": ""
            },
            "colorscale": [
             [
              0,
              "#0d0887"
             ],
             [
              0.1111111111111111,
              "#46039f"
             ],
             [
              0.2222222222222222,
              "#7201a8"
             ],
             [
              0.3333333333333333,
              "#9c179e"
             ],
             [
              0.4444444444444444,
              "#bd3786"
             ],
             [
              0.5555555555555556,
              "#d8576b"
             ],
             [
              0.6666666666666666,
              "#ed7953"
             ],
             [
              0.7777777777777778,
              "#fb9f3a"
             ],
             [
              0.8888888888888888,
              "#fdca26"
             ],
             [
              1,
              "#f0f921"
             ]
            ],
            "type": "histogram2d"
           }
          ],
          "histogram2dcontour": [
           {
            "colorbar": {
             "outlinewidth": 0,
             "ticks": ""
            },
            "colorscale": [
             [
              0,
              "#0d0887"
             ],
             [
              0.1111111111111111,
              "#46039f"
             ],
             [
              0.2222222222222222,
              "#7201a8"
             ],
             [
              0.3333333333333333,
              "#9c179e"
             ],
             [
              0.4444444444444444,
              "#bd3786"
             ],
             [
              0.5555555555555556,
              "#d8576b"
             ],
             [
              0.6666666666666666,
              "#ed7953"
             ],
             [
              0.7777777777777778,
              "#fb9f3a"
             ],
             [
              0.8888888888888888,
              "#fdca26"
             ],
             [
              1,
              "#f0f921"
             ]
            ],
            "type": "histogram2dcontour"
           }
          ],
          "mesh3d": [
           {
            "colorbar": {
             "outlinewidth": 0,
             "ticks": ""
            },
            "type": "mesh3d"
           }
          ],
          "parcoords": [
           {
            "line": {
             "colorbar": {
              "outlinewidth": 0,
              "ticks": ""
             }
            },
            "type": "parcoords"
           }
          ],
          "pie": [
           {
            "automargin": true,
            "type": "pie"
           }
          ],
          "scatter": [
           {
            "fillpattern": {
             "fillmode": "overlay",
             "size": 10,
             "solidity": 0.2
            },
            "type": "scatter"
           }
          ],
          "scatter3d": [
           {
            "line": {
             "colorbar": {
              "outlinewidth": 0,
              "ticks": ""
             }
            },
            "marker": {
             "colorbar": {
              "outlinewidth": 0,
              "ticks": ""
             }
            },
            "type": "scatter3d"
           }
          ],
          "scattercarpet": [
           {
            "marker": {
             "colorbar": {
              "outlinewidth": 0,
              "ticks": ""
             }
            },
            "type": "scattercarpet"
           }
          ],
          "scattergeo": [
           {
            "marker": {
             "colorbar": {
              "outlinewidth": 0,
              "ticks": ""
             }
            },
            "type": "scattergeo"
           }
          ],
          "scattergl": [
           {
            "marker": {
             "colorbar": {
              "outlinewidth": 0,
              "ticks": ""
             }
            },
            "type": "scattergl"
           }
          ],
          "scattermap": [
           {
            "marker": {
             "colorbar": {
              "outlinewidth": 0,
              "ticks": ""
             }
            },
            "type": "scattermap"
           }
          ],
          "scattermapbox": [
           {
            "marker": {
             "colorbar": {
              "outlinewidth": 0,
              "ticks": ""
             }
            },
            "type": "scattermapbox"
           }
          ],
          "scatterpolar": [
           {
            "marker": {
             "colorbar": {
              "outlinewidth": 0,
              "ticks": ""
             }
            },
            "type": "scatterpolar"
           }
          ],
          "scatterpolargl": [
           {
            "marker": {
             "colorbar": {
              "outlinewidth": 0,
              "ticks": ""
             }
            },
            "type": "scatterpolargl"
           }
          ],
          "scatterternary": [
           {
            "marker": {
             "colorbar": {
              "outlinewidth": 0,
              "ticks": ""
             }
            },
            "type": "scatterternary"
           }
          ],
          "surface": [
           {
            "colorbar": {
             "outlinewidth": 0,
             "ticks": ""
            },
            "colorscale": [
             [
              0,
              "#0d0887"
             ],
             [
              0.1111111111111111,
              "#46039f"
             ],
             [
              0.2222222222222222,
              "#7201a8"
             ],
             [
              0.3333333333333333,
              "#9c179e"
             ],
             [
              0.4444444444444444,
              "#bd3786"
             ],
             [
              0.5555555555555556,
              "#d8576b"
             ],
             [
              0.6666666666666666,
              "#ed7953"
             ],
             [
              0.7777777777777778,
              "#fb9f3a"
             ],
             [
              0.8888888888888888,
              "#fdca26"
             ],
             [
              1,
              "#f0f921"
             ]
            ],
            "type": "surface"
           }
          ],
          "table": [
           {
            "cells": {
             "fill": {
              "color": "#EBF0F8"
             },
             "line": {
              "color": "white"
             }
            },
            "header": {
             "fill": {
              "color": "#C8D4E3"
             },
             "line": {
              "color": "white"
             }
            },
            "type": "table"
           }
          ]
         },
         "layout": {
          "annotationdefaults": {
           "arrowcolor": "#2a3f5f",
           "arrowhead": 0,
           "arrowwidth": 1
          },
          "autotypenumbers": "strict",
          "coloraxis": {
           "colorbar": {
            "outlinewidth": 0,
            "ticks": ""
           }
          },
          "colorscale": {
           "diverging": [
            [
             0,
             "#8e0152"
            ],
            [
             0.1,
             "#c51b7d"
            ],
            [
             0.2,
             "#de77ae"
            ],
            [
             0.3,
             "#f1b6da"
            ],
            [
             0.4,
             "#fde0ef"
            ],
            [
             0.5,
             "#f7f7f7"
            ],
            [
             0.6,
             "#e6f5d0"
            ],
            [
             0.7,
             "#b8e186"
            ],
            [
             0.8,
             "#7fbc41"
            ],
            [
             0.9,
             "#4d9221"
            ],
            [
             1,
             "#276419"
            ]
           ],
           "sequential": [
            [
             0,
             "#0d0887"
            ],
            [
             0.1111111111111111,
             "#46039f"
            ],
            [
             0.2222222222222222,
             "#7201a8"
            ],
            [
             0.3333333333333333,
             "#9c179e"
            ],
            [
             0.4444444444444444,
             "#bd3786"
            ],
            [
             0.5555555555555556,
             "#d8576b"
            ],
            [
             0.6666666666666666,
             "#ed7953"
            ],
            [
             0.7777777777777778,
             "#fb9f3a"
            ],
            [
             0.8888888888888888,
             "#fdca26"
            ],
            [
             1,
             "#f0f921"
            ]
           ],
           "sequentialminus": [
            [
             0,
             "#0d0887"
            ],
            [
             0.1111111111111111,
             "#46039f"
            ],
            [
             0.2222222222222222,
             "#7201a8"
            ],
            [
             0.3333333333333333,
             "#9c179e"
            ],
            [
             0.4444444444444444,
             "#bd3786"
            ],
            [
             0.5555555555555556,
             "#d8576b"
            ],
            [
             0.6666666666666666,
             "#ed7953"
            ],
            [
             0.7777777777777778,
             "#fb9f3a"
            ],
            [
             0.8888888888888888,
             "#fdca26"
            ],
            [
             1,
             "#f0f921"
            ]
           ]
          },
          "colorway": [
           "#636efa",
           "#EF553B",
           "#00cc96",
           "#ab63fa",
           "#FFA15A",
           "#19d3f3",
           "#FF6692",
           "#B6E880",
           "#FF97FF",
           "#FECB52"
          ],
          "font": {
           "color": "#2a3f5f"
          },
          "geo": {
           "bgcolor": "white",
           "lakecolor": "white",
           "landcolor": "#E5ECF6",
           "showlakes": true,
           "showland": true,
           "subunitcolor": "white"
          },
          "hoverlabel": {
           "align": "left"
          },
          "hovermode": "closest",
          "mapbox": {
           "style": "light"
          },
          "paper_bgcolor": "white",
          "plot_bgcolor": "#E5ECF6",
          "polar": {
           "angularaxis": {
            "gridcolor": "white",
            "linecolor": "white",
            "ticks": ""
           },
           "bgcolor": "#E5ECF6",
           "radialaxis": {
            "gridcolor": "white",
            "linecolor": "white",
            "ticks": ""
           }
          },
          "scene": {
           "xaxis": {
            "backgroundcolor": "#E5ECF6",
            "gridcolor": "white",
            "gridwidth": 2,
            "linecolor": "white",
            "showbackground": true,
            "ticks": "",
            "zerolinecolor": "white"
           },
           "yaxis": {
            "backgroundcolor": "#E5ECF6",
            "gridcolor": "white",
            "gridwidth": 2,
            "linecolor": "white",
            "showbackground": true,
            "ticks": "",
            "zerolinecolor": "white"
           },
           "zaxis": {
            "backgroundcolor": "#E5ECF6",
            "gridcolor": "white",
            "gridwidth": 2,
            "linecolor": "white",
            "showbackground": true,
            "ticks": "",
            "zerolinecolor": "white"
           }
          },
          "shapedefaults": {
           "line": {
            "color": "#2a3f5f"
           }
          },
          "ternary": {
           "aaxis": {
            "gridcolor": "white",
            "linecolor": "white",
            "ticks": ""
           },
           "baxis": {
            "gridcolor": "white",
            "linecolor": "white",
            "ticks": ""
           },
           "bgcolor": "#E5ECF6",
           "caxis": {
            "gridcolor": "white",
            "linecolor": "white",
            "ticks": ""
           }
          },
          "title": {
           "x": 0.05
          },
          "xaxis": {
           "automargin": true,
           "gridcolor": "white",
           "linecolor": "white",
           "ticks": "",
           "title": {
            "standoff": 15
           },
           "zerolinecolor": "white",
           "zerolinewidth": 2
          },
          "yaxis": {
           "automargin": true,
           "gridcolor": "white",
           "linecolor": "white",
           "ticks": "",
           "title": {
            "standoff": 15
           },
           "zerolinecolor": "white",
           "zerolinewidth": 2
          }
         }
        },
        "title": {
         "text": "Validation forecast overlay – SARIMA(2,1,1)(0,1,1,24)"
        },
        "xaxis": {
         "gridcolor": "#e5e5e5",
         "showgrid": true,
         "title": {
          "text": "Timestamp"
         },
         "zeroline": false
        },
        "yaxis": {
         "gridcolor": "#e5e5e5",
         "showgrid": true,
         "title": {
          "text": "Demand (kW)"
         },
         "zeroline": false
        }
       }
      }
     },
     "metadata": {},
     "output_type": "display_data"
    }
   ],
   "source": [
    "# Select the best model based on lowest nRMSE from the whole-train split\n",
    "best_model_name = single_split_metrics.sort_values(\"nRMSE\").iloc[0][\"model_name\"]\n",
    "print(f\"Best model (whole-train nRMSE): {best_model_name}\")\n",
    "\n",
    "best_single_split = single_split_predictions_df[single_split_predictions_df[\"model_name\"] == best_model_name]\n",
    "fig_forecast = plot_forecast_overlay(\n",
    "    best_single_split,\n",
    "    title=f\"Validation forecast overlay – {best_model_name}\",\n",
    "    style=\"academic\",\n",
    ")\n",
    "save_figure(fig_forecast, \"stats_forecast_overlay_best\", width=1100, height=600)\n",
    "fig_forecast\n"
   ]
  },
  {
   "cell_type": "code",
   "execution_count": 17,
   "id": "eb9dd082",
   "metadata": {},
   "outputs": [
    {
     "data": {
      "application/vnd.plotly.v1+json": {
       "config": {
        "plotlyServerURL": "https://plot.ly"
       },
       "data": [
        {
         "line": {
          "color": "#1f77b4",
          "width": 2
         },
         "mode": "lines",
         "name": "Observed 1",
         "showlegend": false,
         "type": "scatter",
         "x": [
          "2014-06-24T00:00:00",
          "2014-06-24T01:00:00",
          "2014-06-24T02:00:00",
          "2014-06-24T03:00:00",
          "2014-06-24T04:00:00",
          "2014-06-24T05:00:00",
          "2014-06-24T06:00:00",
          "2014-06-24T07:00:00",
          "2014-06-24T08:00:00",
          "2014-06-24T09:00:00",
          "2014-06-24T10:00:00",
          "2014-06-24T11:00:00",
          "2014-06-24T12:00:00",
          "2014-06-24T13:00:00",
          "2014-06-24T14:00:00",
          "2014-06-24T15:00:00",
          "2014-06-24T16:00:00",
          "2014-06-24T17:00:00",
          "2014-06-24T18:00:00",
          "2014-06-24T19:00:00",
          "2014-06-24T20:00:00",
          "2014-06-24T21:00:00",
          "2014-06-24T22:00:00",
          "2014-06-24T23:00:00"
         ],
         "xaxis": "x",
         "y": {
          "bdata": "7FG4HoXr0T+4HoXrUbjOP6RwPQrXo9A/j8L1KFyP0j8fhetRuB7VP0jhehSuR9E/KVyPwvUo3D8AAAAAAADgPylcj8L1KOQ/KVyPwvUo5D/D9Shcj8LlP+xRuB6F6+E/uB6F61G49j/NzMzMzMzwP+F6FK5H4eI/pHA9Ctej4D9xPQrXo3DtP65H4XoUruc/rkfhehSu1z9I4XoUrkfpP+xRuB6F6+k/ZmZmZmZm1j/sUbgehevRP0jhehSuR9E/",
          "dtype": "f8"
         },
         "yaxis": "y"
        },
        {
         "line": {
          "color": "#FFA500",
          "dash": "dash",
          "width": 2
         },
         "mode": "lines",
         "name": "Forecast 1",
         "showlegend": false,
         "type": "scatter",
         "x": [
          "2014-06-24T00:00:00",
          "2014-06-24T01:00:00",
          "2014-06-24T02:00:00",
          "2014-06-24T03:00:00",
          "2014-06-24T04:00:00",
          "2014-06-24T05:00:00",
          "2014-06-24T06:00:00",
          "2014-06-24T07:00:00",
          "2014-06-24T08:00:00",
          "2014-06-24T09:00:00",
          "2014-06-24T10:00:00",
          "2014-06-24T11:00:00",
          "2014-06-24T12:00:00",
          "2014-06-24T13:00:00",
          "2014-06-24T14:00:00",
          "2014-06-24T15:00:00",
          "2014-06-24T16:00:00",
          "2014-06-24T17:00:00",
          "2014-06-24T18:00:00",
          "2014-06-24T19:00:00",
          "2014-06-24T20:00:00",
          "2014-06-24T21:00:00",
          "2014-06-24T22:00:00",
          "2014-06-24T23:00:00"
         ],
         "xaxis": "x",
         "y": {
          "bdata": "0E5GB7680T+AOzrS5pHRP6i8FNrQc9E/qDpf4lQZ0T/5t2hvV6rRPzSz+6swY9M/4vPx/kln1z8pb05+AZXjPw6V+iswz+Q/uXZoivLN5z/Ofwgz9XXkP59ppBW+feE/JoZu3bYa4j+jG//4WOfiP5i0K2YiyeE/sLb98Sdi4T/3/eAOo2DhP8Z1NE4MIOM/rfCup9Dd4j84qW59eX7lP1JY8fNVqOQ/95cIm92v4T99A95k54bdP2A4TqeUgdc/",
          "dtype": "f8"
         },
         "yaxis": "y"
        },
        {
         "line": {
          "color": "#1f77b4",
          "width": 2
         },
         "mode": "lines",
         "name": "Observed 2",
         "showlegend": false,
         "type": "scatter",
         "x": [
          "2014-06-25T00:00:00",
          "2014-06-25T01:00:00",
          "2014-06-25T02:00:00",
          "2014-06-25T03:00:00",
          "2014-06-25T04:00:00",
          "2014-06-25T05:00:00",
          "2014-06-25T06:00:00",
          "2014-06-25T07:00:00",
          "2014-06-25T08:00:00",
          "2014-06-25T09:00:00",
          "2014-06-25T10:00:00",
          "2014-06-25T11:00:00",
          "2014-06-25T12:00:00",
          "2014-06-25T13:00:00",
          "2014-06-25T14:00:00",
          "2014-06-25T15:00:00",
          "2014-06-25T16:00:00",
          "2014-06-25T17:00:00",
          "2014-06-25T18:00:00",
          "2014-06-25T19:00:00",
          "2014-06-25T20:00:00",
          "2014-06-25T21:00:00",
          "2014-06-25T22:00:00",
          "2014-06-25T23:00:00"
         ],
         "xaxis": "x2",
         "y": {
          "bdata": "7FG4HoXr0T8AAAAAAADQP0jhehSuR9E/j8L1KFyP0j+4HoXrUbjOPwrXo3A9Ctc/7FG4HoXr0T9I4XoUrkfRP3E9CtejcOU/ZmZmZmZm1j8K16NwPQrXPylcj8L1KNw/MzMzMzMz0z8zMzMzMzPjPxSuR+F6FPI/j8L1KFyP8j9SuB6F61HYP1yPwvUoXN8/w/UoXI/C1T8UrkfhehTmP9ejcD0K1+M/hetRuB6F4z/sUbgehevRP0jhehSuR9E/",
          "dtype": "f8"
         },
         "yaxis": "y2"
        },
        {
         "line": {
          "color": "#FFA500",
          "dash": "dash",
          "width": 2
         },
         "mode": "lines",
         "name": "Forecast 2",
         "showlegend": false,
         "type": "scatter",
         "x": [
          "2014-06-25T00:00:00",
          "2014-06-25T01:00:00",
          "2014-06-25T02:00:00",
          "2014-06-25T03:00:00",
          "2014-06-25T04:00:00",
          "2014-06-25T05:00:00",
          "2014-06-25T06:00:00",
          "2014-06-25T07:00:00",
          "2014-06-25T08:00:00",
          "2014-06-25T09:00:00",
          "2014-06-25T10:00:00",
          "2014-06-25T11:00:00",
          "2014-06-25T12:00:00",
          "2014-06-25T13:00:00",
          "2014-06-25T14:00:00",
          "2014-06-25T15:00:00",
          "2014-06-25T16:00:00",
          "2014-06-25T17:00:00",
          "2014-06-25T18:00:00",
          "2014-06-25T19:00:00",
          "2014-06-25T20:00:00",
          "2014-06-25T21:00:00",
          "2014-06-25T22:00:00",
          "2014-06-25T23:00:00"
         ],
         "xaxis": "x2",
         "y": {
          "bdata": "ADL0jdWd0j8khnxeKtDSPyol30gW3NI/vtRdOhCY0j8quQPceTfTP+d2yVCb0NQ/DSZJBsv82D/HwUgoVj3kP+wFBD98hOU/VF6N0n136D/MGFr+KjTlP7qBntIKPOI/NmBVxlZ24z/XMu/NHfvjPyQbbCJOhuI/k0Xjzj4V4j/R/BCW8l7iP4YWacyx8eM/aCS6y+hl4z8wi3dnpUvmP9TFCxbGfeU/iNri364/4j/01Ybh4a/eP3x+X4Swzdg/",
          "dtype": "f8"
         },
         "yaxis": "y2"
        },
        {
         "line": {
          "color": "#1f77b4",
          "width": 2
         },
         "mode": "lines",
         "name": "Observed 3",
         "showlegend": false,
         "type": "scatter",
         "x": [
          "2014-06-26T00:00:00",
          "2014-06-26T01:00:00",
          "2014-06-26T02:00:00",
          "2014-06-26T03:00:00",
          "2014-06-26T04:00:00",
          "2014-06-26T05:00:00",
          "2014-06-26T06:00:00",
          "2014-06-26T07:00:00",
          "2014-06-26T08:00:00",
          "2014-06-26T09:00:00",
          "2014-06-26T10:00:00",
          "2014-06-26T11:00:00",
          "2014-06-26T12:00:00",
          "2014-06-26T13:00:00",
          "2014-06-26T14:00:00",
          "2014-06-26T15:00:00",
          "2014-06-26T16:00:00",
          "2014-06-26T17:00:00",
          "2014-06-26T18:00:00",
          "2014-06-26T19:00:00",
          "2014-06-26T20:00:00",
          "2014-06-26T21:00:00",
          "2014-06-26T22:00:00",
          "2014-06-26T23:00:00"
         ],
         "xaxis": "x3",
         "y": {
          "bdata": "H4XrUbge1T9I4XoUrkfRP+xRuB6F69E/pHA9Ctej0D+kcD0K16PQP0jhehSuR9E/rkfhehSu1z/sUbgehevpP83MzMzMzOQ/9ihcj8L18D+4HoXrUbjuP9ejcD0K19M/mpmZmZmZ2T+uR+F6FK7XP+F6FK5H4eI/KVyPwvUo3D97FK5H4XrsPzMzMzMzM+M/hetRuB6F4z9SuB6F61HoP1K4HoXrUeg/j8L1KFyP4j+PwvUoXI/SP4/C9Shcj9I/",
          "dtype": "f8"
         },
         "yaxis": "y3"
        },
        {
         "line": {
          "color": "#FFA500",
          "dash": "dash",
          "width": 2
         },
         "mode": "lines",
         "name": "Forecast 3",
         "showlegend": false,
         "type": "scatter",
         "x": [
          "2014-06-26T00:00:00",
          "2014-06-26T01:00:00",
          "2014-06-26T02:00:00",
          "2014-06-26T03:00:00",
          "2014-06-26T04:00:00",
          "2014-06-26T05:00:00",
          "2014-06-26T06:00:00",
          "2014-06-26T07:00:00",
          "2014-06-26T08:00:00",
          "2014-06-26T09:00:00",
          "2014-06-26T10:00:00",
          "2014-06-26T11:00:00",
          "2014-06-26T12:00:00",
          "2014-06-26T13:00:00",
          "2014-06-26T14:00:00",
          "2014-06-26T15:00:00",
          "2014-06-26T16:00:00",
          "2014-06-26T17:00:00",
          "2014-06-26T18:00:00",
          "2014-06-26T19:00:00",
          "2014-06-26T20:00:00",
          "2014-06-26T21:00:00",
          "2014-06-26T22:00:00",
          "2014-06-26T23:00:00"
         ],
         "xaxis": "x3",
         "y": {
          "bdata": "jkxcsZdv0T+iNzWmuRLRPxDnA5LS/NA/hmIvw2K20D9YNulsaTzRP+SlSIgc+NI/HnMdrULu1j8YzaURDAjjPyWPrdhBleQ/1OyEcAQ35z/0lSGTMxDkPyCHEEqGMuE/Qnr7HgxJ4j/o5w7hNQHjPzgIWuLY/uE/7PjA4leV4T/hnRU5eEzhPzz/YBEG7OI/c7ax0DFP4j/X7odHQV3lPyOi8clch+Q/EghBEVBc4T/dJErazY/cP4yq8iRGx9Y/",
          "dtype": "f8"
         },
         "yaxis": "y3"
        },
        {
         "line": {
          "color": "#1f77b4",
          "width": 2
         },
         "mode": "lines",
         "name": "Observed 4",
         "showlegend": false,
         "type": "scatter",
         "x": [
          "2014-06-27T00:00:00",
          "2014-06-27T01:00:00",
          "2014-06-27T02:00:00",
          "2014-06-27T03:00:00",
          "2014-06-27T04:00:00",
          "2014-06-27T05:00:00",
          "2014-06-27T06:00:00",
          "2014-06-27T07:00:00",
          "2014-06-27T08:00:00",
          "2014-06-27T09:00:00",
          "2014-06-27T10:00:00",
          "2014-06-27T11:00:00",
          "2014-06-27T12:00:00",
          "2014-06-27T13:00:00",
          "2014-06-27T14:00:00",
          "2014-06-27T15:00:00",
          "2014-06-27T16:00:00",
          "2014-06-27T17:00:00",
          "2014-06-27T18:00:00",
          "2014-06-27T19:00:00",
          "2014-06-27T20:00:00",
          "2014-06-27T21:00:00",
          "2014-06-27T22:00:00",
          "2014-06-27T23:00:00"
         ],
         "xaxis": "x4",
         "y": {
          "bdata": "pHA9Ctej0D/sUbgehevRPzMzMzMzM9M/pHA9Ctej0D9cj8L1KFznP3E9CtejcOU/zczMzMzM3D8AAAAAAAD4P7gehetRuPI/mpmZmZmZ4T+kcD0K16PgPx+F61G4HuU/7FG4HoXr9T9xPQrXo3ADQBSuR+F6FOY/cT0K16Nw3T97FK5H4XrkPxSuR+F6FOY/MzMzMzMzA0B7FK5H4XrwPxSuR+F6FOY/16NwPQrX4z8zMzMzMzPjPx+F61G4HtU/",
          "dtype": "f8"
         },
         "yaxis": "y4"
        },
        {
         "line": {
          "color": "#FFA500",
          "dash": "dash",
          "width": 2
         },
         "mode": "lines",
         "name": "Forecast 4",
         "showlegend": false,
         "type": "scatter",
         "x": [
          "2014-06-27T00:00:00",
          "2014-06-27T01:00:00",
          "2014-06-27T02:00:00",
          "2014-06-27T03:00:00",
          "2014-06-27T04:00:00",
          "2014-06-27T05:00:00",
          "2014-06-27T06:00:00",
          "2014-06-27T07:00:00",
          "2014-06-27T08:00:00",
          "2014-06-27T09:00:00",
          "2014-06-27T10:00:00",
          "2014-06-27T11:00:00",
          "2014-06-27T12:00:00",
          "2014-06-27T13:00:00",
          "2014-06-27T14:00:00",
          "2014-06-27T15:00:00",
          "2014-06-27T16:00:00",
          "2014-06-27T17:00:00",
          "2014-06-27T18:00:00",
          "2014-06-27T19:00:00",
          "2014-06-27T20:00:00",
          "2014-06-27T21:00:00",
          "2014-06-27T22:00:00",
          "2014-06-27T23:00:00"
         ],
         "xaxis": "x4",
         "y": {
          "bdata": "0vku/CJx0j/8Toneu8/RP94oOnnKrdE/SJwlOQdd0T/BU57syN7RP8WBdjf1k9M/4edYnfuX1z9vtt9lWYLjP3IxZZSL6uQ/ncvphp/G5z+/XK5+GaLkP8eZbI8jXOE/irDe7wJ84j9SzvswJyrjP1Moy2FOWOI/ls6LaofV4T+xaIeWfeDhP9C+uvVIQuM/ht49glKt4j8f9ZzyvMLlP6yVyNC58eQ/uiJbD5G44T+c5prtSQHdP6J5jfk2WNc/",
          "dtype": "f8"
         },
         "yaxis": "y4"
        },
        {
         "line": {
          "color": "#1f77b4",
          "width": 2
         },
         "mode": "lines",
         "name": "Observed 5",
         "showlegend": false,
         "type": "scatter",
         "x": [
          "2014-06-28T00:00:00",
          "2014-06-28T01:00:00",
          "2014-06-28T02:00:00",
          "2014-06-28T03:00:00",
          "2014-06-28T04:00:00",
          "2014-06-28T05:00:00",
          "2014-06-28T06:00:00",
          "2014-06-28T07:00:00",
          "2014-06-28T08:00:00",
          "2014-06-28T09:00:00",
          "2014-06-28T10:00:00",
          "2014-06-28T11:00:00",
          "2014-06-28T12:00:00",
          "2014-06-28T13:00:00",
          "2014-06-28T14:00:00",
          "2014-06-28T15:00:00",
          "2014-06-28T16:00:00",
          "2014-06-28T17:00:00",
          "2014-06-28T18:00:00",
          "2014-06-28T19:00:00",
          "2014-06-28T20:00:00",
          "2014-06-28T21:00:00",
          "2014-06-28T22:00:00",
          "2014-06-28T23:00:00"
         ],
         "xaxis": "x5",
         "y": {
          "bdata": "H4XrUbge1T97FK5H4XrUP0jhehSuR9E/j8L1KFyP0j8zMzMzMzPTP0jhehSuR9E/j8L1KFyP0j/2KFyPwvXgPx+F61G4HtU/mpmZmZmZ4T+amZmZmZnpP3E9CtejcN0/CtejcD0K1z/sUbgehevRP4/C9Shcj9I/pHA9Ctej0D9I4XoUrkfRP5qZmZmZmeE/PQrXo3A92j89CtejcD3aPx+F61G4HuU/16NwPQrX4z/hehSuR+HaP+xRuB6F69E/",
          "dtype": "f8"
         },
         "yaxis": "y5"
        },
        {
         "line": {
          "color": "#FFA500",
          "dash": "dash",
          "width": 2
         },
         "mode": "lines",
         "name": "Forecast 5",
         "showlegend": false,
         "type": "scatter",
         "x": [
          "2014-06-28T00:00:00",
          "2014-06-28T01:00:00",
          "2014-06-28T02:00:00",
          "2014-06-28T03:00:00",
          "2014-06-28T04:00:00",
          "2014-06-28T05:00:00",
          "2014-06-28T06:00:00",
          "2014-06-28T07:00:00",
          "2014-06-28T08:00:00",
          "2014-06-28T09:00:00",
          "2014-06-28T10:00:00",
          "2014-06-28T11:00:00",
          "2014-06-28T12:00:00",
          "2014-06-28T13:00:00",
          "2014-06-28T14:00:00",
          "2014-06-28T15:00:00",
          "2014-06-28T16:00:00",
          "2014-06-28T17:00:00",
          "2014-06-28T18:00:00",
          "2014-06-28T19:00:00",
          "2014-06-28T20:00:00",
          "2014-06-28T21:00:00",
          "2014-06-28T22:00:00",
          "2014-06-28T23:00:00"
         ],
         "xaxis": "x5",
         "y": {
          "bdata": "F1XrZe7/1z+rvQmi7KXZP0Oi1ldZWdo/MG8AOns12j+d8CUCV2zbP2LJD8vmBN0/vgdeSmFR4D/wMmNQoZroP2agDVyBwek/poC8kE8Z7D/uh0RZRQbpP+xAEOpi6eU/SxZ3GMyB5z+k3OYyhOvoPzh/xP195+Y/mnTaF6U95j+5NLPYSmjmP6/0s0fazOc/4l4S10t26D9UiVoHg3zqP+OJl7Gocuk/07O6QpFA5j/Rj5wTVBfjP+wztBMsIOA/",
          "dtype": "f8"
         },
         "yaxis": "y5"
        },
        {
         "line": {
          "color": "#1f77b4",
          "width": 2
         },
         "mode": "lines",
         "name": "Observed 6",
         "showlegend": false,
         "type": "scatter",
         "x": [
          "2014-06-29T00:00:00",
          "2014-06-29T01:00:00",
          "2014-06-29T02:00:00",
          "2014-06-29T03:00:00",
          "2014-06-29T04:00:00",
          "2014-06-29T05:00:00",
          "2014-06-29T06:00:00",
          "2014-06-29T07:00:00",
          "2014-06-29T08:00:00",
          "2014-06-29T09:00:00",
          "2014-06-29T10:00:00",
          "2014-06-29T11:00:00",
          "2014-06-29T12:00:00",
          "2014-06-29T13:00:00",
          "2014-06-29T14:00:00",
          "2014-06-29T15:00:00",
          "2014-06-29T16:00:00",
          "2014-06-29T17:00:00",
          "2014-06-29T18:00:00",
          "2014-06-29T19:00:00",
          "2014-06-29T20:00:00",
          "2014-06-29T21:00:00",
          "2014-06-29T22:00:00",
          "2014-06-29T23:00:00"
         ],
         "xaxis": "x6",
         "y": {
          "bdata": "j8L1KFyP0j/sUbgehevRP65H4XoUrtc/SOF6FK5H0T/sUbgehevRP6RwPQrXo9A/SOF6FK5H0T/Xo3A9CtfTP/YoXI/C9eA/PQrXo3A92j+4HoXrUbjmP4/C9Shcj9I/MzMzMzMz0z/sUbgehevRP6RwPQrXo9A/SOF6FK5H0T+amZmZmZnpP65H4XoUru8/uB6F61G43j8pXI/C9SjkP4XrUbgeheM/hetRuB6F2z9I4XoUrkfRP7gehetRuM4/",
          "dtype": "f8"
         },
         "yaxis": "y6"
        },
        {
         "line": {
          "color": "#FFA500",
          "dash": "dash",
          "width": 2
         },
         "mode": "lines",
         "name": "Forecast 6",
         "showlegend": false,
         "type": "scatter",
         "x": [
          "2014-06-29T00:00:00",
          "2014-06-29T01:00:00",
          "2014-06-29T02:00:00",
          "2014-06-29T03:00:00",
          "2014-06-29T04:00:00",
          "2014-06-29T05:00:00",
          "2014-06-29T06:00:00",
          "2014-06-29T07:00:00",
          "2014-06-29T08:00:00",
          "2014-06-29T09:00:00",
          "2014-06-29T10:00:00",
          "2014-06-29T11:00:00",
          "2014-06-29T12:00:00",
          "2014-06-29T13:00:00",
          "2014-06-29T14:00:00",
          "2014-06-29T15:00:00",
          "2014-06-29T16:00:00",
          "2014-06-29T17:00:00",
          "2014-06-29T18:00:00",
          "2014-06-29T19:00:00",
          "2014-06-29T20:00:00",
          "2014-06-29T21:00:00",
          "2014-06-29T22:00:00",
          "2014-06-29T23:00:00"
         ],
         "xaxis": "x6",
         "y": {
          "bdata": "4KVLp4Sf0j987Oh4ndrSP5c7ezPd/tI/emq3JpDB0j9Zq2JwBevTPyRtBvKabtU/yx/JiSEA2T/BC6qsccTkP0XN1dtexeU/3Nwh1L4z6D+pdU4x3WXlP0LQyYr7GOI/C8kYU4+S4z+C2TpiyeLkPwlXHgEC9uI/Nc7uw35K4j+J0uA2q3TiPzXzFD/SBeQ/BbdK6ReW5D9yd7sKZozmP2qIHeMatuU/L4IiBM2Q4j+ceqREq6reP5vS6AhRp9g/",
          "dtype": "f8"
         },
         "yaxis": "y6"
        },
        {
         "line": {
          "color": "#1f77b4",
          "width": 2
         },
         "mode": "lines",
         "name": "Observed 7",
         "showlegend": false,
         "type": "scatter",
         "x": [
          "2014-06-30T00:00:00",
          "2014-06-30T01:00:00",
          "2014-06-30T02:00:00",
          "2014-06-30T03:00:00",
          "2014-06-30T04:00:00",
          "2014-06-30T05:00:00",
          "2014-06-30T06:00:00",
          "2014-06-30T07:00:00",
          "2014-06-30T08:00:00",
          "2014-06-30T09:00:00",
          "2014-06-30T10:00:00",
          "2014-06-30T11:00:00",
          "2014-06-30T12:00:00",
          "2014-06-30T13:00:00",
          "2014-06-30T14:00:00",
          "2014-06-30T15:00:00",
          "2014-06-30T16:00:00",
          "2014-06-30T17:00:00",
          "2014-06-30T18:00:00",
          "2014-06-30T19:00:00",
          "2014-06-30T20:00:00",
          "2014-06-30T21:00:00",
          "2014-06-30T22:00:00",
          "2014-06-30T23:00:00"
         ],
         "xaxis": "x7",
         "y": {
          "bdata": "SOF6FK5H0T9xPQrXo3DNP6RwPQrXo9A/AAAAAAAA0D+4HoXrUbjOP0jhehSuR9E/w/UoXI/C1T+uR+F6FK7XP83MzMzMzOQ/XI/C9Shc7z9mZmZmZmbyP9ejcD0K19M/CtejcD0K1z+4HoXrUbjOP1K4HoXrUeA/hetRuB6F8z/NzMzMzMzsP5qZmZmZmeE/4XoUrkfh4j+PwvUoXI8CQK5H4XoUru8/AAAAAAAA4D9mZmZmZmbWP9ejcD0K19M/",
          "dtype": "f8"
         },
         "yaxis": "y7"
        },
        {
         "line": {
          "color": "#FFA500",
          "dash": "dash",
          "width": 2
         },
         "mode": "lines",
         "name": "Forecast 7",
         "showlegend": false,
         "type": "scatter",
         "x": [
          "2014-06-30T00:00:00",
          "2014-06-30T01:00:00",
          "2014-06-30T02:00:00",
          "2014-06-30T03:00:00",
          "2014-06-30T04:00:00",
          "2014-06-30T05:00:00",
          "2014-06-30T06:00:00",
          "2014-06-30T07:00:00",
          "2014-06-30T08:00:00",
          "2014-06-30T09:00:00",
          "2014-06-30T10:00:00",
          "2014-06-30T11:00:00",
          "2014-06-30T12:00:00",
          "2014-06-30T13:00:00",
          "2014-06-30T14:00:00",
          "2014-06-30T15:00:00",
          "2014-06-30T16:00:00",
          "2014-06-30T17:00:00",
          "2014-06-30T18:00:00",
          "2014-06-30T19:00:00",
          "2014-06-30T20:00:00",
          "2014-06-30T21:00:00",
          "2014-06-30T22:00:00",
          "2014-06-30T23:00:00"
         ],
         "xaxis": "x7",
         "y": {
          "bdata": "qVaniY6rzz/k6bc7mSTPPzQCiOZcSM8/vP4EHKdqzj//+2TFalbQP6JrBcfVydE/zDPWtpxL1T9lfS5WZMLiPwj0XFXz5+M/snA5buQw5j8nRtvLAazjP34O73BIJOA/ZbrIwCaV4T9n1U9bpdjiP55Ji6BI+eA/Oa8OID1T4D+gcUPL/NngP/Md8jdWheI/Vrb41Dy64j92l8awgL3kP+RhnxmI6OM/xjW9pea14D9uE2xPAuDaP9pGsxv88NQ/",
          "dtype": "f8"
         },
         "yaxis": "y7"
        }
       ],
       "layout": {
        "annotations": [
         {
          "font": {
           "size": 16
          },
          "showarrow": false,
          "text": "Day 1",
          "x": 0.225,
          "xanchor": "center",
          "xref": "paper",
          "y": 1,
          "yanchor": "bottom",
          "yref": "paper"
         },
         {
          "font": {
           "size": 16
          },
          "showarrow": false,
          "text": "Day 2",
          "x": 0.775,
          "xanchor": "center",
          "xref": "paper",
          "y": 1,
          "yanchor": "bottom",
          "yref": "paper"
         },
         {
          "font": {
           "size": 16
          },
          "showarrow": false,
          "text": "Day 3",
          "x": 0.225,
          "xanchor": "center",
          "xref": "paper",
          "y": 0.71875,
          "yanchor": "bottom",
          "yref": "paper"
         },
         {
          "font": {
           "size": 16
          },
          "showarrow": false,
          "text": "Day 4",
          "x": 0.775,
          "xanchor": "center",
          "xref": "paper",
          "y": 0.71875,
          "yanchor": "bottom",
          "yref": "paper"
         },
         {
          "font": {
           "size": 16
          },
          "showarrow": false,
          "text": "Day 5",
          "x": 0.225,
          "xanchor": "center",
          "xref": "paper",
          "y": 0.4375,
          "yanchor": "bottom",
          "yref": "paper"
         },
         {
          "font": {
           "size": 16
          },
          "showarrow": false,
          "text": "Day 6",
          "x": 0.775,
          "xanchor": "center",
          "xref": "paper",
          "y": 0.4375,
          "yanchor": "bottom",
          "yref": "paper"
         },
         {
          "font": {
           "size": 16
          },
          "showarrow": false,
          "text": "Day 7",
          "x": 0.225,
          "xanchor": "center",
          "xref": "paper",
          "y": 0.15625,
          "yanchor": "bottom",
          "yref": "paper"
         }
        ],
        "font": {
         "color": "#222",
         "family": "CMU Serif, 'Times New Roman', serif",
         "size": 14
        },
        "hovermode": "x unified",
        "legend": {
         "bgcolor": "rgba(255,255,255,0.85)",
         "bordercolor": "#d0d0d0",
         "borderwidth": 1
        },
        "margin": {
         "b": 50,
         "l": 70,
         "r": 30,
         "t": 60
        },
        "paper_bgcolor": "#ffffff",
        "plot_bgcolor": "#ffffff",
        "template": {
         "data": {
          "bar": [
           {
            "error_x": {
             "color": "#2a3f5f"
            },
            "error_y": {
             "color": "#2a3f5f"
            },
            "marker": {
             "line": {
              "color": "#E5ECF6",
              "width": 0.5
             },
             "pattern": {
              "fillmode": "overlay",
              "size": 10,
              "solidity": 0.2
             }
            },
            "type": "bar"
           }
          ],
          "barpolar": [
           {
            "marker": {
             "line": {
              "color": "#E5ECF6",
              "width": 0.5
             },
             "pattern": {
              "fillmode": "overlay",
              "size": 10,
              "solidity": 0.2
             }
            },
            "type": "barpolar"
           }
          ],
          "carpet": [
           {
            "aaxis": {
             "endlinecolor": "#2a3f5f",
             "gridcolor": "white",
             "linecolor": "white",
             "minorgridcolor": "white",
             "startlinecolor": "#2a3f5f"
            },
            "baxis": {
             "endlinecolor": "#2a3f5f",
             "gridcolor": "white",
             "linecolor": "white",
             "minorgridcolor": "white",
             "startlinecolor": "#2a3f5f"
            },
            "type": "carpet"
           }
          ],
          "choropleth": [
           {
            "colorbar": {
             "outlinewidth": 0,
             "ticks": ""
            },
            "type": "choropleth"
           }
          ],
          "contour": [
           {
            "colorbar": {
             "outlinewidth": 0,
             "ticks": ""
            },
            "colorscale": [
             [
              0,
              "#0d0887"
             ],
             [
              0.1111111111111111,
              "#46039f"
             ],
             [
              0.2222222222222222,
              "#7201a8"
             ],
             [
              0.3333333333333333,
              "#9c179e"
             ],
             [
              0.4444444444444444,
              "#bd3786"
             ],
             [
              0.5555555555555556,
              "#d8576b"
             ],
             [
              0.6666666666666666,
              "#ed7953"
             ],
             [
              0.7777777777777778,
              "#fb9f3a"
             ],
             [
              0.8888888888888888,
              "#fdca26"
             ],
             [
              1,
              "#f0f921"
             ]
            ],
            "type": "contour"
           }
          ],
          "contourcarpet": [
           {
            "colorbar": {
             "outlinewidth": 0,
             "ticks": ""
            },
            "type": "contourcarpet"
           }
          ],
          "heatmap": [
           {
            "colorbar": {
             "outlinewidth": 0,
             "ticks": ""
            },
            "colorscale": [
             [
              0,
              "#0d0887"
             ],
             [
              0.1111111111111111,
              "#46039f"
             ],
             [
              0.2222222222222222,
              "#7201a8"
             ],
             [
              0.3333333333333333,
              "#9c179e"
             ],
             [
              0.4444444444444444,
              "#bd3786"
             ],
             [
              0.5555555555555556,
              "#d8576b"
             ],
             [
              0.6666666666666666,
              "#ed7953"
             ],
             [
              0.7777777777777778,
              "#fb9f3a"
             ],
             [
              0.8888888888888888,
              "#fdca26"
             ],
             [
              1,
              "#f0f921"
             ]
            ],
            "type": "heatmap"
           }
          ],
          "histogram": [
           {
            "marker": {
             "pattern": {
              "fillmode": "overlay",
              "size": 10,
              "solidity": 0.2
             }
            },
            "type": "histogram"
           }
          ],
          "histogram2d": [
           {
            "colorbar": {
             "outlinewidth": 0,
             "ticks": ""
            },
            "colorscale": [
             [
              0,
              "#0d0887"
             ],
             [
              0.1111111111111111,
              "#46039f"
             ],
             [
              0.2222222222222222,
              "#7201a8"
             ],
             [
              0.3333333333333333,
              "#9c179e"
             ],
             [
              0.4444444444444444,
              "#bd3786"
             ],
             [
              0.5555555555555556,
              "#d8576b"
             ],
             [
              0.6666666666666666,
              "#ed7953"
             ],
             [
              0.7777777777777778,
              "#fb9f3a"
             ],
             [
              0.8888888888888888,
              "#fdca26"
             ],
             [
              1,
              "#f0f921"
             ]
            ],
            "type": "histogram2d"
           }
          ],
          "histogram2dcontour": [
           {
            "colorbar": {
             "outlinewidth": 0,
             "ticks": ""
            },
            "colorscale": [
             [
              0,
              "#0d0887"
             ],
             [
              0.1111111111111111,
              "#46039f"
             ],
             [
              0.2222222222222222,
              "#7201a8"
             ],
             [
              0.3333333333333333,
              "#9c179e"
             ],
             [
              0.4444444444444444,
              "#bd3786"
             ],
             [
              0.5555555555555556,
              "#d8576b"
             ],
             [
              0.6666666666666666,
              "#ed7953"
             ],
             [
              0.7777777777777778,
              "#fb9f3a"
             ],
             [
              0.8888888888888888,
              "#fdca26"
             ],
             [
              1,
              "#f0f921"
             ]
            ],
            "type": "histogram2dcontour"
           }
          ],
          "mesh3d": [
           {
            "colorbar": {
             "outlinewidth": 0,
             "ticks": ""
            },
            "type": "mesh3d"
           }
          ],
          "parcoords": [
           {
            "line": {
             "colorbar": {
              "outlinewidth": 0,
              "ticks": ""
             }
            },
            "type": "parcoords"
           }
          ],
          "pie": [
           {
            "automargin": true,
            "type": "pie"
           }
          ],
          "scatter": [
           {
            "fillpattern": {
             "fillmode": "overlay",
             "size": 10,
             "solidity": 0.2
            },
            "type": "scatter"
           }
          ],
          "scatter3d": [
           {
            "line": {
             "colorbar": {
              "outlinewidth": 0,
              "ticks": ""
             }
            },
            "marker": {
             "colorbar": {
              "outlinewidth": 0,
              "ticks": ""
             }
            },
            "type": "scatter3d"
           }
          ],
          "scattercarpet": [
           {
            "marker": {
             "colorbar": {
              "outlinewidth": 0,
              "ticks": ""
             }
            },
            "type": "scattercarpet"
           }
          ],
          "scattergeo": [
           {
            "marker": {
             "colorbar": {
              "outlinewidth": 0,
              "ticks": ""
             }
            },
            "type": "scattergeo"
           }
          ],
          "scattergl": [
           {
            "marker": {
             "colorbar": {
              "outlinewidth": 0,
              "ticks": ""
             }
            },
            "type": "scattergl"
           }
          ],
          "scattermap": [
           {
            "marker": {
             "colorbar": {
              "outlinewidth": 0,
              "ticks": ""
             }
            },
            "type": "scattermap"
           }
          ],
          "scattermapbox": [
           {
            "marker": {
             "colorbar": {
              "outlinewidth": 0,
              "ticks": ""
             }
            },
            "type": "scattermapbox"
           }
          ],
          "scatterpolar": [
           {
            "marker": {
             "colorbar": {
              "outlinewidth": 0,
              "ticks": ""
             }
            },
            "type": "scatterpolar"
           }
          ],
          "scatterpolargl": [
           {
            "marker": {
             "colorbar": {
              "outlinewidth": 0,
              "ticks": ""
             }
            },
            "type": "scatterpolargl"
           }
          ],
          "scatterternary": [
           {
            "marker": {
             "colorbar": {
              "outlinewidth": 0,
              "ticks": ""
             }
            },
            "type": "scatterternary"
           }
          ],
          "surface": [
           {
            "colorbar": {
             "outlinewidth": 0,
             "ticks": ""
            },
            "colorscale": [
             [
              0,
              "#0d0887"
             ],
             [
              0.1111111111111111,
              "#46039f"
             ],
             [
              0.2222222222222222,
              "#7201a8"
             ],
             [
              0.3333333333333333,
              "#9c179e"
             ],
             [
              0.4444444444444444,
              "#bd3786"
             ],
             [
              0.5555555555555556,
              "#d8576b"
             ],
             [
              0.6666666666666666,
              "#ed7953"
             ],
             [
              0.7777777777777778,
              "#fb9f3a"
             ],
             [
              0.8888888888888888,
              "#fdca26"
             ],
             [
              1,
              "#f0f921"
             ]
            ],
            "type": "surface"
           }
          ],
          "table": [
           {
            "cells": {
             "fill": {
              "color": "#EBF0F8"
             },
             "line": {
              "color": "white"
             }
            },
            "header": {
             "fill": {
              "color": "#C8D4E3"
             },
             "line": {
              "color": "white"
             }
            },
            "type": "table"
           }
          ]
         },
         "layout": {
          "annotationdefaults": {
           "arrowcolor": "#2a3f5f",
           "arrowhead": 0,
           "arrowwidth": 1
          },
          "autotypenumbers": "strict",
          "coloraxis": {
           "colorbar": {
            "outlinewidth": 0,
            "ticks": ""
           }
          },
          "colorscale": {
           "diverging": [
            [
             0,
             "#8e0152"
            ],
            [
             0.1,
             "#c51b7d"
            ],
            [
             0.2,
             "#de77ae"
            ],
            [
             0.3,
             "#f1b6da"
            ],
            [
             0.4,
             "#fde0ef"
            ],
            [
             0.5,
             "#f7f7f7"
            ],
            [
             0.6,
             "#e6f5d0"
            ],
            [
             0.7,
             "#b8e186"
            ],
            [
             0.8,
             "#7fbc41"
            ],
            [
             0.9,
             "#4d9221"
            ],
            [
             1,
             "#276419"
            ]
           ],
           "sequential": [
            [
             0,
             "#0d0887"
            ],
            [
             0.1111111111111111,
             "#46039f"
            ],
            [
             0.2222222222222222,
             "#7201a8"
            ],
            [
             0.3333333333333333,
             "#9c179e"
            ],
            [
             0.4444444444444444,
             "#bd3786"
            ],
            [
             0.5555555555555556,
             "#d8576b"
            ],
            [
             0.6666666666666666,
             "#ed7953"
            ],
            [
             0.7777777777777778,
             "#fb9f3a"
            ],
            [
             0.8888888888888888,
             "#fdca26"
            ],
            [
             1,
             "#f0f921"
            ]
           ],
           "sequentialminus": [
            [
             0,
             "#0d0887"
            ],
            [
             0.1111111111111111,
             "#46039f"
            ],
            [
             0.2222222222222222,
             "#7201a8"
            ],
            [
             0.3333333333333333,
             "#9c179e"
            ],
            [
             0.4444444444444444,
             "#bd3786"
            ],
            [
             0.5555555555555556,
             "#d8576b"
            ],
            [
             0.6666666666666666,
             "#ed7953"
            ],
            [
             0.7777777777777778,
             "#fb9f3a"
            ],
            [
             0.8888888888888888,
             "#fdca26"
            ],
            [
             1,
             "#f0f921"
            ]
           ]
          },
          "colorway": [
           "#636efa",
           "#EF553B",
           "#00cc96",
           "#ab63fa",
           "#FFA15A",
           "#19d3f3",
           "#FF6692",
           "#B6E880",
           "#FF97FF",
           "#FECB52"
          ],
          "font": {
           "color": "#2a3f5f"
          },
          "geo": {
           "bgcolor": "white",
           "lakecolor": "white",
           "landcolor": "#E5ECF6",
           "showlakes": true,
           "showland": true,
           "subunitcolor": "white"
          },
          "hoverlabel": {
           "align": "left"
          },
          "hovermode": "closest",
          "mapbox": {
           "style": "light"
          },
          "paper_bgcolor": "white",
          "plot_bgcolor": "#E5ECF6",
          "polar": {
           "angularaxis": {
            "gridcolor": "white",
            "linecolor": "white",
            "ticks": ""
           },
           "bgcolor": "#E5ECF6",
           "radialaxis": {
            "gridcolor": "white",
            "linecolor": "white",
            "ticks": ""
           }
          },
          "scene": {
           "xaxis": {
            "backgroundcolor": "#E5ECF6",
            "gridcolor": "white",
            "gridwidth": 2,
            "linecolor": "white",
            "showbackground": true,
            "ticks": "",
            "zerolinecolor": "white"
           },
           "yaxis": {
            "backgroundcolor": "#E5ECF6",
            "gridcolor": "white",
            "gridwidth": 2,
            "linecolor": "white",
            "showbackground": true,
            "ticks": "",
            "zerolinecolor": "white"
           },
           "zaxis": {
            "backgroundcolor": "#E5ECF6",
            "gridcolor": "white",
            "gridwidth": 2,
            "linecolor": "white",
            "showbackground": true,
            "ticks": "",
            "zerolinecolor": "white"
           }
          },
          "shapedefaults": {
           "line": {
            "color": "#2a3f5f"
           }
          },
          "ternary": {
           "aaxis": {
            "gridcolor": "white",
            "linecolor": "white",
            "ticks": ""
           },
           "baxis": {
            "gridcolor": "white",
            "linecolor": "white",
            "ticks": ""
           },
           "bgcolor": "#E5ECF6",
           "caxis": {
            "gridcolor": "white",
            "linecolor": "white",
            "ticks": ""
           }
          },
          "title": {
           "x": 0.05
          },
          "xaxis": {
           "automargin": true,
           "gridcolor": "white",
           "linecolor": "white",
           "ticks": "",
           "title": {
            "standoff": 15
           },
           "zerolinecolor": "white",
           "zerolinewidth": 2
          },
          "yaxis": {
           "automargin": true,
           "gridcolor": "white",
           "linecolor": "white",
           "ticks": "",
           "title": {
            "standoff": 15
           },
           "zerolinecolor": "white",
           "zerolinewidth": 2
          }
         }
        },
        "title": {
         "text": "Last-week walk-forward forecasts"
        },
        "xaxis": {
         "anchor": "y",
         "domain": [
          0,
          0.45
         ],
         "gridcolor": "#e5e5e5",
         "showgrid": true,
         "title": {
          "text": "Timestamp"
         },
         "zeroline": false
        },
        "xaxis2": {
         "anchor": "y2",
         "domain": [
          0.55,
          1
         ],
         "gridcolor": "#e5e5e5",
         "showgrid": true,
         "title": {
          "text": "Timestamp"
         },
         "zeroline": false
        },
        "xaxis3": {
         "anchor": "y3",
         "domain": [
          0,
          0.45
         ],
         "gridcolor": "#e5e5e5",
         "showgrid": true,
         "title": {
          "text": "Timestamp"
         },
         "zeroline": false
        },
        "xaxis4": {
         "anchor": "y4",
         "domain": [
          0.55,
          1
         ],
         "gridcolor": "#e5e5e5",
         "showgrid": true,
         "title": {
          "text": "Timestamp"
         },
         "zeroline": false
        },
        "xaxis5": {
         "anchor": "y5",
         "domain": [
          0,
          0.45
         ],
         "gridcolor": "#e5e5e5",
         "showgrid": true,
         "title": {
          "text": "Timestamp"
         },
         "zeroline": false
        },
        "xaxis6": {
         "anchor": "y6",
         "domain": [
          0.55,
          1
         ],
         "gridcolor": "#e5e5e5",
         "showgrid": true,
         "title": {
          "text": "Timestamp"
         },
         "zeroline": false
        },
        "xaxis7": {
         "anchor": "y7",
         "domain": [
          0,
          0.45
         ],
         "gridcolor": "#e5e5e5",
         "showgrid": true,
         "title": {
          "text": "Timestamp"
         },
         "zeroline": false
        },
        "xaxis8": {
         "anchor": "y8",
         "domain": [
          0.55,
          1
         ],
         "gridcolor": "#e5e5e5",
         "showgrid": true,
         "title": {
          "text": "Timestamp"
         },
         "zeroline": false
        },
        "yaxis": {
         "anchor": "x",
         "domain": [
          0.84375,
          1
         ],
         "gridcolor": "#e5e5e5",
         "showgrid": true,
         "title": {
          "text": "Demand (kW)"
         },
         "zeroline": false
        },
        "yaxis2": {
         "anchor": "x2",
         "domain": [
          0.84375,
          1
         ],
         "gridcolor": "#e5e5e5",
         "matches": "y",
         "showgrid": true,
         "showticklabels": false,
         "title": {
          "text": "Demand (kW)"
         },
         "zeroline": false
        },
        "yaxis3": {
         "anchor": "x3",
         "domain": [
          0.5625,
          0.71875
         ],
         "gridcolor": "#e5e5e5",
         "showgrid": true,
         "title": {
          "text": "Demand (kW)"
         },
         "zeroline": false
        },
        "yaxis4": {
         "anchor": "x4",
         "domain": [
          0.5625,
          0.71875
         ],
         "gridcolor": "#e5e5e5",
         "matches": "y3",
         "showgrid": true,
         "showticklabels": false,
         "title": {
          "text": "Demand (kW)"
         },
         "zeroline": false
        },
        "yaxis5": {
         "anchor": "x5",
         "domain": [
          0.28125,
          0.4375
         ],
         "gridcolor": "#e5e5e5",
         "showgrid": true,
         "title": {
          "text": "Demand (kW)"
         },
         "zeroline": false
        },
        "yaxis6": {
         "anchor": "x6",
         "domain": [
          0.28125,
          0.4375
         ],
         "gridcolor": "#e5e5e5",
         "matches": "y5",
         "showgrid": true,
         "showticklabels": false,
         "title": {
          "text": "Demand (kW)"
         },
         "zeroline": false
        },
        "yaxis7": {
         "anchor": "x7",
         "domain": [
          0,
          0.15625
         ],
         "gridcolor": "#e5e5e5",
         "showgrid": true,
         "title": {
          "text": "Demand (kW)"
         },
         "zeroline": false
        },
        "yaxis8": {
         "anchor": "x8",
         "domain": [
          0,
          0.15625
         ],
         "gridcolor": "#e5e5e5",
         "matches": "y7",
         "showgrid": true,
         "showticklabels": false,
         "title": {
          "text": "Demand (kW)"
         },
         "zeroline": false
        }
       }
      }
     },
     "metadata": {},
     "output_type": "display_data"
    }
   ],
   "source": [
    "best_wf = walkforward_predictions_df[walkforward_predictions_df[\"model_name\"] == best_model_name]\n",
    "fig_walkforward = plot_walkforward_panels(best_wf, style=\"academic\")\n",
    "save_figure(fig_walkforward, \"stats_walkforward_panels\", width=1400, height=900)\n",
    "fig_walkforward\n"
   ]
  },
  {
   "cell_type": "code",
   "execution_count": 18,
   "id": "a72cfe06",
   "metadata": {},
   "outputs": [
    {
     "data": {
      "application/vnd.plotly.v1+json": {
       "config": {
        "plotlyServerURL": "https://plot.ly"
       },
       "data": [
        {
         "marker": {
          "color": "#1f77b4"
         },
         "name": "MAE",
         "type": "bar",
         "x": [
          "ARIMA(2,1,2)",
          "SARIMA(1,1,1)(1,1,1,24)",
          "SARIMA(2,1,1)(0,1,1,24)",
          "ARIMA(2,1,2)",
          "SARIMA(1,1,1)(1,1,1,24)",
          "SARIMA(2,1,1)(0,1,1,24)"
         ],
         "y": {
          "bdata": "5aaIAcgczD89420OadLBP+wb6XEn2ME/otw0xtYlzz8q/OVF+F7JPwM/8tJonsk/",
          "dtype": "f8"
         }
        },
        {
         "marker": {
          "color": "#2ca02c"
         },
         "name": "RMSE",
         "type": "bar",
         "x": [
          "ARIMA(2,1,2)",
          "SARIMA(1,1,1)(1,1,1,24)",
          "SARIMA(2,1,1)(0,1,1,24)",
          "ARIMA(2,1,2)",
          "SARIMA(1,1,1)(1,1,1,24)",
          "SARIMA(2,1,1)(0,1,1,24)"
         ],
         "y": {
          "bdata": "AcDhA4Os0j/fJL5lsv/NPz3zCiGC2c0/Kn8gt31Z1T8VAO/oMJrTPy1JFhZcv9M/",
          "dtype": "f8"
         }
        },
        {
         "marker": {
          "color": "#FFA500"
         },
         "name": "nRMSE",
         "type": "bar",
         "x": [
          "ARIMA(2,1,2)",
          "SARIMA(1,1,1)(1,1,1,24)",
          "SARIMA(2,1,1)(0,1,1,24)",
          "ARIMA(2,1,2)",
          "SARIMA(1,1,1)(1,1,1,24)",
          "SARIMA(2,1,1)(0,1,1,24)"
         ],
         "y": {
          "bdata": "FDQ59Y+mzz+F7wS6N2zJP5w64sDaS8k/gpKXnWt40j++73nyPZbRPzGY87DJ2tE/",
          "dtype": "f8"
         }
        }
       ],
       "layout": {
        "barmode": "group",
        "font": {
         "color": "#222",
         "family": "CMU Serif, 'Times New Roman', serif",
         "size": 14
        },
        "legend": {
         "bgcolor": "rgba(255,255,255,0.85)",
         "bordercolor": "#d0d0d0",
         "borderwidth": 1
        },
        "margin": {
         "b": 50,
         "l": 70,
         "r": 30,
         "t": 60
        },
        "paper_bgcolor": "#ffffff",
        "plot_bgcolor": "#ffffff",
        "template": {
         "data": {
          "bar": [
           {
            "error_x": {
             "color": "#2a3f5f"
            },
            "error_y": {
             "color": "#2a3f5f"
            },
            "marker": {
             "line": {
              "color": "#E5ECF6",
              "width": 0.5
             },
             "pattern": {
              "fillmode": "overlay",
              "size": 10,
              "solidity": 0.2
             }
            },
            "type": "bar"
           }
          ],
          "barpolar": [
           {
            "marker": {
             "line": {
              "color": "#E5ECF6",
              "width": 0.5
             },
             "pattern": {
              "fillmode": "overlay",
              "size": 10,
              "solidity": 0.2
             }
            },
            "type": "barpolar"
           }
          ],
          "carpet": [
           {
            "aaxis": {
             "endlinecolor": "#2a3f5f",
             "gridcolor": "white",
             "linecolor": "white",
             "minorgridcolor": "white",
             "startlinecolor": "#2a3f5f"
            },
            "baxis": {
             "endlinecolor": "#2a3f5f",
             "gridcolor": "white",
             "linecolor": "white",
             "minorgridcolor": "white",
             "startlinecolor": "#2a3f5f"
            },
            "type": "carpet"
           }
          ],
          "choropleth": [
           {
            "colorbar": {
             "outlinewidth": 0,
             "ticks": ""
            },
            "type": "choropleth"
           }
          ],
          "contour": [
           {
            "colorbar": {
             "outlinewidth": 0,
             "ticks": ""
            },
            "colorscale": [
             [
              0,
              "#0d0887"
             ],
             [
              0.1111111111111111,
              "#46039f"
             ],
             [
              0.2222222222222222,
              "#7201a8"
             ],
             [
              0.3333333333333333,
              "#9c179e"
             ],
             [
              0.4444444444444444,
              "#bd3786"
             ],
             [
              0.5555555555555556,
              "#d8576b"
             ],
             [
              0.6666666666666666,
              "#ed7953"
             ],
             [
              0.7777777777777778,
              "#fb9f3a"
             ],
             [
              0.8888888888888888,
              "#fdca26"
             ],
             [
              1,
              "#f0f921"
             ]
            ],
            "type": "contour"
           }
          ],
          "contourcarpet": [
           {
            "colorbar": {
             "outlinewidth": 0,
             "ticks": ""
            },
            "type": "contourcarpet"
           }
          ],
          "heatmap": [
           {
            "colorbar": {
             "outlinewidth": 0,
             "ticks": ""
            },
            "colorscale": [
             [
              0,
              "#0d0887"
             ],
             [
              0.1111111111111111,
              "#46039f"
             ],
             [
              0.2222222222222222,
              "#7201a8"
             ],
             [
              0.3333333333333333,
              "#9c179e"
             ],
             [
              0.4444444444444444,
              "#bd3786"
             ],
             [
              0.5555555555555556,
              "#d8576b"
             ],
             [
              0.6666666666666666,
              "#ed7953"
             ],
             [
              0.7777777777777778,
              "#fb9f3a"
             ],
             [
              0.8888888888888888,
              "#fdca26"
             ],
             [
              1,
              "#f0f921"
             ]
            ],
            "type": "heatmap"
           }
          ],
          "histogram": [
           {
            "marker": {
             "pattern": {
              "fillmode": "overlay",
              "size": 10,
              "solidity": 0.2
             }
            },
            "type": "histogram"
           }
          ],
          "histogram2d": [
           {
            "colorbar": {
             "outlinewidth": 0,
             "ticks": ""
            },
            "colorscale": [
             [
              0,
              "#0d0887"
             ],
             [
              0.1111111111111111,
              "#46039f"
             ],
             [
              0.2222222222222222,
              "#7201a8"
             ],
             [
              0.3333333333333333,
              "#9c179e"
             ],
             [
              0.4444444444444444,
              "#bd3786"
             ],
             [
              0.5555555555555556,
              "#d8576b"
             ],
             [
              0.6666666666666666,
              "#ed7953"
             ],
             [
              0.7777777777777778,
              "#fb9f3a"
             ],
             [
              0.8888888888888888,
              "#fdca26"
             ],
             [
              1,
              "#f0f921"
             ]
            ],
            "type": "histogram2d"
           }
          ],
          "histogram2dcontour": [
           {
            "colorbar": {
             "outlinewidth": 0,
             "ticks": ""
            },
            "colorscale": [
             [
              0,
              "#0d0887"
             ],
             [
              0.1111111111111111,
              "#46039f"
             ],
             [
              0.2222222222222222,
              "#7201a8"
             ],
             [
              0.3333333333333333,
              "#9c179e"
             ],
             [
              0.4444444444444444,
              "#bd3786"
             ],
             [
              0.5555555555555556,
              "#d8576b"
             ],
             [
              0.6666666666666666,
              "#ed7953"
             ],
             [
              0.7777777777777778,
              "#fb9f3a"
             ],
             [
              0.8888888888888888,
              "#fdca26"
             ],
             [
              1,
              "#f0f921"
             ]
            ],
            "type": "histogram2dcontour"
           }
          ],
          "mesh3d": [
           {
            "colorbar": {
             "outlinewidth": 0,
             "ticks": ""
            },
            "type": "mesh3d"
           }
          ],
          "parcoords": [
           {
            "line": {
             "colorbar": {
              "outlinewidth": 0,
              "ticks": ""
             }
            },
            "type": "parcoords"
           }
          ],
          "pie": [
           {
            "automargin": true,
            "type": "pie"
           }
          ],
          "scatter": [
           {
            "fillpattern": {
             "fillmode": "overlay",
             "size": 10,
             "solidity": 0.2
            },
            "type": "scatter"
           }
          ],
          "scatter3d": [
           {
            "line": {
             "colorbar": {
              "outlinewidth": 0,
              "ticks": ""
             }
            },
            "marker": {
             "colorbar": {
              "outlinewidth": 0,
              "ticks": ""
             }
            },
            "type": "scatter3d"
           }
          ],
          "scattercarpet": [
           {
            "marker": {
             "colorbar": {
              "outlinewidth": 0,
              "ticks": ""
             }
            },
            "type": "scattercarpet"
           }
          ],
          "scattergeo": [
           {
            "marker": {
             "colorbar": {
              "outlinewidth": 0,
              "ticks": ""
             }
            },
            "type": "scattergeo"
           }
          ],
          "scattergl": [
           {
            "marker": {
             "colorbar": {
              "outlinewidth": 0,
              "ticks": ""
             }
            },
            "type": "scattergl"
           }
          ],
          "scattermap": [
           {
            "marker": {
             "colorbar": {
              "outlinewidth": 0,
              "ticks": ""
             }
            },
            "type": "scattermap"
           }
          ],
          "scattermapbox": [
           {
            "marker": {
             "colorbar": {
              "outlinewidth": 0,
              "ticks": ""
             }
            },
            "type": "scattermapbox"
           }
          ],
          "scatterpolar": [
           {
            "marker": {
             "colorbar": {
              "outlinewidth": 0,
              "ticks": ""
             }
            },
            "type": "scatterpolar"
           }
          ],
          "scatterpolargl": [
           {
            "marker": {
             "colorbar": {
              "outlinewidth": 0,
              "ticks": ""
             }
            },
            "type": "scatterpolargl"
           }
          ],
          "scatterternary": [
           {
            "marker": {
             "colorbar": {
              "outlinewidth": 0,
              "ticks": ""
             }
            },
            "type": "scatterternary"
           }
          ],
          "surface": [
           {
            "colorbar": {
             "outlinewidth": 0,
             "ticks": ""
            },
            "colorscale": [
             [
              0,
              "#0d0887"
             ],
             [
              0.1111111111111111,
              "#46039f"
             ],
             [
              0.2222222222222222,
              "#7201a8"
             ],
             [
              0.3333333333333333,
              "#9c179e"
             ],
             [
              0.4444444444444444,
              "#bd3786"
             ],
             [
              0.5555555555555556,
              "#d8576b"
             ],
             [
              0.6666666666666666,
              "#ed7953"
             ],
             [
              0.7777777777777778,
              "#fb9f3a"
             ],
             [
              0.8888888888888888,
              "#fdca26"
             ],
             [
              1,
              "#f0f921"
             ]
            ],
            "type": "surface"
           }
          ],
          "table": [
           {
            "cells": {
             "fill": {
              "color": "#EBF0F8"
             },
             "line": {
              "color": "white"
             }
            },
            "header": {
             "fill": {
              "color": "#C8D4E3"
             },
             "line": {
              "color": "white"
             }
            },
            "type": "table"
           }
          ]
         },
         "layout": {
          "annotationdefaults": {
           "arrowcolor": "#2a3f5f",
           "arrowhead": 0,
           "arrowwidth": 1
          },
          "autotypenumbers": "strict",
          "coloraxis": {
           "colorbar": {
            "outlinewidth": 0,
            "ticks": ""
           }
          },
          "colorscale": {
           "diverging": [
            [
             0,
             "#8e0152"
            ],
            [
             0.1,
             "#c51b7d"
            ],
            [
             0.2,
             "#de77ae"
            ],
            [
             0.3,
             "#f1b6da"
            ],
            [
             0.4,
             "#fde0ef"
            ],
            [
             0.5,
             "#f7f7f7"
            ],
            [
             0.6,
             "#e6f5d0"
            ],
            [
             0.7,
             "#b8e186"
            ],
            [
             0.8,
             "#7fbc41"
            ],
            [
             0.9,
             "#4d9221"
            ],
            [
             1,
             "#276419"
            ]
           ],
           "sequential": [
            [
             0,
             "#0d0887"
            ],
            [
             0.1111111111111111,
             "#46039f"
            ],
            [
             0.2222222222222222,
             "#7201a8"
            ],
            [
             0.3333333333333333,
             "#9c179e"
            ],
            [
             0.4444444444444444,
             "#bd3786"
            ],
            [
             0.5555555555555556,
             "#d8576b"
            ],
            [
             0.6666666666666666,
             "#ed7953"
            ],
            [
             0.7777777777777778,
             "#fb9f3a"
            ],
            [
             0.8888888888888888,
             "#fdca26"
            ],
            [
             1,
             "#f0f921"
            ]
           ],
           "sequentialminus": [
            [
             0,
             "#0d0887"
            ],
            [
             0.1111111111111111,
             "#46039f"
            ],
            [
             0.2222222222222222,
             "#7201a8"
            ],
            [
             0.3333333333333333,
             "#9c179e"
            ],
            [
             0.4444444444444444,
             "#bd3786"
            ],
            [
             0.5555555555555556,
             "#d8576b"
            ],
            [
             0.6666666666666666,
             "#ed7953"
            ],
            [
             0.7777777777777778,
             "#fb9f3a"
            ],
            [
             0.8888888888888888,
             "#fdca26"
            ],
            [
             1,
             "#f0f921"
            ]
           ]
          },
          "colorway": [
           "#636efa",
           "#EF553B",
           "#00cc96",
           "#ab63fa",
           "#FFA15A",
           "#19d3f3",
           "#FF6692",
           "#B6E880",
           "#FF97FF",
           "#FECB52"
          ],
          "font": {
           "color": "#2a3f5f"
          },
          "geo": {
           "bgcolor": "white",
           "lakecolor": "white",
           "landcolor": "#E5ECF6",
           "showlakes": true,
           "showland": true,
           "subunitcolor": "white"
          },
          "hoverlabel": {
           "align": "left"
          },
          "hovermode": "closest",
          "mapbox": {
           "style": "light"
          },
          "paper_bgcolor": "white",
          "plot_bgcolor": "#E5ECF6",
          "polar": {
           "angularaxis": {
            "gridcolor": "white",
            "linecolor": "white",
            "ticks": ""
           },
           "bgcolor": "#E5ECF6",
           "radialaxis": {
            "gridcolor": "white",
            "linecolor": "white",
            "ticks": ""
           }
          },
          "scene": {
           "xaxis": {
            "backgroundcolor": "#E5ECF6",
            "gridcolor": "white",
            "gridwidth": 2,
            "linecolor": "white",
            "showbackground": true,
            "ticks": "",
            "zerolinecolor": "white"
           },
           "yaxis": {
            "backgroundcolor": "#E5ECF6",
            "gridcolor": "white",
            "gridwidth": 2,
            "linecolor": "white",
            "showbackground": true,
            "ticks": "",
            "zerolinecolor": "white"
           },
           "zaxis": {
            "backgroundcolor": "#E5ECF6",
            "gridcolor": "white",
            "gridwidth": 2,
            "linecolor": "white",
            "showbackground": true,
            "ticks": "",
            "zerolinecolor": "white"
           }
          },
          "shapedefaults": {
           "line": {
            "color": "#2a3f5f"
           }
          },
          "ternary": {
           "aaxis": {
            "gridcolor": "white",
            "linecolor": "white",
            "ticks": ""
           },
           "baxis": {
            "gridcolor": "white",
            "linecolor": "white",
            "ticks": ""
           },
           "bgcolor": "#E5ECF6",
           "caxis": {
            "gridcolor": "white",
            "linecolor": "white",
            "ticks": ""
           }
          },
          "title": {
           "x": 0.05
          },
          "xaxis": {
           "automargin": true,
           "gridcolor": "white",
           "linecolor": "white",
           "ticks": "",
           "title": {
            "standoff": 15
           },
           "zerolinecolor": "white",
           "zerolinewidth": 2
          },
          "yaxis": {
           "automargin": true,
           "gridcolor": "white",
           "linecolor": "white",
           "ticks": "",
           "title": {
            "standoff": 15
           },
           "zerolinecolor": "white",
           "zerolinewidth": 2
          }
         }
        },
        "title": {
         "text": "Model performance comparison"
        },
        "xaxis": {
         "gridcolor": "#e5e5e5",
         "showgrid": true,
         "title": {
          "text": "Model"
         },
         "zeroline": false
        },
        "yaxis": {
         "gridcolor": "#e5e5e5",
         "showgrid": true,
         "title": {
          "text": "Score"
         },
         "zeroline": false
        }
       }
      }
     },
     "metadata": {},
     "output_type": "display_data"
    }
   ],
   "source": [
    "# Merge metrics for bar chart (whole split + walk-forward mean)\n",
    "if not walkforward_metrics_df.empty:\n",
    "    walkforward_summary = (\n",
    "        walkforward_metrics_df.groupby(\"model_name\")[[\"MAE\", \"RMSE\", \"nRMSE\"]]\n",
    "        .mean()\n",
    "        .reset_index()\n",
    "    )\n",
    "    walkforward_summary[\"evaluation\"] = \"Walk-forward mean\"\n",
    "else:\n",
    "    walkforward_summary = pd.DataFrame(columns=[\"model_name\", \"MAE\", \"RMSE\", \"nRMSE\", \"evaluation\"])\n",
    "\n",
    "whole_split_metrics = single_split_metrics[[\"model_name\", \"MAE\", \"RMSE\", \"nRMSE\"]].copy()\n",
    "whole_split_metrics[\"evaluation\"] = \"Whole-train split\"\n",
    "\n",
    "metrics_long = pd.concat(\n",
    "    [whole_split_metrics, walkforward_summary],\n",
    "    ignore_index=True,\n",
    ")\n",
    "\n",
    "melted_metrics = metrics_long.melt(\n",
    "    id_vars=[\"model_name\", \"evaluation\"],\n",
    "    value_vars=[\"MAE\", \"RMSE\", \"nRMSE\"],\n",
    "    var_name=\"metric\",\n",
    "    value_name=\"value\",\n",
    ")\n",
    "fig_metrics = plot_metrics_bar(melted_metrics, style=\"academic\")\n",
    "save_figure(fig_metrics, \"stats_metrics_bar\", width=1100, height=600)\n",
    "fig_metrics\n"
   ]
  },
  {
   "cell_type": "markdown",
   "id": "b6b2c399",
   "metadata": {},
   "source": [
    "## Export metrics tables"
   ]
  },
  {
   "cell_type": "code",
   "execution_count": 19,
   "id": "16a32f62",
   "metadata": {},
   "outputs": [
    {
     "name": "stdout",
     "output_type": "stream",
     "text": [
      "Saved stationarity tests, candidate metrics, walk-forward metrics, predictions, and summaries.\n"
     ]
    }
   ],
   "source": [
    "single_split_metrics.to_csv(TABLE_PATH / \"model_candidates_metrics.csv\", index=False)\n",
    "walkforward_metrics_df.to_csv(TABLE_PATH / \"walkforward_per_day_metrics.csv\", index=False)\n",
    "walkforward_summary.to_csv(TABLE_PATH / \"walkforward_metrics_summary.csv\", index=False)\n",
    "\n",
    "print(\"Saved stationarity tests, candidate metrics, walk-forward metrics, predictions, and summaries.\")\n"
   ]
  },
  {
   "cell_type": "markdown",
   "id": "54f5e7ff",
   "metadata": {},
   "source": [
    "## Interpretation\n",
    "\n",
    "- **Preferred model.** The model yielding the lowest normalized RMSE on the whole-training split (identified above) also sustains strong walk-forward accuracy, indicating robust short-term forecasting capability.\n",
    "- **Diagnostics.** ACF/PACF plots after first differencing show damped autocorrelation with residual daily periodicity, motivating the inclusion of a seasonal AR component.\n",
    "- **Operational insight.** Reliable 24-hour demand forecasts enable proactive battery scheduling and tariff-aware load shifting, particularly when combined with PV generation predictions in subsequent tasks.\n"
   ]
  }
 ],
 "metadata": {
  "kernelspec": {
   "display_name": "ML",
   "language": "python",
   "name": "python3"
  },
  "language_info": {
   "codemirror_mode": {
    "name": "ipython",
    "version": 3
   },
   "file_extension": ".py",
   "mimetype": "text/x-python",
   "name": "python",
   "nbconvert_exporter": "python",
   "pygments_lexer": "ipython3",
   "version": "3.10.9"
  }
 },
 "nbformat": 4,
 "nbformat_minor": 5
}
