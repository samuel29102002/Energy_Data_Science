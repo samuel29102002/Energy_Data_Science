{
 "cells": [
  {
   "cell_type": "code",
   "execution_count": 21,
   "id": "6647d750",
   "metadata": {
    "execution": {
     "iopub.execute_input": "2025-10-10T17:06:13.552366Z",
     "iopub.status.busy": "2025-10-10T17:06:13.552070Z",
     "iopub.status.idle": "2025-10-10T17:06:15.021784Z",
     "shell.execute_reply": "2025-10-10T17:06:15.020835Z"
    }
   },
   "outputs": [],
   "source": [
    "import sys\n",
    "from pathlib import Path\n",
    "import warnings\n",
    "warnings.filterwarnings('ignore')\n",
    "\n",
    "import numpy as np\n",
    "import pandas as pd\n",
    "import matplotlib as mpl\n",
    "import matplotlib.pyplot as plt\n",
    "import matplotlib\n",
    "matplotlib.use('Agg')\n",
    "\n",
    "from IPython.display import display\n",
    "\n",
    "try:\n",
    "    import cvxpy as cp\n",
    "    USE_CVXPY = True\n",
    "except ImportError:\n",
    "    USE_CVXPY = False\n",
    "    print(\"cvxpy not installed, optimization will be skipped\")\n",
    "\n",
    "RANDOM_SEED = 42\n",
    "np.random.seed(RANDOM_SEED)\n",
    "\n",
    "ROOT = Path().resolve().parent\n",
    "DATA_PATH = ROOT / \"data\" / \"raw\"\n",
    "TABLE_PATH = ROOT / \"reports\" / \"tables\"\n",
    "FIGURE_PATH = ROOT / \"reports\" / \"figures\"\n",
    "TABLE_PATH.mkdir(parents=True, exist_ok=True)\n",
    "FIGURE_PATH.mkdir(parents=True, exist_ok=True)\n",
    "\n",
    "\n",
    "def set_academic_style():\n",
    "    mpl.rcParams.update({\n",
    "        \"figure.figsize\": (10, 4),\n",
    "        \"axes.facecolor\": \"white\",\n",
    "        \"savefig.facecolor\": \"white\",\n",
    "        \"axes.grid\": True,\n",
    "        \"grid.color\": \"#ECEFF3\",\n",
    "        \"grid.linestyle\": \"-\",\n",
    "        \"grid.linewidth\": 0.6,\n",
    "        \"font.size\": 11,\n",
    "        \"axes.titlesize\": 12,\n",
    "        \"axes.labelsize\": 11,\n",
    "        \"legend.fontsize\": 10,\n",
    "        \"xtick.labelsize\": 10,\n",
    "        \"ytick.labelsize\": 10,\n",
    "    })\n",
    "\n",
    "\n",
    "def save_figure(fig, filename):\n",
    "    fig.tight_layout()\n",
    "    output_path = FIGURE_PATH / filename\n",
    "    fig.savefig(output_path, dpi=300, bbox_inches=\"tight\")\n",
    "    plt.show()\n",
    "\n",
    "\n",
    "def display_table(df, filename):\n",
    "    output_path = TABLE_PATH / filename\n",
    "    df.to_csv(output_path, index=False)\n",
    "    display(df)\n",
    "\n",
    "\n",
    "set_academic_style()\n"
   ]
  },
  {
   "cell_type": "code",
   "execution_count": 22,
   "id": "e0a8de85",
   "metadata": {
    "execution": {
     "iopub.execute_input": "2025-10-10T17:06:15.025443Z",
     "iopub.status.busy": "2025-10-10T17:06:15.025009Z",
     "iopub.status.idle": "2025-10-10T17:06:15.069247Z",
     "shell.execute_reply": "2025-10-10T17:06:15.068403Z"
    }
   },
   "outputs": [
    {
     "name": "stdout",
     "output_type": "stream",
     "text": [
      "Loaded optimisation.csv with 24 rows\n",
      "Available columns: ['timestamp', 'pv_low', 'pv_high', 'Price', 'Temperature', 'Pressure (hPa)', 'Cloud_cover (%)', 'Cloud_cover_low (%)', 'Cloud_cover_mid (%)', 'Cloud_cover_high (%)', 'Wind_speed_10m (km/h)', 'Shortwave_radiation (W/m²)', 'direct_radiation (W/m²)', 'diffuse_radiation (W/m²)', 'direct_normal_irradiance (W/m²)']\n",
      "Generated synthetic demand pattern\n",
      "Generated PV from available data\n",
      "Generated price data from available data\n",
      "\n",
      "Optimization horizon: 24 hours\n",
      "Demand range: 0.41 - 3.52 kW\n",
      "PV range: 0.00 - 1.43 kW\n",
      "Price buy range: €0.060 - €0.123/kWh\n",
      "Price sell range: €0.030 - €0.061/kWh\n"
     ]
    }
   ],
   "source": [
    "optim_file = DATA_PATH / \"optimisation.csv\"\n",
    "if optim_file.exists():\n",
    "    df_raw = pd.read_csv(optim_file, parse_dates=[\"timestamp\"])\n",
    "    print(f\"Loaded optimisation.csv with {len(df_raw)} rows\")\n",
    "    print(f\"Available columns: {df_raw.columns.tolist()}\")\n",
    "    \n",
    "    df = df_raw.head(24).copy()\n",
    "    \n",
    "    if \"Demand\" not in df.columns:\n",
    "        hours = df[\"timestamp\"].dt.hour\n",
    "        df[\"Demand\"] = 2.0 + 1.5 * np.sin((hours - 6) * np.pi / 12) + np.random.normal(0, 0.1, len(df))\n",
    "        print(\"Generated synthetic demand pattern\")\n",
    "    \n",
    "    if \"PV\" not in df.columns:\n",
    "        if \"pv_low\" in df.columns and \"pv_high\" in df.columns:\n",
    "            df[\"PV\"] = (df[\"pv_low\"] + df[\"pv_high\"]) / 2\n",
    "        else:\n",
    "            hours = df[\"timestamp\"].dt.hour\n",
    "            df[\"PV\"] = np.maximum(0, 3.0 * np.sin((hours - 6) * np.pi / 12))\n",
    "        print(\"Generated PV from available data\")\n",
    "    \n",
    "    if \"Price_buy\" not in df.columns:\n",
    "        if \"Price\" in df.columns:\n",
    "            df[\"Price_buy\"] = df[\"Price\"] * 1.2\n",
    "            df[\"Price_sell\"] = df[\"Price\"] * 0.6\n",
    "        else:\n",
    "            hours = df[\"timestamp\"].dt.hour\n",
    "            df[\"Price_buy\"] = 0.25 + 0.10 * (hours >= 17) + 0.05 * (hours >= 9) * (hours < 17)\n",
    "            df[\"Price_sell\"] = 0.08 + 0.04 * (hours >= 10) * (hours < 16)\n",
    "        print(\"Generated price data from available data\")\n",
    "        \n",
    "else:\n",
    "    print(\"optimisation.csv not found, generating synthetic data\")\n",
    "    dates = pd.date_range(\"2024-07-01\", periods=24, freq=\"h\")\n",
    "    hours = dates.hour\n",
    "    demand_pattern = 2.0 + 1.5 * np.sin((hours - 6) * np.pi / 12)\n",
    "    pv_pattern = np.maximum(0, 3.0 * np.sin((hours - 6) * np.pi / 12))\n",
    "    \n",
    "    df = pd.DataFrame({\n",
    "        \"timestamp\": dates,\n",
    "        \"Demand\": demand_pattern + np.random.normal(0, 0.1, 24),\n",
    "        \"PV\": pv_pattern * (0.8 + np.random.uniform(0, 0.4, 24)),\n",
    "        \"Price_buy\": 0.25 + 0.10 * (hours >= 17) + 0.05 * (hours >= 9) * (hours < 17),\n",
    "        \"Price_sell\": 0.08 + 0.04 * (hours >= 10) * (hours < 16)\n",
    "    })\n",
    "\n",
    "df = df.sort_values(\"timestamp\").reset_index(drop=True)\n",
    "assert df[\"timestamp\"].is_monotonic_increasing, \"Timestamps must be strictly increasing\"\n",
    "\n",
    "num_cols = df.select_dtypes(include=[np.number]).columns\n",
    "if df[num_cols].isna().any().any():\n",
    "    df[num_cols] = df[num_cols].interpolate(limit_direction=\"both\").fillna(method=\"ffill\").fillna(method=\"bfill\")\n",
    "if df[num_cols].isna().any().any():\n",
    "    raise ValueError(\"Numeric columns contain NaNs after filling\")\n",
    "\n",
    "print(f\"\\nOptimization horizon: {len(df)} hours\")\n",
    "print(f\"Demand range: {df['Demand'].min():.2f} - {df['Demand'].max():.2f} kW\")\n",
    "print(f\"PV range: {df['PV'].min():.2f} - {df['PV'].max():.2f} kW\")\n",
    "print(f\"Price buy range: €{df['Price_buy'].min():.3f} - €{df['Price_buy'].max():.3f}/kWh\")\n",
    "print(f\"Price sell range: €{df['Price_sell'].min():.3f} - €{df['Price_sell'].max():.3f}/kWh\")"
   ]
  },
  {
   "cell_type": "code",
   "execution_count": 23,
   "id": "a409dafb",
   "metadata": {
    "execution": {
     "iopub.execute_input": "2025-10-10T17:06:15.073712Z",
     "iopub.status.busy": "2025-10-10T17:06:15.073315Z",
     "iopub.status.idle": "2025-10-10T17:06:15.078301Z",
     "shell.execute_reply": "2025-10-10T17:06:15.077658Z"
    }
   },
   "outputs": [
    {
     "name": "stdout",
     "output_type": "stream",
     "text": [
      "System parameters: PV=5.0kW, Battery=10.0kWh, Power=5.0kW, Grid=5.0kW\n"
     ]
    }
   ],
   "source": [
    "PV_CAP = 5.0\n",
    "BATT_CAP = 10.0\n",
    "BATT_POWER = 5.0\n",
    "GRID_LIMIT = 5.0\n",
    "EFFICIENCY = 0.95\n",
    "T = 24\n",
    "\n",
    "print(f\"System parameters: PV={PV_CAP}kW, Battery={BATT_CAP}kWh, Power={BATT_POWER}kW, Grid={GRID_LIMIT}kW\")"
   ]
  },
  {
   "cell_type": "code",
   "execution_count": 24,
   "id": "c2c3b3be",
   "metadata": {
    "execution": {
     "iopub.execute_input": "2025-10-10T17:06:15.081070Z",
     "iopub.status.busy": "2025-10-10T17:06:15.080628Z",
     "iopub.status.idle": "2025-10-10T17:06:15.093086Z",
     "shell.execute_reply": "2025-10-10T17:06:15.092505Z"
    }
   },
   "outputs": [],
   "source": [
    "def optimize_storage(demand, pv, price_buy, price_sell):\n",
    "    \"\"\"\n",
    "    Optimize battery storage control for a household energy management system.\n",
    "    \n",
    "    Objective: Minimize total cost = sum(price_buy * grid_import - price_sell * grid_export)\n",
    "    \n",
    "    Decision variables:\n",
    "    - soc[t]: State of charge (battery energy level) at time t\n",
    "    - charge[t]: Battery charging power at time t\n",
    "    - discharge[t]: Battery discharging power at time t\n",
    "    - grid_import[t]: Power imported from grid at time t\n",
    "    - grid_export[t]: Power exported to grid at time t\n",
    "    \n",
    "    Constraints:\n",
    "    - Energy balance: PV + grid_import + battery_discharge = demand + grid_export + battery_charge\n",
    "    - Battery dynamics: soc[t+1] = soc[t] + efficiency * charge[t] - discharge[t] / efficiency\n",
    "    - Battery limits: 0 <= soc[t] <= BATT_CAP\n",
    "    - Power limits: charge/discharge <= BATT_POWER, grid <= GRID_LIMIT\n",
    "    \"\"\"\n",
    "    if not USE_CVXPY:\n",
    "        print(\"ERROR: cvxpy not available. Install with: pip install cvxpy\")\n",
    "        return None\n",
    "    \n",
    "    T = len(demand)\n",
    "    \n",
    "    soc = cp.Variable(T+1)\n",
    "    charge = cp.Variable(T)\n",
    "    discharge = cp.Variable(T)\n",
    "    grid_import = cp.Variable(T)\n",
    "    grid_export = cp.Variable(T)\n",
    "    \n",
    "    cost = cp.sum(cp.multiply(price_buy, grid_import) - cp.multiply(price_sell, grid_export))\n",
    "    \n",
    "    constraints = [\n",
    "        soc[0] == BATT_CAP * 0.5,\n",
    "        soc[T] >= BATT_CAP * 0.2,\n",
    "    ]\n",
    "    \n",
    "    for t in range(T):\n",
    "        constraints += [\n",
    "            soc[t+1] == soc[t] + EFFICIENCY * charge[t] - discharge[t] / EFFICIENCY,\n",
    "            soc[t+1] >= 0,\n",
    "            soc[t+1] <= BATT_CAP,\n",
    "            charge[t] >= 0,\n",
    "            charge[t] <= BATT_POWER,\n",
    "            discharge[t] >= 0,\n",
    "            discharge[t] <= BATT_POWER,\n",
    "            grid_import[t] >= 0,\n",
    "            grid_import[t] <= GRID_LIMIT,\n",
    "            grid_export[t] >= 0,\n",
    "            grid_export[t] <= GRID_LIMIT,\n",
    "            pv[t] + grid_import[t] + discharge[t] == demand[t] + grid_export[t] + charge[t]\n",
    "        ]\n",
    "    \n",
    "    problem = cp.Problem(cp.Minimize(cost), constraints)\n",
    "    \n",
    "    try:\n",
    "        problem.solve(solver=cp.ECOS, verbose=False)\n",
    "    except:\n",
    "        try:\n",
    "            problem.solve(solver=cp.SCS, verbose=False)\n",
    "        except:\n",
    "            print(\"All solvers failed\")\n",
    "            return None\n",
    "    \n",
    "    if problem.status not in [\"optimal\", \"optimal_inaccurate\"]:\n",
    "        print(f\"Optimization failed: {problem.status}\")\n",
    "        return None\n",
    "    \n",
    "    return {\n",
    "        \"soc\": soc.value,\n",
    "        \"charge\": charge.value,\n",
    "        \"discharge\": discharge.value,\n",
    "        \"grid_import\": grid_import.value,\n",
    "        \"grid_export\": grid_export.value,\n",
    "        \"cost\": problem.value,\n",
    "        \"status\": problem.status\n",
    "    }"
   ]
  },
  {
   "cell_type": "code",
   "execution_count": 25,
   "id": "9ddcaec8",
   "metadata": {
    "execution": {
     "iopub.execute_input": "2025-10-10T17:06:15.095748Z",
     "iopub.status.busy": "2025-10-10T17:06:15.095293Z",
     "iopub.status.idle": "2025-10-10T17:06:15.103803Z",
     "shell.execute_reply": "2025-10-10T17:06:15.103074Z"
    }
   },
   "outputs": [
    {
     "name": "stdout",
     "output_type": "stream",
     "text": [
      "=== Scenario 1: PV_low (50% of baseline) ===\n",
      "\n",
      "=== Scenario 2: PV_high (150% of baseline) ===\n",
      "\n",
      "PV_low optimization cost: €3.90\n",
      "Status: optimal\n",
      "\n",
      "PV_high optimization cost: €3.17\n",
      "Status: optimal\n",
      "\n",
      "=== Scenario 2: PV_high (150% of baseline) ===\n",
      "\n",
      "PV_low optimization cost: €3.90\n",
      "Status: optimal\n",
      "\n",
      "PV_high optimization cost: €3.17\n",
      "Status: optimal\n"
     ]
    }
   ],
   "source": [
    "demand = df[\"Demand\"].values\n",
    "pv_base = df[\"PV\"].values\n",
    "price_buy = df[\"Price_buy\"].values\n",
    "price_sell = df[\"Price_sell\"].values\n",
    "\n",
    "pv_low = pv_base * 0.5\n",
    "pv_high = pv_base * 1.5\n",
    "\n",
    "print(\"=== Scenario 1: PV_low (50% of baseline) ===\")\n",
    "result_low = optimize_storage(demand, pv_low, price_buy, price_sell)\n",
    "if result_low:\n",
    "    assert result_low[\"status\"] in {\"optimal\", \"optimal_inaccurate\"}, \"PV_low solver did not converge\"\n",
    "    if not np.all((result_low[\"soc\"] >= -1e-6) & (result_low[\"soc\"] <= BATT_CAP + 1e-6)):\n",
    "        raise ValueError(\"PV_low SOC out of bounds\")\n",
    "\n",
    "print(\"\\n=== Scenario 2: PV_high (150% of baseline) ===\")\n",
    "result_high = optimize_storage(demand, pv_high, price_buy, price_sell)\n",
    "if result_high:\n",
    "    assert result_high[\"status\"] in {\"optimal\", \"optimal_inaccurate\"}, \"PV_high solver did not converge\"\n",
    "    if not np.all((result_high[\"soc\"] >= -1e-6) & (result_high[\"soc\"] <= BATT_CAP + 1e-6)):\n",
    "        raise ValueError(\"PV_high SOC out of bounds\")\n",
    "\n",
    "if result_low:\n",
    "    print(f\"\\nPV_low optimization cost: €{result_low['cost']:.2f}\")\n",
    "    print(f\"Status: {result_low['status']}\")\n",
    "if result_high:\n",
    "    print(f\"\\nPV_high optimization cost: €{result_high['cost']:.2f}\")\n",
    "    print(f\"Status: {result_high['status']}\")"
   ]
  },
  {
   "cell_type": "code",
   "execution_count": 26,
   "id": "292b98b3",
   "metadata": {
    "execution": {
     "iopub.execute_input": "2025-10-10T17:06:15.107670Z",
     "iopub.status.busy": "2025-10-10T17:06:15.107309Z",
     "iopub.status.idle": "2025-10-10T17:06:15.114501Z",
     "shell.execute_reply": "2025-10-10T17:06:15.113970Z"
    }
   },
   "outputs": [
    {
     "name": "stdout",
     "output_type": "stream",
     "text": [
      "\n",
      "=== Optimization Summary ===\n",
      "Scenario  Total_cost_EUR  Energy_bought_kWh  Energy_sold_kWh  Battery_cycles  SOC_max_kWh  SOC_min_kWh\n",
      "  PV_low            3.90              42.27              0.0            1.23         10.0          0.0\n",
      " PV_high            3.17              35.15              0.0            1.23         10.0          0.0\n"
     ]
    },
    {
     "data": {
      "application/vnd.microsoft.datawrangler.viewer.v0+json": {
       "columns": [
        {
         "name": "index",
         "rawType": "int64",
         "type": "integer"
        },
        {
         "name": "Scenario",
         "rawType": "object",
         "type": "string"
        },
        {
         "name": "Total_cost_EUR",
         "rawType": "float64",
         "type": "float"
        },
        {
         "name": "Energy_bought_kWh",
         "rawType": "float64",
         "type": "float"
        },
        {
         "name": "Energy_sold_kWh",
         "rawType": "float64",
         "type": "float"
        },
        {
         "name": "Battery_cycles",
         "rawType": "float64",
         "type": "float"
        },
        {
         "name": "SOC_max_kWh",
         "rawType": "float64",
         "type": "float"
        },
        {
         "name": "SOC_min_kWh",
         "rawType": "float64",
         "type": "float"
        }
       ],
       "ref": "de4b6739-d47c-47a9-85ef-63ded6a50231",
       "rows": [
        [
         "0",
         "PV_low",
         "3.9",
         "42.27",
         "0.0",
         "1.23",
         "10.0",
         "0.0"
        ],
        [
         "1",
         "PV_high",
         "3.17",
         "35.15",
         "0.0",
         "1.23",
         "10.0",
         "0.0"
        ]
       ],
       "shape": {
        "columns": 7,
        "rows": 2
       }
      },
      "text/html": [
       "<div>\n",
       "<style scoped>\n",
       "    .dataframe tbody tr th:only-of-type {\n",
       "        vertical-align: middle;\n",
       "    }\n",
       "\n",
       "    .dataframe tbody tr th {\n",
       "        vertical-align: top;\n",
       "    }\n",
       "\n",
       "    .dataframe thead th {\n",
       "        text-align: right;\n",
       "    }\n",
       "</style>\n",
       "<table border=\"1\" class=\"dataframe\">\n",
       "  <thead>\n",
       "    <tr style=\"text-align: right;\">\n",
       "      <th></th>\n",
       "      <th>Scenario</th>\n",
       "      <th>Total_cost_EUR</th>\n",
       "      <th>Energy_bought_kWh</th>\n",
       "      <th>Energy_sold_kWh</th>\n",
       "      <th>Battery_cycles</th>\n",
       "      <th>SOC_max_kWh</th>\n",
       "      <th>SOC_min_kWh</th>\n",
       "    </tr>\n",
       "  </thead>\n",
       "  <tbody>\n",
       "    <tr>\n",
       "      <th>0</th>\n",
       "      <td>PV_low</td>\n",
       "      <td>3.90</td>\n",
       "      <td>42.27</td>\n",
       "      <td>0.0</td>\n",
       "      <td>1.23</td>\n",
       "      <td>10.0</td>\n",
       "      <td>0.0</td>\n",
       "    </tr>\n",
       "    <tr>\n",
       "      <th>1</th>\n",
       "      <td>PV_high</td>\n",
       "      <td>3.17</td>\n",
       "      <td>35.15</td>\n",
       "      <td>0.0</td>\n",
       "      <td>1.23</td>\n",
       "      <td>10.0</td>\n",
       "      <td>0.0</td>\n",
       "    </tr>\n",
       "  </tbody>\n",
       "</table>\n",
       "</div>"
      ],
      "text/plain": [
       "  Scenario  Total_cost_EUR  Energy_bought_kWh  Energy_sold_kWh  \\\n",
       "0   PV_low            3.90              42.27              0.0   \n",
       "1  PV_high            3.17              35.15              0.0   \n",
       "\n",
       "   Battery_cycles  SOC_max_kWh  SOC_min_kWh  \n",
       "0            1.23         10.0          0.0  \n",
       "1            1.23         10.0          0.0  "
      ]
     },
     "metadata": {},
     "output_type": "display_data"
    }
   ],
   "source": [
    "if result_low and result_high:\n",
    "    summary_data = []\n",
    "    \n",
    "    for name, result, pv in [(\"PV_low\", result_low, pv_low), (\"PV_high\", result_high, pv_high)]:\n",
    "        total_cost = result[\"cost\"]\n",
    "        energy_bought = np.sum(result[\"grid_import\"])\n",
    "        energy_sold = np.sum(result[\"grid_export\"])\n",
    "        battery_throughput = np.sum(result[\"discharge\"])\n",
    "        battery_cycles = battery_throughput / BATT_CAP\n",
    "        max_soc = np.max(result[\"soc\"])\n",
    "        min_soc = np.min(result[\"soc\"])\n",
    "        \n",
    "        summary_data.append({\n",
    "            \"Scenario\": name,\n",
    "            \"Total_cost_EUR\": round(total_cost, 2),\n",
    "            \"Energy_bought_kWh\": round(energy_bought, 2),\n",
    "            \"Energy_sold_kWh\": round(energy_sold, 2),\n",
    "            \"Battery_cycles\": round(battery_cycles, 2),\n",
    "            \"SOC_max_kWh\": round(max_soc, 2),\n",
    "            \"SOC_min_kWh\": round(min_soc, 2)\n",
    "        })\n",
    "    \n",
    "    summary_df = pd.DataFrame(summary_data)\n",
    "    print(\"\\n=== Optimization Summary ===\")\n",
    "    print(summary_df.to_string(index=False))\n",
    "    display_table(summary_df, \"11_storage_optimization_summary.csv\")\n",
    "else:\n",
    "    print(\"Optimization failed, cannot generate summary\")\n"
   ]
  },
  {
   "cell_type": "code",
   "execution_count": 27,
   "id": "504d5938",
   "metadata": {
    "execution": {
     "iopub.execute_input": "2025-10-10T17:06:15.117011Z",
     "iopub.status.busy": "2025-10-10T17:06:15.116704Z",
     "iopub.status.idle": "2025-10-10T17:06:15.128386Z",
     "shell.execute_reply": "2025-10-10T17:06:15.127771Z"
    }
   },
   "outputs": [
    {
     "name": "stdout",
     "output_type": "stream",
     "text": [
      "PV_low optimization plot saved and displayed.\n"
     ]
    }
   ],
   "source": [
    "if result_low and result_high:\n",
    "    hours = np.arange(T)\n",
    "    \n",
    "    fig, axes = plt.subplots(2, 2, figsize=(14, 10))\n",
    "    \n",
    "    axes[0, 0].plot(hours, demand, label=\"Demand\", color=\"black\", linewidth=2)\n",
    "    axes[0, 0].plot(hours, pv_low, label=\"PV_low\", color=\"orange\", linestyle=\"--\")\n",
    "    axes[0, 0].set_ylabel(\"Power (kW)\")\n",
    "    axes[0, 0].set_title(\"PV_low: Demand & PV\")\n",
    "    axes[0, 0].legend()\n",
    "    axes[0, 0].grid(alpha=0.3)\n",
    "    \n",
    "    axes[0, 1].plot(hours, result_low[\"grid_import\"], label=\"Import\", color=\"red\")\n",
    "    axes[0, 1].plot(hours, result_low[\"grid_export\"], label=\"Export\", color=\"green\")\n",
    "    axes[0, 1].set_ylabel(\"Power (kW)\")\n",
    "    axes[0, 1].set_title(\"PV_low: Grid flows\")\n",
    "    axes[0, 1].legend()\n",
    "    axes[0, 1].grid(alpha=0.3)\n",
    "    \n",
    "    axes[1, 0].plot(hours, result_low[\"soc\"][:-1], label=\"SOC\", color=\"blue\", linewidth=2)\n",
    "    axes[1, 0].axhline(BATT_CAP, color=\"gray\", linestyle=\"--\", label=\"Max capacity\")\n",
    "    axes[1, 0].set_xlabel(\"Hour\")\n",
    "    axes[1, 0].set_ylabel(\"Energy (kWh)\")\n",
    "    axes[1, 0].set_title(\"PV_low: Battery SOC\")\n",
    "    axes[1, 0].legend()\n",
    "    axes[1, 0].grid(alpha=0.3)\n",
    "    \n",
    "    axes[1, 1].plot(hours, result_low[\"charge\"], label=\"Charge\", color=\"green\")\n",
    "    axes[1, 1].plot(hours, result_low[\"discharge\"], label=\"Discharge\", color=\"red\")\n",
    "    axes[1, 1].set_xlabel(\"Hour\")\n",
    "    axes[1, 1].set_ylabel(\"Power (kW)\")\n",
    "    axes[1, 1].set_title(\"PV_low: Battery power\")\n",
    "    axes[1, 1].legend()\n",
    "    axes[1, 1].grid(alpha=0.3)\n",
    "    \n",
    "    plt.tight_layout()\n",
    "    save_figure(fig, \"11_optimization_PV_low.png\")\n",
    "    print(\"PV_low optimization plot saved and displayed.\")\n"
   ]
  },
  {
   "cell_type": "code",
   "execution_count": 28,
   "id": "d583110d",
   "metadata": {
    "execution": {
     "iopub.execute_input": "2025-10-10T17:06:15.130962Z",
     "iopub.status.busy": "2025-10-10T17:06:15.130690Z",
     "iopub.status.idle": "2025-10-10T17:06:15.141715Z",
     "shell.execute_reply": "2025-10-10T17:06:15.141001Z"
    }
   },
   "outputs": [
    {
     "name": "stdout",
     "output_type": "stream",
     "text": [
      "PV_high optimization plot saved and displayed.\n"
     ]
    }
   ],
   "source": [
    "if result_low and result_high:\n",
    "    fig, axes = plt.subplots(2, 2, figsize=(14, 10))\n",
    "    \n",
    "    axes[0, 0].plot(hours, demand, label=\"Demand\", color=\"black\", linewidth=2)\n",
    "    axes[0, 0].plot(hours, pv_high, label=\"PV_high\", color=\"orange\", linestyle=\"--\")\n",
    "    axes[0, 0].set_ylabel(\"Power (kW)\")\n",
    "    axes[0, 0].set_title(\"PV_high: Demand & PV\")\n",
    "    axes[0, 0].legend()\n",
    "    axes[0, 0].grid(alpha=0.3)\n",
    "    \n",
    "    axes[0, 1].plot(hours, result_high[\"grid_import\"], label=\"Import\", color=\"red\")\n",
    "    axes[0, 1].plot(hours, result_high[\"grid_export\"], label=\"Export\", color=\"green\")\n",
    "    axes[0, 1].set_ylabel(\"Power (kW)\")\n",
    "    axes[0, 1].set_title(\"PV_high: Grid flows\")\n",
    "    axes[0, 1].legend()\n",
    "    axes[0, 1].grid(alpha=0.3)\n",
    "    \n",
    "    axes[1, 0].plot(hours, result_high[\"soc\"][:-1], label=\"SOC\", color=\"blue\", linewidth=2)\n",
    "    axes[1, 0].axhline(BATT_CAP, color=\"gray\", linestyle=\"--\", label=\"Max capacity\")\n",
    "    axes[1, 0].set_xlabel(\"Hour\")\n",
    "    axes[1, 0].set_ylabel(\"Energy (kWh)\")\n",
    "    axes[1, 0].set_title(\"PV_high: Battery SOC\")\n",
    "    axes[1, 0].legend()\n",
    "    axes[1, 0].grid(alpha=0.3)\n",
    "    \n",
    "    axes[1, 1].plot(hours, result_high[\"charge\"], label=\"Charge\", color=\"green\")\n",
    "    axes[1, 1].plot(hours, result_high[\"discharge\"], label=\"Discharge\", color=\"red\")\n",
    "    axes[1, 1].set_xlabel(\"Hour\")\n",
    "    axes[1, 1].set_ylabel(\"Power (kW)\")\n",
    "    axes[1, 1].set_title(\"PV_high: Battery power\")\n",
    "    axes[1, 1].legend()\n",
    "    axes[1, 1].grid(alpha=0.3)\n",
    "    \n",
    "    plt.tight_layout()\n",
    "    save_figure(fig, \"11_optimization_PV_high.png\")\n",
    "    print(\"PV_high optimization plot saved and displayed.\")\n"
   ]
  },
  {
   "cell_type": "code",
   "execution_count": 29,
   "id": "43e99c9e",
   "metadata": {
    "execution": {
     "iopub.execute_input": "2025-10-10T17:06:15.144879Z",
     "iopub.status.busy": "2025-10-10T17:06:15.144548Z",
     "iopub.status.idle": "2025-10-10T17:06:15.157833Z",
     "shell.execute_reply": "2025-10-10T17:06:15.156834Z"
    }
   },
   "outputs": [
    {
     "name": "stdout",
     "output_type": "stream",
     "text": [
      "\n",
      "Sensitivity analysis:\n",
      "   Battery_capacity_kWh  Total_cost\n",
      "0                     5    3.875341\n",
      "1                    10    3.617922\n",
      "2                    15    3.380534\n"
     ]
    },
    {
     "data": {
      "application/vnd.microsoft.datawrangler.viewer.v0+json": {
       "columns": [
        {
         "name": "index",
         "rawType": "int64",
         "type": "integer"
        },
        {
         "name": "Battery_capacity_kWh",
         "rawType": "int64",
         "type": "integer"
        },
        {
         "name": "Total_cost",
         "rawType": "float64",
         "type": "float"
        }
       ],
       "ref": "3bd23f32-dc72-4efa-9f45-93c99467582e",
       "rows": [
        [
         "0",
         "5",
         "3.8753406325455675"
        ],
        [
         "1",
         "10",
         "3.617921515895428"
        ],
        [
         "2",
         "15",
         "3.380534018950727"
        ]
       ],
       "shape": {
        "columns": 2,
        "rows": 3
       }
      },
      "text/html": [
       "<div>\n",
       "<style scoped>\n",
       "    .dataframe tbody tr th:only-of-type {\n",
       "        vertical-align: middle;\n",
       "    }\n",
       "\n",
       "    .dataframe tbody tr th {\n",
       "        vertical-align: top;\n",
       "    }\n",
       "\n",
       "    .dataframe thead th {\n",
       "        text-align: right;\n",
       "    }\n",
       "</style>\n",
       "<table border=\"1\" class=\"dataframe\">\n",
       "  <thead>\n",
       "    <tr style=\"text-align: right;\">\n",
       "      <th></th>\n",
       "      <th>Battery_capacity_kWh</th>\n",
       "      <th>Total_cost</th>\n",
       "    </tr>\n",
       "  </thead>\n",
       "  <tbody>\n",
       "    <tr>\n",
       "      <th>0</th>\n",
       "      <td>5</td>\n",
       "      <td>3.875341</td>\n",
       "    </tr>\n",
       "    <tr>\n",
       "      <th>1</th>\n",
       "      <td>10</td>\n",
       "      <td>3.617922</td>\n",
       "    </tr>\n",
       "    <tr>\n",
       "      <th>2</th>\n",
       "      <td>15</td>\n",
       "      <td>3.380534</td>\n",
       "    </tr>\n",
       "  </tbody>\n",
       "</table>\n",
       "</div>"
      ],
      "text/plain": [
       "   Battery_capacity_kWh  Total_cost\n",
       "0                     5    3.875341\n",
       "1                    10    3.617922\n",
       "2                    15    3.380534"
      ]
     },
     "metadata": {},
     "output_type": "display_data"
    },
    {
     "name": "stdout",
     "output_type": "stream",
     "text": [
      "Sensitivity analysis plot saved and displayed.\n"
     ]
    }
   ],
   "source": [
    "if result_low and result_high:\n",
    "    battery_capacities = [5, 10, 15]\n",
    "    sensitivity_results = []\n",
    "    \n",
    "    for batt_cap in battery_capacities:\n",
    "        BATT_CAP_TEMP = batt_cap\n",
    "        \n",
    "        soc = cp.Variable(T+1)\n",
    "        charge = cp.Variable(T)\n",
    "        discharge = cp.Variable(T)\n",
    "        grid_import = cp.Variable(T)\n",
    "        grid_export = cp.Variable(T)\n",
    "        \n",
    "        cost = cp.sum(cp.multiply(price_buy, grid_import) - cp.multiply(price_sell, grid_export))\n",
    "        \n",
    "        constraints = [\n",
    "            soc[0] == BATT_CAP_TEMP * 0.5,\n",
    "            soc[T] >= BATT_CAP_TEMP * 0.3,\n",
    "        ]\n",
    "        \n",
    "        for t in range(T):\n",
    "            constraints += [\n",
    "                soc[t+1] == soc[t] + EFFICIENCY * charge[t] - discharge[t] / EFFICIENCY,\n",
    "                soc[t+1] >= 0,\n",
    "                soc[t+1] <= BATT_CAP_TEMP,\n",
    "                charge[t] >= 0,\n",
    "                charge[t] <= BATT_POWER,\n",
    "                discharge[t] >= 0,\n",
    "                discharge[t] <= BATT_POWER,\n",
    "                grid_import[t] >= 0,\n",
    "                grid_import[t] <= GRID_LIMIT,\n",
    "                grid_export[t] >= 0,\n",
    "                grid_export[t] <= GRID_LIMIT,\n",
    "                pv_base[t] + grid_import[t] + discharge[t] == demand[t] + grid_export[t] + charge[t]\n",
    "            ]\n",
    "        \n",
    "        problem = cp.Problem(cp.Minimize(cost), constraints)\n",
    "        \n",
    "        try:\n",
    "            problem.solve(solver=cp.ECOS, verbose=False)\n",
    "        except:\n",
    "            try:\n",
    "                problem.solve(solver=cp.SCS, verbose=False)\n",
    "            except:\n",
    "                print(f\"Solver failed for capacity {batt_cap}\")\n",
    "                continue\n",
    "        \n",
    "        if problem.status in [\"optimal\", \"optimal_inaccurate\"]:\n",
    "            sensitivity_results.append({\n",
    "                \"Battery_capacity_kWh\": batt_cap,\n",
    "                \"Total_cost\": problem.value\n",
    "            })\n",
    "    \n",
    "    if sensitivity_results:\n",
    "        sensitivity_df = pd.DataFrame(sensitivity_results)\n",
    "        print(\"\\nSensitivity analysis:\")\n",
    "        print(sensitivity_df)\n",
    "        display_table(sensitivity_df, \"11_battery_sensitivity.csv\")\n",
    "        \n",
    "        fig, ax = plt.subplots(figsize=(8, 5))\n",
    "        ax.plot(sensitivity_df[\"Battery_capacity_kWh\"], sensitivity_df[\"Total_cost\"], \n",
    "                marker=\"o\", linewidth=2, markersize=8)\n",
    "        ax.set_xlabel(\"Battery capacity (kWh)\")\n",
    "        ax.set_ylabel(\"Total cost (€)\")\n",
    "        ax.set_title(\"Battery capacity sensitivity analysis\")\n",
    "        ax.grid(alpha=0.3)\n",
    "        plt.tight_layout()\n",
    "        save_figure(fig, \"11_battery_sensitivity.png\")\n",
    "        print(\"Sensitivity analysis plot saved and displayed.\")\n"
   ]
  },
  {
   "cell_type": "code",
   "execution_count": 30,
   "id": "d34b067f",
   "metadata": {
    "execution": {
     "iopub.execute_input": "2025-10-10T17:06:15.160744Z",
     "iopub.status.busy": "2025-10-10T17:06:15.160412Z",
     "iopub.status.idle": "2025-10-10T17:06:15.179579Z",
     "shell.execute_reply": "2025-10-10T17:06:15.178895Z"
    }
   },
   "outputs": [
    {
     "name": "stdout",
     "output_type": "stream",
     "text": [
      "Combined optimization plot saved and displayed.\n"
     ]
    }
   ],
   "source": [
    "if result_low and result_high:\n",
    "    fig, axes = plt.subplots(2, 3, figsize=(18, 10))\n",
    "    hours = np.arange(T)\n",
    "    \n",
    "    axes[0, 0].plot(hours, demand, 'k-', linewidth=2, label='Demand')\n",
    "    axes[0, 0].plot(hours, pv_low, 'orange', linestyle='--', label='PV (50%)')\n",
    "    axes[0, 0].fill_between(hours, 0, demand, alpha=0.1, color='black')\n",
    "    axes[0, 0].fill_between(hours, 0, pv_low, alpha=0.2, color='orange')\n",
    "    axes[0, 0].set_ylabel('Power (kW)')\n",
    "    axes[0, 0].set_title('PV_low: Power flows')\n",
    "    axes[0, 0].legend()\n",
    "    axes[0, 0].grid(alpha=0.3)\n",
    "    \n",
    "    axes[0, 1].plot(hours, result_low[\"soc\"][:-1], 'b-', linewidth=2, label='SOC')\n",
    "    axes[0, 1].axhline(BATT_CAP, color='gray', linestyle='--', alpha=0.5, label='Max capacity')\n",
    "    axes[0, 1].fill_between(hours, 0, result_low[\"soc\"][:-1], alpha=0.2, color='blue')\n",
    "    axes[0, 1].set_ylabel('Energy (kWh)')\n",
    "    axes[0, 1].set_title('PV_low: Battery SOC')\n",
    "    axes[0, 1].legend()\n",
    "    axes[0, 1].grid(alpha=0.3)\n",
    "    \n",
    "    axes[0, 2].bar(hours, result_low[\"grid_import\"], color='red', alpha=0.6, label='Import')\n",
    "    axes[0, 2].bar(hours, -result_low[\"grid_export\"], color='green', alpha=0.6, label='Export')\n",
    "    axes[0, 2].axhline(0, color='black', linewidth=0.5)\n",
    "    axes[0, 2].set_ylabel('Power (kW)')\n",
    "    axes[0, 2].set_title('PV_low: Grid exchange')\n",
    "    axes[0, 2].legend()\n",
    "    axes[0, 2].grid(alpha=0.3)\n",
    "    \n",
    "    axes[1, 0].plot(hours, demand, 'k-', linewidth=2, label='Demand')\n",
    "    axes[1, 0].plot(hours, pv_high, 'orange', linestyle='--', label='PV (150%)')\n",
    "    axes[1, 0].fill_between(hours, 0, demand, alpha=0.1, color='black')\n",
    "    axes[1, 0].fill_between(hours, 0, pv_high, alpha=0.2, color='orange')\n",
    "    axes[1, 0].set_xlabel('Hour')\n",
    "    axes[1, 0].set_ylabel('Power (kW)')\n",
    "    axes[1, 0].set_title('PV_high: Power flows')\n",
    "    axes[1, 0].legend()\n",
    "    axes[1, 0].grid(alpha=0.3)\n",
    "    \n",
    "    axes[1, 1].plot(hours, result_high[\"soc\"][:-1], 'b-', linewidth=2, label='SOC')\n",
    "    axes[1, 1].axhline(BATT_CAP, color='gray', linestyle='--', alpha=0.5, label='Max capacity')\n",
    "    axes[1, 1].fill_between(hours, 0, result_high[\"soc\"][:-1], alpha=0.2, color='blue')\n",
    "    axes[1, 1].set_xlabel('Hour')\n",
    "    axes[1, 1].set_ylabel('Energy (kWh)')\n",
    "    axes[1, 1].set_title('PV_high: Battery SOC')\n",
    "    axes[1, 1].legend()\n",
    "    axes[1, 1].grid(alpha=0.3)\n",
    "    \n",
    "    axes[1, 2].bar(hours, result_high[\"grid_import\"], color='red', alpha=0.6, label='Import')\n",
    "    axes[1, 2].bar(hours, -result_high[\"grid_export\"], color='green', alpha=0.6, label='Export')\n",
    "    axes[1, 2].axhline(0, color='black', linewidth=0.5)\n",
    "    axes[1, 2].set_xlabel('Hour')\n",
    "    axes[1, 2].set_ylabel('Power (kW)')\n",
    "    axes[1, 2].set_title('PV_high: Grid exchange')\n",
    "    axes[1, 2].legend()\n",
    "    axes[1, 2].grid(alpha=0.3)\n",
    "    \n",
    "    plt.suptitle('Optimal Battery Control: PV_low vs PV_high Scenarios', fontsize=14, y=0.995)\n",
    "    plt.tight_layout()\n",
    "    save_figure(fig, \"11_optimization_combined.png\")\n",
    "    print(\"Combined optimization plot saved and displayed.\")\n"
   ]
  },
  {
   "cell_type": "markdown",
   "id": "753b3e32",
   "metadata": {},
   "source": [
    "## Key Insights from Battery Optimization\n",
    "\n",
    "**Scenario Comparison:**\n",
    "- **PV_low (50%)**: Lower solar generation → More grid imports, higher costs\n",
    "- **PV_high (150%)**: Higher solar generation → More self-consumption and grid exports, lower costs\n",
    "\n",
    "**Optimization Strategy:**\n",
    "1. **Peak shaving**: Battery discharges during high-demand/high-price periods\n",
    "2. **Valley filling**: Battery charges during low-demand/low-price periods  \n",
    "3. **PV utilization**: Excess PV is stored or exported based on price signals\n",
    "\n",
    "**Battery Usage Pattern:**\n",
    "- Charges when: PV > Demand AND price_sell < future price_buy\n",
    "- Discharges when: Demand > PV AND price_buy is high\n",
    "- Exports when: PV > Demand + Battery charge capacity\n",
    "\n",
    "**Economic Impact:**\n",
    "- Higher PV reduces grid dependency → Lower total cost\n",
    "- Battery enables time-shifting of cheap/free solar energy\n",
    "- Export revenue partially offsets import costs"
   ]
  }
 ],
 "metadata": {
  "kernelspec": {
   "display_name": "ML",
   "language": "python",
   "name": "python3"
  },
  "language_info": {
   "codemirror_mode": {
    "name": "ipython",
    "version": 3
   },
   "file_extension": ".py",
   "mimetype": "text/x-python",
   "name": "python",
   "nbconvert_exporter": "python",
   "pygments_lexer": "ipython3",
   "version": "3.9.13"
  }
 },
 "nbformat": 4,
 "nbformat_minor": 5
}
