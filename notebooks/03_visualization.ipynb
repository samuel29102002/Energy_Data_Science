{
 "cells": [
  {
   "cell_type": "markdown",
   "id": "fa69df2c",
   "metadata": {},
   "source": [
    "# Task 3 – Visualisation Portfolio\n",
    "\n",
    "Academic-ready figures (white theme) and interactive dashboard assets are produced in tandem. Interpretive notes for the report are kept in `reports/notes/task3_visualization.txt`."
   ]
  },
  {
   "cell_type": "markdown",
   "id": "6d3d0f5c",
   "metadata": {},
   "source": [
    "## Styling setup"
   ]
  },
  {
   "cell_type": "code",
   "execution_count": null,
   "id": "2da9fab9",
   "metadata": {},
   "outputs": [],
   "source": [
    "\n",
    "from pathlib import Path\n",
    "import matplotlib.pyplot as plt\n",
    "import matplotlib as mpl\n",
    "import numpy as np\n",
    "import pandas as pd\n",
    "import seaborn as sns\n",
    "import plotly.graph_objects as go\n",
    "import plotly.express as px\n",
    "import plotly.io as pio\n",
    "\n",
    "ROOT = Path('..')\n",
    "DATA_PATH = ROOT / 'data' / 'raw' / 'train_252145.csv'\n",
    "FIGURES_DIR = ROOT / 'reports' / 'figures'\n",
    "INTERACTIVE_DIR = FIGURES_DIR / 'interactive'\n",
    "TABLES_DIR = ROOT / 'reports' / 'tables'\n",
    "FIGURES_DIR.mkdir(parents=True, exist_ok=True)\n",
    "INTERACTIVE_DIR.mkdir(parents=True, exist_ok=True)\n",
    "TABLES_DIR.mkdir(parents=True, exist_ok=True)\n",
    "\n",
    "COLORS = {\n",
    "    'pv': '#FFA500',        # solar orange\n",
    "    'demand': '#2ca02c',    # battery green\n",
    "    'price': '#1f77b4',     # grid blue\n",
    "    'storage': '#7f7f7f',   # neutral gray\n",
    "}\n",
    "\n",
    "mpl.rcParams.update({\n",
    "    'figure.dpi': 110,\n",
    "    'figure.facecolor': 'white',\n",
    "    'axes.facecolor': 'white',\n",
    "    'axes.edgecolor': 'black',\n",
    "    'axes.labelcolor': 'black',\n",
    "    'axes.titleweight': 'semibold',\n",
    "    'axes.titlelocation': 'left',\n",
    "    'xtick.color': 'black',\n",
    "    'ytick.color': 'black',\n",
    "    'grid.color': '#d9d9d9',\n",
    "    'grid.linestyle': '--',\n",
    "    'grid.linewidth': 0.6,\n",
    "    'axes.grid': True,\n",
    "    'font.family': 'DejaVu Sans',\n",
    "    'legend.frameon': True,\n",
    "    'legend.framealpha': 0.9,\n",
    "    'legend.edgecolor': '#dddddd',\n",
    "})\n",
    "\n",
    "sns.set_theme(style='whitegrid')\n",
    "\n",
    "COLORWAY = [COLORS['pv'], COLORS['demand'], COLORS['price'], COLORS['storage']]\n",
    "pio.templates['energy_light'] = go.layout.Template(layout=dict(\n",
    "    paper_bgcolor='white',\n",
    "    plot_bgcolor='white',\n",
    "    font=dict(family='Inter, Open Sans, sans-serif', color='#212529'),\n",
    "    colorway=COLORWAY,\n",
    "    xaxis=dict(gridcolor='#e9ecef', zerolinecolor='#e9ecef'),\n",
    "    yaxis=dict(gridcolor='#e9ecef', zerolinecolor='#e9ecef'),\n",
    "    legend=dict(bgcolor='rgba(255,255,255,0.85)', bordercolor='#ced4da', borderwidth=1),\n",
    "    hoverlabel=dict(bgcolor='#f8f9fa', font=dict(color='#212529')),\n",
    "))\n",
    "pio.templates.default = 'energy_light'\n",
    "px.defaults.template = 'energy_light'\n",
    "px.defaults.color_discrete_sequence = COLORWAY\n",
    "\n",
    "\n",
    "def save_figure(fig, basename, dpi=300):\n",
    "    png_path = FIGURES_DIR / f'{basename}.png'\n",
    "    pdf_path = FIGURES_DIR / f'{basename}.pdf'\n",
    "    fig.savefig(png_path, dpi=dpi, bbox_inches='tight')\n",
    "    fig.savefig(pdf_path, dpi=dpi, bbox_inches='tight')\n",
    "    return png_path, pdf_path\n",
    "\n",
    "\n",
    "def save_interactive(fig, basename):\n",
    "    html_path = INTERACTIVE_DIR / f'{basename}.html'\n",
    "    fig.write_html(html_path, include_plotlyjs='cdn')\n",
    "    return html_path\n"
   ]
  },
  {
   "cell_type": "markdown",
   "id": "e2af48c8",
   "metadata": {},
   "source": [
    "## Load and enrich the dataset"
   ]
  },
  {
   "cell_type": "code",
   "execution_count": null,
   "id": "bde826d7",
   "metadata": {},
   "outputs": [],
   "source": [
    "\n",
    "df = pd.read_csv(DATA_PATH, parse_dates=['timestamp']).sort_values('timestamp')\n",
    "df = df.set_index('timestamp')\n",
    "df['hour'] = df.index.hour\n",
    "df['day_of_week'] = df.index.day_name()\n",
    "df['is_weekend'] = df.index.dayofweek >= 5\n",
    "df.head()\n"
   ]
  },
  {
   "cell_type": "code",
   "execution_count": null,
   "id": "d4060be0",
   "metadata": {},
   "outputs": [],
   "source": [
    "\n",
    "summary = df[['pv', 'Demand', 'Price']].describe().T.round(3)\n",
    "summary_path = TABLES_DIR / 'task3_summary_stats.csv'\n",
    "summary.to_csv(summary_path)\n",
    "summary\n"
   ]
  },
  {
   "cell_type": "markdown",
   "id": "fa3f6581",
   "metadata": {},
   "source": [
    "## Figure 1 – Timeseries overlay"
   ]
  },
  {
   "cell_type": "code",
   "execution_count": null,
   "id": "3d327702",
   "metadata": {},
   "outputs": [],
   "source": [
    "\n",
    "week_window = df.loc['2013-08-01':'2013-08-07']\n",
    "fig, ax_left = plt.subplots(figsize=(12, 4.5))\n",
    "ax_right = ax_left.twinx()\n",
    "ax_left.plot(week_window.index, week_window['pv'], color=COLORS['pv'], linewidth=1.8, label='PV (kW)')\n",
    "ax_left.plot(week_window.index, week_window['Demand'], color=COLORS['demand'], linewidth=1.8, label='Demand (kW)')\n",
    "ax_right.plot(week_window.index, week_window['Price'], color=COLORS['price'], linewidth=1.2, linestyle='--', label='Price (€/kWh)')\n",
    "ax_left.set_title('Demand, PV, and Price – 1 to 7 Aug 2013')\n",
    "ax_left.set_ylabel('PV & Demand (kW)')\n",
    "ax_right.set_ylabel('Price (€/kWh)')\n",
    "ax_left.set_xlabel('Timestamp (UTC)')\n",
    "lines, labels = ax_left.get_legend_handles_labels()\n",
    "lines2, labels2 = ax_right.get_legend_handles_labels()\n",
    "ax_left.legend(lines + lines2, labels + labels2, loc='upper left', ncol=3)\n",
    "fig.tight_layout()\n",
    "save_figure(fig, 'task3_fig1_timeseries_overlay')\n",
    "plt.show()\n",
    "\n",
    "interactive_fig = go.Figure()\n",
    "interactive_fig.add_trace(go.Scatter(x=week_window.index, y=week_window['pv'], name='PV (kW)', mode='lines'))\n",
    "interactive_fig.add_trace(go.Scatter(x=week_window.index, y=week_window['Demand'], name='Demand (kW)', mode='lines'))\n",
    "interactive_fig.add_trace(go.Scatter(x=week_window.index, y=week_window['Price'], name='Price (€/kWh)', mode='lines', yaxis='y2', line=dict(dash='dash')))\n",
    "interactive_fig.update_layout(\n",
    "    title='Demand, PV, and Price – 1 to 7 Aug 2013',\n",
    "    xaxis_title='Timestamp (UTC)',\n",
    "    yaxis=dict(title='PV & Demand (kW)'),\n",
    "    yaxis2=dict(title='Price (€/kWh)', overlaying='y', side='right'),\n",
    ")\n",
    "save_interactive(interactive_fig, 'task3_fig1_timeseries_overlay_interactive')\n",
    "interactive_fig.show()\n"
   ]
  },
  {
   "cell_type": "markdown",
   "id": "dea63016",
   "metadata": {},
   "source": [
    "**Figure 1.** PV, demand, and price dynamics during the first week of August 2013; evening demand peaks appear after solar output subsides."
   ]
  },
  {
   "cell_type": "markdown",
   "id": "e9378e43",
   "metadata": {},
   "source": [
    "## Figure 2 – Demand and PV distributions"
   ]
  },
  {
   "cell_type": "code",
   "execution_count": null,
   "id": "e922fbd9",
   "metadata": {},
   "outputs": [],
   "source": [
    "\n",
    "fig, axes = plt.subplots(1, 2, figsize=(12, 4))\n",
    "for ax, column, color in zip(axes, ['Demand', 'pv'], [COLORS['demand'], COLORS['pv']]):\n",
    "    sns.histplot(df[column], bins=60, stat='density', color=color, alpha=0.65, edgecolor='white', ax=ax)\n",
    "    sns.kdeplot(df[column], color='#333333', linewidth=1.5, ax=ax)\n",
    "    ax.set_title(f'{column} distribution')\n",
    "    ax.set_xlabel(f'{column} (kW)')\n",
    "    ax.set_ylabel('Density')\n",
    "fig.suptitle('Demand and PV variability (Jul 2013 – Jun 2014)', y=1.02)\n",
    "fig.tight_layout()\n",
    "save_figure(fig, 'task3_fig2_distributions')\n",
    "plt.show()\n",
    "\n",
    "interactive_fig = go.Figure()\n",
    "interactive_fig.add_trace(go.Histogram(x=df['Demand'], name='Demand (kW)', nbinsx=60, histnorm='probability density', opacity=0.6, marker_color=COLORS['demand']))\n",
    "interactive_fig.add_trace(go.Histogram(x=df['pv'], name='PV (kW)', nbinsx=60, histnorm='probability density', opacity=0.6, marker_color=COLORS['pv']))\n",
    "interactive_fig.update_layout(barmode='overlay', title='Demand and PV distributions', xaxis_title='Value (kW)', yaxis_title='Density')\n",
    "save_interactive(interactive_fig, 'task3_fig2_distributions_interactive')\n",
    "interactive_fig.show()\n"
   ]
  },
  {
   "cell_type": "markdown",
   "id": "8864e20d",
   "metadata": {},
   "source": [
    "**Figure 2.** Histograms with KDE overlays showing typical operating ranges and skewness for demand and PV output."
   ]
  },
  {
   "cell_type": "markdown",
   "id": "921db0fd",
   "metadata": {},
   "source": [
    "## Figure 3 – Hourly demand boxplots"
   ]
  },
  {
   "cell_type": "code",
   "execution_count": null,
   "id": "b17b80ba",
   "metadata": {},
   "outputs": [],
   "source": [
    "\n",
    "fig, ax = plt.subplots(figsize=(12, 4))\n",
    "sns.boxplot(data=df, x='hour', y='Demand', color=COLORS['demand'], ax=ax, fliersize=2.5)\n",
    "ax.set_title('Demand distribution by hour of day')\n",
    "ax.set_xlabel('Hour of day (UTC)')\n",
    "ax.set_ylabel('Demand (kW)')\n",
    "fig.tight_layout()\n",
    "save_figure(fig, 'task3_fig3_hourly_boxplot')\n",
    "plt.show()\n",
    "\n",
    "interactive_fig = px.box(df, x='hour', y='Demand', color_discrete_sequence=[COLORS['demand']])\n",
    "interactive_fig.update_layout(title='Demand distribution by hour of day', xaxis_title='Hour of day (UTC)', yaxis_title='Demand (kW)')\n",
    "save_interactive(interactive_fig, 'task3_fig3_hourly_boxplot_interactive')\n",
    "interactive_fig.show()\n"
   ]
  },
  {
   "cell_type": "markdown",
   "id": "e1938d78",
   "metadata": {},
   "source": [
    "**Figure 3.** Hourly boxplots highlighting evening peaks and variability important for storage dispatch."
   ]
  },
  {
   "cell_type": "markdown",
   "id": "6b2fe898",
   "metadata": {},
   "source": [
    "## Figure 4 – Correlation heatmap"
   ]
  },
  {
   "cell_type": "code",
   "execution_count": null,
   "id": "4774bc1a",
   "metadata": {},
   "outputs": [],
   "source": [
    "\n",
    "corr_cols = ['pv', 'Demand', 'Price', 'Temperature', 'Wind_speed_10m (km/h)', 'Shortwave_radiation (W/m²)']\n",
    "correlation = df[corr_cols].corr()\n",
    "fig, ax = plt.subplots(figsize=(7, 5.5))\n",
    "sns.heatmap(correlation, annot=True, fmt='.2f', cmap='coolwarm', center=0, linewidths=0.5, cbar_kws={'label': 'Correlation'}, ax=ax)\n",
    "ax.set_title('Correlation matrix – core HEMS variables')\n",
    "fig.tight_layout()\n",
    "save_figure(fig, 'task3_fig4_correlation_heatmap')\n",
    "plt.show()\n",
    "\n",
    "interactive_fig = go.Figure(data=go.Heatmap(z=correlation.values, x=corr_cols, y=corr_cols, colorscale='RdBu', zmin=-1, zmax=1, colorbar=dict(title='ρ')))\n",
    "interactive_fig.update_layout(title='Correlation matrix – core HEMS variables')\n",
    "save_interactive(interactive_fig, 'task3_fig4_correlation_heatmap_interactive')\n",
    "interactive_fig.show()\n"
   ]
  },
  {
   "cell_type": "markdown",
   "id": "8d3b5d3e",
   "metadata": {},
   "source": [
    "**Figure 4.** Correlations between load, generation, price, and weather drivers used to guide feature engineering."
   ]
  },
  {
   "cell_type": "markdown",
   "id": "c0e91314",
   "metadata": {},
   "source": [
    "## Figure 5 – Typical daily profiles"
   ]
  },
  {
   "cell_type": "code",
   "execution_count": null,
   "id": "3a958298",
   "metadata": {},
   "outputs": [],
   "source": [
    "\n",
    "profile = df.groupby(['is_weekend', 'hour'])[['pv', 'Demand']].mean().reset_index()\n",
    "fig, ax = plt.subplots(figsize=(12, 4.2))\n",
    "weekday = profile[profile['is_weekend'] == False]\n",
    "weekend = profile[profile['is_weekend'] == True]\n",
    "ax.plot(weekday['hour'], weekday['pv'], color=COLORS['pv'], linewidth=1.8, label='Weekday PV (kW)')\n",
    "ax.plot(weekend['hour'], weekend['pv'], color=COLORS['pv'], linestyle='--', linewidth=1.8, label='Weekend PV (kW)')\n",
    "ax.plot(weekday['hour'], weekday['Demand'], color=COLORS['demand'], linewidth=1.8, label='Weekday Demand (kW)')\n",
    "ax.plot(weekend['hour'], weekend['Demand'], color=COLORS['demand'], linestyle='--', linewidth=1.8, label='Weekend Demand (kW)')\n",
    "ax.set_title('Typical hourly profiles – PV and demand')\n",
    "ax.set_xlabel('Hour of day (UTC)')\n",
    "ax.set_ylabel('kW')\n",
    "ax.legend(ncol=2, loc='upper left')\n",
    "fig.tight_layout()\n",
    "save_figure(fig, 'task3_fig5_typical_profiles')\n",
    "plt.show()\n",
    "\n",
    "interactive_fig = go.Figure()\n",
    "interactive_fig.add_trace(go.Scatter(x=weekday['hour'], y=weekday['pv'], name='Weekday PV (kW)', mode='lines'))\n",
    "interactive_fig.add_trace(go.Scatter(x=weekend['hour'], y=weekend['pv'], name='Weekend PV (kW)', mode='lines', line=dict(dash='dash')))\n",
    "interactive_fig.add_trace(go.Scatter(x=weekday['hour'], y=weekday['Demand'], name='Weekday Demand (kW)', mode='lines'))\n",
    "interactive_fig.add_trace(go.Scatter(x=weekend['hour'], y=weekend['Demand'], name='Weekend Demand (kW)', mode='lines', line=dict(dash='dash')))\n",
    "interactive_fig.update_layout(title='Typical hourly profiles – PV and demand', xaxis_title='Hour of day (UTC)', yaxis_title='kW')\n",
    "save_interactive(interactive_fig, 'task3_fig5_typical_profiles_interactive')\n",
    "interactive_fig.show()\n"
   ]
  },
  {
   "cell_type": "markdown",
   "id": "ac067f89",
   "metadata": {},
   "source": [
    "**Figure 5.** Weekday versus weekend profiles clarifying when storage and flexible loads must bridge the PV-demand mismatch."
   ]
  },
  {
   "cell_type": "markdown",
   "id": "e6707d41",
   "metadata": {},
   "source": [
    "## Reflection\n",
    "The typical hourly profiles (Figure 5) are the most informative for HEMS decisions because they expose when demand reliably exceeds solar supply, quantify how behaviour shifts on weekends, and therefore directly inform storage charging/discharging strategies aimed at maximising self-consumption and minimising grid imports."
   ]
  }
 ],
 "metadata": {},
 "nbformat": 4,
 "nbformat_minor": 5
}
