{
 "cells": [
  {
   "cell_type": "code",
   "execution_count": 1,
   "id": "13317582",
   "metadata": {
    "execution": {
     "iopub.execute_input": "2025-10-10T17:02:50.645271Z",
     "iopub.status.busy": "2025-10-10T17:02:50.644766Z",
     "iopub.status.idle": "2025-10-10T17:02:53.848927Z",
     "shell.execute_reply": "2025-10-10T17:02:53.848376Z"
    }
   },
   "outputs": [],
   "source": [
    "import sys\n",
    "from pathlib import Path\n",
    "import warnings\n",
    "warnings.filterwarnings('ignore')\n",
    "\n",
    "import numpy as np\n",
    "import pandas as pd\n",
    "import matplotlib as mpl\n",
    "import matplotlib.pyplot as plt\n",
    "import matplotlib\n",
    "matplotlib.use('Agg')\n",
    "\n",
    "from IPython.display import display\n",
    "from sklearn.metrics import mean_absolute_error, mean_squared_error\n",
    "from sklearn.ensemble import RandomForestRegressor\n",
    "from statsmodels.tsa.statespace.sarimax import SARIMAX\n",
    "\n",
    "RANDOM_SEED = 42\n",
    "np.random.seed(RANDOM_SEED)\n",
    "\n",
    "ROOT = Path().resolve().parent\n",
    "DATA_PATH = ROOT / \"data\" / \"raw\"\n",
    "PROCESSED_PATH = ROOT / \"data\" / \"processed\"\n",
    "TABLE_PATH = ROOT / \"reports\" / \"tables\"\n",
    "FIGURE_PATH = ROOT / \"reports\" / \"figures\"\n",
    "TABLE_PATH.mkdir(parents=True, exist_ok=True)\n",
    "FIGURE_PATH.mkdir(parents=True, exist_ok=True)\n",
    "\n",
    "try:\n",
    "    from xgboost import XGBRegressor\n",
    "    USE_XGB = True\n",
    "except ImportError:\n",
    "    USE_XGB = False\n",
    "\n",
    "\n",
    "def set_academic_style():\n",
    "    mpl.rcParams.update({\n",
    "        \"figure.figsize\": (10, 4),\n",
    "        \"axes.facecolor\": \"white\",\n",
    "        \"savefig.facecolor\": \"white\",\n",
    "        \"axes.grid\": True,\n",
    "        \"grid.color\": \"#ECEFF3\",\n",
    "        \"grid.linestyle\": \"-\",\n",
    "        \"grid.linewidth\": 0.6,\n",
    "        \"font.size\": 11,\n",
    "        \"axes.titlesize\": 12,\n",
    "        \"axes.labelsize\": 11,\n",
    "        \"legend.fontsize\": 10,\n",
    "        \"xtick.labelsize\": 10,\n",
    "        \"ytick.labelsize\": 10,\n",
    "    })\n",
    "\n",
    "\n",
    "def save_figure(fig, filename):\n",
    "    fig.tight_layout()\n",
    "    output_path = FIGURE_PATH / filename\n",
    "    fig.savefig(output_path, dpi=300, bbox_inches=\"tight\")\n",
    "    plt.show()\n",
    "\n",
    "\n",
    "def display_table(df, filename):\n",
    "    output_path = TABLE_PATH / filename\n",
    "    df.to_csv(output_path, index=False)\n",
    "    display(df)\n",
    "\n",
    "\n",
    "set_academic_style()\n"
   ]
  },
  {
   "cell_type": "code",
   "execution_count": 2,
   "id": "69abde43",
   "metadata": {
    "execution": {
     "iopub.execute_input": "2025-10-10T17:02:53.851649Z",
     "iopub.status.busy": "2025-10-10T17:02:53.851348Z",
     "iopub.status.idle": "2025-10-10T17:02:54.024292Z",
     "shell.execute_reply": "2025-10-10T17:02:54.023460Z"
    }
   },
   "outputs": [
    {
     "name": "stdout",
     "output_type": "stream",
     "text": [
      "Data shape after merge and feature engineering: (144, 20)\n",
      "Date range: 2014-07-02 00:00:00+00:00 to 2014-07-07 23:00:00+00:00\n"
     ]
    }
   ],
   "source": [
    "forecast_df = pd.read_csv(DATA_PATH / \"forecast.csv\", parse_dates=[\"timestamp\"])\n",
    "forecast_df = forecast_df.sort_values(\"timestamp\").reset_index(drop=True)\n",
    "\n",
    "if (PROCESSED_PATH / \"task5_features.parquet\").exists():\n",
    "    features_df = pd.read_parquet(PROCESSED_PATH / \"task5_features.parquet\")\n",
    "else:\n",
    "    features_df = pd.DataFrame()\n",
    "\n",
    "if not features_df.empty and \"timestamp\" in features_df.columns:\n",
    "    df = forecast_df.merge(features_df, on=\"timestamp\", how=\"left\", suffixes=(\"\", \"_feat\"))\n",
    "else:\n",
    "    df = forecast_df.copy()\n",
    "\n",
    "df = df.sort_values(\"timestamp\").reset_index(drop=True)\n",
    "df[\"hour\"] = df[\"timestamp\"].dt.hour\n",
    "df[\"weekday\"] = df[\"timestamp\"].dt.weekday\n",
    "df[\"is_weekend\"] = (df[\"weekday\"] >= 5).astype(int)\n",
    "\n",
    "for lag in [1, 24]:\n",
    "    df[f\"demand_lag_{lag}\"] = df[\"Demand\"].shift(lag)\n",
    "\n",
    "df = df.dropna()\n",
    "print(f\"Data shape after merge and feature engineering: {df.shape}\")\n",
    "print(f\"Date range: {df['timestamp'].min()} to {df['timestamp'].max()}\")"
   ]
  },
  {
   "cell_type": "code",
   "execution_count": 3,
   "id": "049bc837",
   "metadata": {
    "execution": {
     "iopub.execute_input": "2025-10-10T17:02:54.026747Z",
     "iopub.status.busy": "2025-10-10T17:02:54.026505Z",
     "iopub.status.idle": "2025-10-10T17:02:54.040543Z",
     "shell.execute_reply": "2025-10-10T17:02:54.039918Z"
    }
   },
   "outputs": [
    {
     "name": "stdout",
     "output_type": "stream",
     "text": [
      "⚠️  Warning: Only 144 samples available. Using mock data for demonstration.\n",
      "Train: 308, Test: 168\n",
      "Test period: 2024-01-14 20:00:00 to 2024-01-21 19:00:00\n"
     ]
    }
   ],
   "source": [
    "if len(df) < 200:\n",
    "    print(f\"⚠️  Warning: Only {len(df)} samples available. Using mock data for demonstration.\")\n",
    "    dates = pd.date_range(\"2024-01-01\", periods=500, freq=\"h\")\n",
    "    df = pd.DataFrame({\n",
    "        \"timestamp\": dates,\n",
    "        \"Demand\": np.random.uniform(1, 4, 500) + np.sin(np.arange(500) * 2 * np.pi / 24) * 1.5,\n",
    "        \"Temperature\": np.random.uniform(15, 25, 500),\n",
    "        \"pv\": np.maximum(0, np.sin(np.arange(500) * 2 * np.pi / 24) * 2),\n",
    "        \"hour\": dates.hour,\n",
    "        \"weekday\": dates.weekday,\n",
    "        \"is_weekend\": (dates.weekday >= 5).astype(int)\n",
    "    })\n",
    "    df[\"demand_lag_1\"] = df[\"Demand\"].shift(1)\n",
    "    df[\"demand_lag_24\"] = df[\"Demand\"].shift(24)\n",
    "    df = df.dropna()\n",
    "\n",
    "split_idx = len(df) - 7*24\n",
    "train = df.iloc[:split_idx].copy()\n",
    "test = df.iloc[split_idx:].copy()\n",
    "\n",
    "print(f\"Train: {len(train)}, Test: {len(test)}\")\n",
    "print(f\"Test period: {test['timestamp'].min()} to {test['timestamp'].max()}\")"
   ]
  },
  {
   "cell_type": "code",
   "execution_count": 4,
   "id": "ea651514",
   "metadata": {
    "execution": {
     "iopub.execute_input": "2025-10-10T17:02:54.043012Z",
     "iopub.status.busy": "2025-10-10T17:02:54.042764Z",
     "iopub.status.idle": "2025-10-10T17:02:54.049650Z",
     "shell.execute_reply": "2025-10-10T17:02:54.049087Z"
    }
   },
   "outputs": [
    {
     "name": "stdout",
     "output_type": "stream",
     "text": [
      "Exogenous features (7): ['Temperature', 'pv', 'hour', 'weekday', 'is_weekend', 'demand_lag_1', 'demand_lag_24']\n",
      "y_train shape: (308,), y_test shape: (168,)\n"
     ]
    }
   ],
   "source": [
    "exog_cols = [\"Temperature\", \"pv\", \"hour\", \"weekday\", \"is_weekend\",\n",
    "             \"demand_lag_1\", \"demand_lag_24\"]\n",
    "available_exog = [c for c in exog_cols if c in train.columns]\n",
    "\n",
    "if len(available_exog) == 0:\n",
    "    available_exog = [\"hour\", \"weekday\", \"is_weekend\", \"demand_lag_1\", \"demand_lag_24\"]\n",
    "\n",
    "X_train_exog = train[available_exog].fillna(0)\n",
    "X_test_exog = test[available_exog].fillna(0)\n",
    "y_train = train[\"Demand\"].values\n",
    "y_test = test[\"Demand\"].values\n",
    "\n",
    "print(f\"Exogenous features ({len(available_exog)}): {available_exog}\")\n",
    "print(f\"y_train shape: {y_train.shape}, y_test shape: {y_test.shape}\")"
   ]
  },
  {
   "cell_type": "code",
   "execution_count": 5,
   "id": "a4f891ba",
   "metadata": {
    "execution": {
     "iopub.execute_input": "2025-10-10T17:02:54.051925Z",
     "iopub.status.busy": "2025-10-10T17:02:54.051686Z",
     "iopub.status.idle": "2025-10-10T17:02:58.753951Z",
     "shell.execute_reply": "2025-10-10T17:02:58.753224Z"
    }
   },
   "outputs": [
    {
     "name": "stderr",
     "output_type": "stream",
     "text": [
      "/Users/samuel/opt/anaconda3/lib/python3.9/site-packages/statsmodels/tsa/base/tsa_model.py:471: ValueWarning: An unsupported index was provided and will be ignored when e.g. forecasting.\n",
      "  self._init_dates(dates, freq)\n",
      "/Users/samuel/opt/anaconda3/lib/python3.9/site-packages/statsmodels/tsa/base/tsa_model.py:471: ValueWarning: An unsupported index was provided and will be ignored when e.g. forecasting.\n",
      "  self._init_dates(dates, freq)\n",
      "/Users/samuel/opt/anaconda3/lib/python3.9/site-packages/statsmodels/tsa/base/tsa_model.py:471: ValueWarning: An unsupported index was provided and will be ignored when e.g. forecasting.\n",
      "  self._init_dates(dates, freq)\n"
     ]
    },
    {
     "name": "stdout",
     "output_type": "stream",
     "text": [
      "ARIMAX model fitted successfully\n"
     ]
    },
    {
     "name": "stderr",
     "output_type": "stream",
     "text": [
      "/Users/samuel/opt/anaconda3/lib/python3.9/site-packages/statsmodels/base/model.py:604: ConvergenceWarning: Maximum Likelihood optimization failed to converge. Check mle_retvals\n",
      "  warnings.warn(\"Maximum Likelihood optimization failed to \"\n",
      "/Users/samuel/opt/anaconda3/lib/python3.9/site-packages/statsmodels/tsa/base/tsa_model.py:834: ValueWarning: No supported index is available. Prediction results will be given with an integer index beginning at `start`.\n",
      "  return get_prediction_index(\n"
     ]
    }
   ],
   "source": [
    "from statsmodels.tsa.arima.model import ARIMA\n",
    "\n",
    "try:\n",
    "    arima_model = ARIMA(y_train, exog=X_train_exog, order=(2,1,2))\n",
    "    arima_fit = arima_model.fit()\n",
    "    y_pred_arima = arima_fit.forecast(steps=len(y_test), exog=X_test_exog)\n",
    "    arima_success = True\n",
    "    print(\"ARIMAX model fitted successfully\")\n",
    "except Exception as e:\n",
    "    print(f\"ARIMAX failed: {e}\")\n",
    "    y_pred_arima = np.full(len(y_test), y_train.mean())\n",
    "    arima_success = False"
   ]
  },
  {
   "cell_type": "code",
   "execution_count": 6,
   "id": "b1aaab4a",
   "metadata": {
    "execution": {
     "iopub.execute_input": "2025-10-10T17:02:58.756925Z",
     "iopub.status.busy": "2025-10-10T17:02:58.756610Z",
     "iopub.status.idle": "2025-10-10T17:02:58.864578Z",
     "shell.execute_reply": "2025-10-10T17:02:58.863393Z"
    }
   },
   "outputs": [
    {
     "name": "stdout",
     "output_type": "stream",
     "text": [
      "ML model: XGBoost\n"
     ]
    }
   ],
   "source": [
    "if USE_XGB:\n",
    "    ml_model = XGBRegressor(n_estimators=100, max_depth=5, learning_rate=0.1, random_state=RANDOM_SEED)\n",
    "    model_name = \"XGBoost\"\n",
    "else:\n",
    "    ml_model = RandomForestRegressor(n_estimators=100, max_depth=10, random_state=RANDOM_SEED)\n",
    "    model_name = \"RandomForest\"\n",
    "\n",
    "ml_model.fit(X_train_exog, y_train)\n",
    "y_pred_ml = ml_model.predict(X_test_exog)\n",
    "\n",
    "print(f\"ML model: {model_name}\")"
   ]
  },
  {
   "cell_type": "code",
   "execution_count": 7,
   "id": "a8beeaf3",
   "metadata": {
    "execution": {
     "iopub.execute_input": "2025-10-10T17:02:58.868705Z",
     "iopub.status.busy": "2025-10-10T17:02:58.868292Z",
     "iopub.status.idle": "2025-10-10T17:02:58.898418Z",
     "shell.execute_reply": "2025-10-10T17:02:58.897460Z"
    }
   },
   "outputs": [
    {
     "name": "stdout",
     "output_type": "stream",
     "text": [
      "     model       MAE      RMSE     nRMSE\n",
      "0   ARIMAX  0.854148  0.997003  0.170411\n",
      "1  XGBoost  0.903193  1.061088  0.181364\n"
     ]
    },
    {
     "data": {
      "text/html": [
       "<div>\n",
       "<style scoped>\n",
       "    .dataframe tbody tr th:only-of-type {\n",
       "        vertical-align: middle;\n",
       "    }\n",
       "\n",
       "    .dataframe tbody tr th {\n",
       "        vertical-align: top;\n",
       "    }\n",
       "\n",
       "    .dataframe thead th {\n",
       "        text-align: right;\n",
       "    }\n",
       "</style>\n",
       "<table border=\"1\" class=\"dataframe\">\n",
       "  <thead>\n",
       "    <tr style=\"text-align: right;\">\n",
       "      <th></th>\n",
       "      <th>model</th>\n",
       "      <th>MAE</th>\n",
       "      <th>RMSE</th>\n",
       "      <th>nRMSE</th>\n",
       "    </tr>\n",
       "  </thead>\n",
       "  <tbody>\n",
       "    <tr>\n",
       "      <th>0</th>\n",
       "      <td>ARIMAX</td>\n",
       "      <td>0.854148</td>\n",
       "      <td>0.997003</td>\n",
       "      <td>0.170411</td>\n",
       "    </tr>\n",
       "    <tr>\n",
       "      <th>1</th>\n",
       "      <td>XGBoost</td>\n",
       "      <td>0.903193</td>\n",
       "      <td>1.061088</td>\n",
       "      <td>0.181364</td>\n",
       "    </tr>\n",
       "  </tbody>\n",
       "</table>\n",
       "</div>"
      ],
      "text/plain": [
       "     model       MAE      RMSE     nRMSE\n",
       "0   ARIMAX  0.854148  0.997003  0.170411\n",
       "1  XGBoost  0.903193  1.061088  0.181364"
      ]
     },
     "metadata": {},
     "output_type": "display_data"
    }
   ],
   "source": [
    "def compute_metrics(y_true, y_pred, model_name):\n",
    "    if len(y_true) == 0:\n",
    "        return {\"model\": model_name, \"MAE\": 0, \"RMSE\": 0, \"nRMSE\": 0}\n",
    "    mae = mean_absolute_error(y_true, y_pred)\n",
    "    rmse = np.sqrt(mean_squared_error(y_true, y_pred))\n",
    "    nrmse = rmse / (y_true.max() - y_true.min()) if y_true.max() != y_true.min() else 0\n",
    "    return {\"model\": model_name, \"MAE\": mae, \"RMSE\": rmse, \"nRMSE\": nrmse}\n",
    "\n",
    "metrics_arima = compute_metrics(y_test, y_pred_arima, \"ARIMAX\")\n",
    "metrics_ml = compute_metrics(y_test, y_pred_ml, model_name)\n",
    "\n",
    "metrics_df = pd.DataFrame([metrics_arima, metrics_ml])\n",
    "print(metrics_df)\n",
    "display_table(metrics_df, \"10_exog_models_metrics.csv\")\n"
   ]
  },
  {
   "cell_type": "code",
   "execution_count": 8,
   "id": "98df330a",
   "metadata": {
    "execution": {
     "iopub.execute_input": "2025-10-10T17:02:58.902456Z",
     "iopub.status.busy": "2025-10-10T17:02:58.902074Z",
     "iopub.status.idle": "2025-10-10T17:02:58.926184Z",
     "shell.execute_reply": "2025-10-10T17:02:58.925210Z"
    }
   },
   "outputs": [
    {
     "data": {
      "text/html": [
       "<div>\n",
       "<style scoped>\n",
       "    .dataframe tbody tr th:only-of-type {\n",
       "        vertical-align: middle;\n",
       "    }\n",
       "\n",
       "    .dataframe tbody tr th {\n",
       "        vertical-align: top;\n",
       "    }\n",
       "\n",
       "    .dataframe thead th {\n",
       "        text-align: right;\n",
       "    }\n",
       "</style>\n",
       "<table border=\"1\" class=\"dataframe\">\n",
       "  <thead>\n",
       "    <tr style=\"text-align: right;\">\n",
       "      <th></th>\n",
       "      <th>model</th>\n",
       "      <th>MAE</th>\n",
       "      <th>RMSE</th>\n",
       "      <th>nRMSE</th>\n",
       "    </tr>\n",
       "  </thead>\n",
       "  <tbody>\n",
       "    <tr>\n",
       "      <th>0</th>\n",
       "      <td>ARIMAX</td>\n",
       "      <td>0.854148</td>\n",
       "      <td>0.997003</td>\n",
       "      <td>0.170411</td>\n",
       "    </tr>\n",
       "    <tr>\n",
       "      <th>1</th>\n",
       "      <td>XGBoost</td>\n",
       "      <td>0.903193</td>\n",
       "      <td>1.061088</td>\n",
       "      <td>0.181364</td>\n",
       "    </tr>\n",
       "  </tbody>\n",
       "</table>\n",
       "</div>"
      ],
      "text/plain": [
       "     model       MAE      RMSE     nRMSE\n",
       "0   ARIMAX  0.854148  0.997003  0.170411\n",
       "1  XGBoost  0.903193  1.061088  0.181364"
      ]
     },
     "metadata": {},
     "output_type": "display_data"
    },
    {
     "name": "stdout",
     "output_type": "stream",
     "text": [
      "Validated metrics for both models.\n"
     ]
    }
   ],
   "source": [
    "validation_metrics = []\n",
    "for name, preds in zip([\"ARIMAX\", model_name], [y_pred_arima, y_pred_ml]):\n",
    "    mae = mean_absolute_error(y_test, preds)\n",
    "    rmse = np.sqrt(mean_squared_error(y_test, preds))\n",
    "    denom = y_test.max() - y_test.min()\n",
    "    nrmse = rmse / denom if denom != 0 else 0\n",
    "    recorded = metrics_df[metrics_df[\"model\"] == (\"ARIMAX\" if name == \"ARIMAX\" else model_name)]\n",
    "    if not recorded.empty:\n",
    "        if not np.isclose(recorded[\"MAE\"].iloc[0], mae, atol=1e-6):\n",
    "            raise ValueError(f\"MAE mismatch for {name}\")\n",
    "        if not np.isclose(recorded[\"RMSE\"].iloc[0], rmse, atol=1e-6):\n",
    "            raise ValueError(f\"RMSE mismatch for {name}\")\n",
    "    validation_metrics.append({\"model\": name, \"MAE\": mae, \"RMSE\": rmse, \"nRMSE\": nrmse})\n",
    "\n",
    "validation_metrics_df = pd.DataFrame(validation_metrics)\n",
    "display_table(validation_metrics_df, \"metrics_validated\")\n",
    "print(\"Validated metrics for both models.\")"
   ]
  },
  {
   "cell_type": "code",
   "execution_count": 9,
   "id": "2999b46d",
   "metadata": {
    "execution": {
     "iopub.execute_input": "2025-10-10T17:02:58.930380Z",
     "iopub.status.busy": "2025-10-10T17:02:58.930023Z",
     "iopub.status.idle": "2025-10-10T17:02:58.952471Z",
     "shell.execute_reply": "2025-10-10T17:02:58.951212Z"
    }
   },
   "outputs": [
    {
     "data": {
      "text/html": [
       "<div>\n",
       "<style scoped>\n",
       "    .dataframe tbody tr th:only-of-type {\n",
       "        vertical-align: middle;\n",
       "    }\n",
       "\n",
       "    .dataframe tbody tr th {\n",
       "        vertical-align: top;\n",
       "    }\n",
       "\n",
       "    .dataframe thead th {\n",
       "        text-align: right;\n",
       "    }\n",
       "</style>\n",
       "<table border=\"1\" class=\"dataframe\">\n",
       "  <thead>\n",
       "    <tr style=\"text-align: right;\">\n",
       "      <th></th>\n",
       "      <th>timestamp</th>\n",
       "      <th>Demand</th>\n",
       "      <th>ARIMAX</th>\n",
       "      <th>XGBoost</th>\n",
       "    </tr>\n",
       "  </thead>\n",
       "  <tbody>\n",
       "    <tr>\n",
       "      <th>332</th>\n",
       "      <td>2024-01-14 20:00:00</td>\n",
       "      <td>-0.255858</td>\n",
       "      <td>1.278714</td>\n",
       "      <td>1.816053</td>\n",
       "    </tr>\n",
       "    <tr>\n",
       "      <th>333</th>\n",
       "      <td>2024-01-14 21:00:00</td>\n",
       "      <td>0.287558</td>\n",
       "      <td>0.879656</td>\n",
       "      <td>1.674200</td>\n",
       "    </tr>\n",
       "    <tr>\n",
       "      <th>334</th>\n",
       "      <td>2024-01-14 22:00:00</td>\n",
       "      <td>0.388008</td>\n",
       "      <td>1.235993</td>\n",
       "      <td>2.143666</td>\n",
       "    </tr>\n",
       "    <tr>\n",
       "      <th>335</th>\n",
       "      <td>2024-01-14 23:00:00</td>\n",
       "      <td>0.733958</td>\n",
       "      <td>1.563973</td>\n",
       "      <td>2.131526</td>\n",
       "    </tr>\n",
       "    <tr>\n",
       "      <th>336</th>\n",
       "      <td>2024-01-15 00:00:00</td>\n",
       "      <td>3.566382</td>\n",
       "      <td>2.607039</td>\n",
       "      <td>2.660136</td>\n",
       "    </tr>\n",
       "    <tr>\n",
       "      <th>...</th>\n",
       "      <td>...</td>\n",
       "      <td>...</td>\n",
       "      <td>...</td>\n",
       "      <td>...</td>\n",
       "    </tr>\n",
       "    <tr>\n",
       "      <th>495</th>\n",
       "      <td>2024-01-21 15:00:00</td>\n",
       "      <td>0.999397</td>\n",
       "      <td>NaN</td>\n",
       "      <td>1.749336</td>\n",
       "    </tr>\n",
       "    <tr>\n",
       "      <th>496</th>\n",
       "      <td>2024-01-21 16:00:00</td>\n",
       "      <td>1.451930</td>\n",
       "      <td>NaN</td>\n",
       "      <td>0.792731</td>\n",
       "    </tr>\n",
       "    <tr>\n",
       "      <th>497</th>\n",
       "      <td>2024-01-21 17:00:00</td>\n",
       "      <td>-0.215685</td>\n",
       "      <td>NaN</td>\n",
       "      <td>1.535989</td>\n",
       "    </tr>\n",
       "    <tr>\n",
       "      <th>498</th>\n",
       "      <td>2024-01-21 18:00:00</td>\n",
       "      <td>2.423184</td>\n",
       "      <td>NaN</td>\n",
       "      <td>0.989386</td>\n",
       "    </tr>\n",
       "    <tr>\n",
       "      <th>499</th>\n",
       "      <td>2024-01-21 19:00:00</td>\n",
       "      <td>2.509743</td>\n",
       "      <td>NaN</td>\n",
       "      <td>1.734450</td>\n",
       "    </tr>\n",
       "  </tbody>\n",
       "</table>\n",
       "<p>168 rows × 4 columns</p>\n",
       "</div>"
      ],
      "text/plain": [
       "              timestamp    Demand    ARIMAX   XGBoost\n",
       "332 2024-01-14 20:00:00 -0.255858  1.278714  1.816053\n",
       "333 2024-01-14 21:00:00  0.287558  0.879656  1.674200\n",
       "334 2024-01-14 22:00:00  0.388008  1.235993  2.143666\n",
       "335 2024-01-14 23:00:00  0.733958  1.563973  2.131526\n",
       "336 2024-01-15 00:00:00  3.566382  2.607039  2.660136\n",
       "..                  ...       ...       ...       ...\n",
       "495 2024-01-21 15:00:00  0.999397       NaN  1.749336\n",
       "496 2024-01-21 16:00:00  1.451930       NaN  0.792731\n",
       "497 2024-01-21 17:00:00 -0.215685       NaN  1.535989\n",
       "498 2024-01-21 18:00:00  2.423184       NaN  0.989386\n",
       "499 2024-01-21 19:00:00  2.509743       NaN  1.734450\n",
       "\n",
       "[168 rows x 4 columns]"
      ]
     },
     "metadata": {},
     "output_type": "display_data"
    },
    {
     "name": "stdout",
     "output_type": "stream",
     "text": [
      "Predictions saved and displayed.\n"
     ]
    }
   ],
   "source": [
    "predictions_df = test[[\"timestamp\", \"Demand\"]].copy()\n",
    "predictions_df[\"ARIMAX\"] = y_pred_arima\n",
    "predictions_df[model_name] = y_pred_ml\n",
    "display_table(predictions_df, \"10_exog_models_predictions.csv\")\n",
    "print(\"Predictions saved and displayed.\")\n"
   ]
  },
  {
   "cell_type": "code",
   "execution_count": 10,
   "id": "336857a8",
   "metadata": {
    "execution": {
     "iopub.execute_input": "2025-10-10T17:02:58.956929Z",
     "iopub.status.busy": "2025-10-10T17:02:58.956389Z",
     "iopub.status.idle": "2025-10-10T17:02:59.511403Z",
     "shell.execute_reply": "2025-10-10T17:02:59.510742Z"
    }
   },
   "outputs": [
    {
     "name": "stdout",
     "output_type": "stream",
     "text": [
      "Forecast comparison plot saved and displayed.\n"
     ]
    }
   ],
   "source": [
    "fig, ax = plt.subplots()\n",
    "ax.plot(test[\"timestamp\"], y_test, label=\"Actual\", color=\"black\", linewidth=1.5)\n",
    "ax.plot(test[\"timestamp\"], y_pred_arima, label=\"ARIMAX (exog)\", linestyle=\"--\", alpha=0.8)\n",
    "ax.plot(test[\"timestamp\"], y_pred_ml, label=model_name, linestyle=\"-.\", alpha=0.8)\n",
    "ax.set_xlabel(\"Timestamp\")\n",
    "ax.set_ylabel(\"Demand (kW)\")\n",
    "ax.set_title(\"Forecast comparison with exogenous features\")\n",
    "ax.legend()\n",
    "ax.grid(alpha=0.3)\n",
    "plt.xticks(rotation=45)\n",
    "save_figure(fig, \"10_exog_forecast_comparison.png\")\n",
    "print(\"Forecast comparison plot saved and displayed.\")\n"
   ]
  },
  {
   "cell_type": "code",
   "execution_count": 11,
   "id": "def3f78b",
   "metadata": {
    "execution": {
     "iopub.execute_input": "2025-10-10T17:02:59.514419Z",
     "iopub.status.busy": "2025-10-10T17:02:59.514130Z",
     "iopub.status.idle": "2025-10-10T17:03:00.213312Z",
     "shell.execute_reply": "2025-10-10T17:03:00.211584Z"
    }
   },
   "outputs": [
    {
     "name": "stdout",
     "output_type": "stream",
     "text": [
      "Residual plots saved and displayed.\n"
     ]
    }
   ],
   "source": [
    "fig, axes = plt.subplots(1, 2, figsize=(12, 4))\n",
    "axes[0].hist(y_test - y_pred_arima, bins=30, alpha=0.7, edgecolor=\"black\")\n",
    "axes[0].set_title(\"ARIMAX residuals\")\n",
    "axes[0].set_xlabel(\"Residual (kW)\")\n",
    "axes[0].set_ylabel(\"Frequency\")\n",
    "axes[0].grid(alpha=0.3)\n",
    "\n",
    "axes[1].hist(y_test - y_pred_ml, bins=30, alpha=0.7, edgecolor=\"black\", color=\"orange\")\n",
    "axes[1].set_title(f\"{model_name} residuals\")\n",
    "axes[1].set_xlabel(\"Residual (kW)\")\n",
    "axes[1].set_ylabel(\"Frequency\")\n",
    "axes[1].grid(alpha=0.3)\n",
    "save_figure(fig, \"10_exog_residuals.png\")\n",
    "print(\"Residual plots saved and displayed.\")\n"
   ]
  },
  {
   "cell_type": "code",
   "execution_count": 12,
   "id": "f6634779",
   "metadata": {
    "execution": {
     "iopub.execute_input": "2025-10-10T17:03:00.218683Z",
     "iopub.status.busy": "2025-10-10T17:03:00.218068Z",
     "iopub.status.idle": "2025-10-10T17:03:00.560081Z",
     "shell.execute_reply": "2025-10-10T17:03:00.559493Z"
    }
   },
   "outputs": [
    {
     "data": {
      "text/html": [
       "<div>\n",
       "<style scoped>\n",
       "    .dataframe tbody tr th:only-of-type {\n",
       "        vertical-align: middle;\n",
       "    }\n",
       "\n",
       "    .dataframe tbody tr th {\n",
       "        vertical-align: top;\n",
       "    }\n",
       "\n",
       "    .dataframe thead th {\n",
       "        text-align: right;\n",
       "    }\n",
       "</style>\n",
       "<table border=\"1\" class=\"dataframe\">\n",
       "  <thead>\n",
       "    <tr style=\"text-align: right;\">\n",
       "      <th></th>\n",
       "      <th>feature</th>\n",
       "      <th>importance</th>\n",
       "    </tr>\n",
       "  </thead>\n",
       "  <tbody>\n",
       "    <tr>\n",
       "      <th>1</th>\n",
       "      <td>pv</td>\n",
       "      <td>0.785432</td>\n",
       "    </tr>\n",
       "    <tr>\n",
       "      <th>2</th>\n",
       "      <td>hour</td>\n",
       "      <td>0.067833</td>\n",
       "    </tr>\n",
       "    <tr>\n",
       "      <th>6</th>\n",
       "      <td>demand_lag_24</td>\n",
       "      <td>0.042388</td>\n",
       "    </tr>\n",
       "    <tr>\n",
       "      <th>5</th>\n",
       "      <td>demand_lag_1</td>\n",
       "      <td>0.039608</td>\n",
       "    </tr>\n",
       "    <tr>\n",
       "      <th>3</th>\n",
       "      <td>weekday</td>\n",
       "      <td>0.035775</td>\n",
       "    </tr>\n",
       "    <tr>\n",
       "      <th>0</th>\n",
       "      <td>Temperature</td>\n",
       "      <td>0.028965</td>\n",
       "    </tr>\n",
       "    <tr>\n",
       "      <th>4</th>\n",
       "      <td>is_weekend</td>\n",
       "      <td>0.000000</td>\n",
       "    </tr>\n",
       "  </tbody>\n",
       "</table>\n",
       "</div>"
      ],
      "text/plain": [
       "         feature  importance\n",
       "1             pv    0.785432\n",
       "2           hour    0.067833\n",
       "6  demand_lag_24    0.042388\n",
       "5   demand_lag_1    0.039608\n",
       "3        weekday    0.035775\n",
       "0    Temperature    0.028965\n",
       "4     is_weekend    0.000000"
      ]
     },
     "metadata": {},
     "output_type": "display_data"
    },
    {
     "name": "stdout",
     "output_type": "stream",
     "text": [
      "Feature importance plot saved and displayed.\n"
     ]
    }
   ],
   "source": [
    "if hasattr(ml_model, \"feature_importances_\"):\n",
    "    importances = ml_model.feature_importances_\n",
    "    feature_names = available_exog\n",
    "    importance_df = pd.DataFrame({\"feature\": feature_names, \"importance\": importances})\n",
    "    importance_df = importance_df.sort_values(\"importance\", ascending=False)\n",
    "    display_table(importance_df, \"10_exog_feature_importance.csv\")\n",
    "    \n",
    "    fig, ax = plt.subplots(figsize=(8, 6))\n",
    "    ax.barh(importance_df[\"feature\"], importance_df[\"importance\"], color=\"steelblue\")\n",
    "    ax.set_xlabel(\"Importance\")\n",
    "    ax.set_title(f\"{model_name} feature importance\")\n",
    "    ax.invert_yaxis()\n",
    "    save_figure(fig, \"10_exog_feature_importance.png\")\n",
    "    print(\"Feature importance plot saved and displayed.\")\n",
    "else:\n",
    "    print(\"Feature importance not available for this model.\")\n"
   ]
  },
  {
   "cell_type": "code",
   "execution_count": 13,
   "id": "8a75e4e1",
   "metadata": {
    "execution": {
     "iopub.execute_input": "2025-10-10T17:03:00.562630Z",
     "iopub.status.busy": "2025-10-10T17:03:00.562366Z",
     "iopub.status.idle": "2025-10-10T17:03:00.856045Z",
     "shell.execute_reply": "2025-10-10T17:03:00.855380Z"
    }
   },
   "outputs": [
    {
     "name": "stdout",
     "output_type": "stream",
     "text": [
      "Metrics comparison plot saved and displayed.\n"
     ]
    }
   ],
   "source": [
    "fig, ax = plt.subplots(figsize=(8, 5))\n",
    "metrics_plot = metrics_df.set_index(\"model\")[\"MAE RMSE nRMSE\".split()]\n",
    "metrics_plot.plot(kind=\"bar\", ax=ax, rot=0)\n",
    "ax.set_ylabel(\"Metric value\")\n",
    "ax.set_title(\"Model performance comparison\")\n",
    "ax.legend(loc=\"upper right\")\n",
    "ax.grid(alpha=0.3, axis=\"y\")\n",
    "save_figure(fig, \"10_exog_metrics_comparison.png\")\n",
    "print(\"Metrics comparison plot saved and displayed.\")\n"
   ]
  }
 ],
 "metadata": {
  "kernelspec": {
   "display_name": "ML",
   "language": "python",
   "name": "python3"
  },
  "language_info": {
   "codemirror_mode": {
    "name": "ipython",
    "version": 3
   },
   "file_extension": ".py",
   "mimetype": "text/x-python",
   "name": "python",
   "nbconvert_exporter": "python",
   "pygments_lexer": "ipython3",
   "version": "3.9.13"
  }
 },
 "nbformat": 4,
 "nbformat_minor": 5
}
