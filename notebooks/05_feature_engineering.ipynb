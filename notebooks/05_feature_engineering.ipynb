{
 "cells": [
  {
   "cell_type": "markdown",
   "id": "e41f33c3",
   "metadata": {},
   "source": [
    "# Task 5 – Feature Engineering\n",
    "\n",
    "This notebook engineers demand and weather features, studies their distributions, and ranks the most\n",
    "relevant predictors for the Home Energy Management System (HEMS) project. Figures and tables are\n",
    "saved to `reports/figures/`, `reports/figures/interactive/`, and `reports/tables/` for inclusion in the\n",
    "LaTeX report and dashboard."
   ]
  },
  {
   "cell_type": "markdown",
   "id": "f5caf328",
   "metadata": {},
   "source": [
    "## Setup"
   ]
  },
  {
   "cell_type": "code",
   "execution_count": 1,
   "id": "5304c296",
   "metadata": {},
   "outputs": [],
   "source": [
    "\n",
    "from pathlib import Path\n",
    "import numpy as np\n",
    "import pandas as pd\n",
    "import matplotlib.pyplot as plt\n",
    "import matplotlib as mpl\n",
    "import seaborn as sns\n",
    "from sklearn.preprocessing import PowerTransformer\n",
    "from sklearn.feature_selection import mutual_info_regression\n",
    "from sklearn.inspection import permutation_importance\n",
    "from sklearn.ensemble import RandomForestRegressor\n",
    "from scipy import stats\n",
    "import plotly.express as px\n",
    "import plotly.graph_objects as go\n",
    "import plotly.io as pio\n",
    "\n",
    "plt.ioff()\n",
    "\n",
    "ROOT = Path('..')\n",
    "DATA_PATH = ROOT / 'data' / 'raw' / 'train_252145.csv'\n",
    "FIGURES_DIR = ROOT / 'reports' / 'figures'\n",
    "INTERACTIVE_DIR = FIGURES_DIR / 'interactive'\n",
    "TABLES_DIR = ROOT / 'reports' / 'tables'\n",
    "PROCESSED_PATH = ROOT / 'data' / 'processed'\n",
    "\n",
    "for path in [FIGURES_DIR, INTERACTIVE_DIR, TABLES_DIR, PROCESSED_PATH]:\n",
    "    path.mkdir(parents=True, exist_ok=True)\n",
    "\n",
    "COLORS = {\n",
    "    'demand': '#2ca02c',\n",
    "    'temperature': '#F45B69',\n",
    "    'irradiance': '#FFA500',\n",
    "    'engineered': '#7f7f7f',\n",
    "}\n",
    "\n",
    "mpl.rcParams.update({\n",
    "    'figure.dpi': 120,\n",
    "    'figure.facecolor': 'white',\n",
    "    'axes.facecolor': 'white',\n",
    "    'axes.edgecolor': 'black',\n",
    "    'axes.labelcolor': 'black',\n",
    "    'axes.titleweight': 'semibold',\n",
    "    'axes.titlelocation': 'left',\n",
    "    'xtick.color': 'black',\n",
    "    'ytick.color': 'black',\n",
    "    'grid.color': '#d9d9d9',\n",
    "    'grid.linestyle': '--',\n",
    "    'grid.linewidth': 0.6,\n",
    "    'axes.grid': True,\n",
    "    'font.family': 'DejaVu Sans',\n",
    "    'legend.frameon': True,\n",
    "    'legend.framealpha': 0.9,\n",
    "    'legend.edgecolor': '#dddddd',\n",
    "})\n",
    "\n",
    "sns.set_theme(style='whitegrid')\n",
    "\n",
    "px.defaults.template = 'plotly_white'\n",
    "px.defaults.color_discrete_sequence = ['#2ca02c', '#F45B69', '#FFA500', '#1f77b4', '#7f7f7f']\n",
    "\n",
    "\n",
    "def save_figure(fig, basename, dpi=300):\n",
    "    png = FIGURES_DIR / f'{basename}.png'\n",
    "    pdf = FIGURES_DIR / f'{basename}.pdf'\n",
    "    fig.savefig(png, dpi=dpi, bbox_inches='tight')\n",
    "    fig.savefig(pdf, dpi=dpi, bbox_inches='tight')\n",
    "    return png, pdf\n",
    "\n",
    "\n",
    "def save_interactive(fig, basename):\n",
    "    html_path = INTERACTIVE_DIR / f'{basename}.html'\n",
    "    fig.write_html(html_path, include_plotlyjs='cdn')\n",
    "    return html_path\n"
   ]
  },
  {
   "cell_type": "markdown",
   "id": "200a474d",
   "metadata": {},
   "source": [
    "## Load dataset"
   ]
  },
  {
   "cell_type": "code",
   "execution_count": 2,
   "id": "59ef796f",
   "metadata": {},
   "outputs": [
    {
     "data": {
      "text/html": [
       "<div>\n",
       "<style scoped>\n",
       "    .dataframe tbody tr th:only-of-type {\n",
       "        vertical-align: middle;\n",
       "    }\n",
       "\n",
       "    .dataframe tbody tr th {\n",
       "        vertical-align: top;\n",
       "    }\n",
       "\n",
       "    .dataframe thead th {\n",
       "        text-align: right;\n",
       "    }\n",
       "</style>\n",
       "<table border=\"1\" class=\"dataframe\">\n",
       "  <thead>\n",
       "    <tr style=\"text-align: right;\">\n",
       "      <th></th>\n",
       "      <th>Demand</th>\n",
       "      <th>Temperature</th>\n",
       "      <th>Pressure (hPa)</th>\n",
       "      <th>Cloud_cover (%)</th>\n",
       "      <th>Wind_speed_10m (km/h)</th>\n",
       "      <th>Shortwave_radiation (W/m²)</th>\n",
       "      <th>direct_radiation (W/m²)</th>\n",
       "      <th>diffuse_radiation (W/m²)</th>\n",
       "      <th>direct_normal_irradiance (W/m²)</th>\n",
       "      <th>Price</th>\n",
       "    </tr>\n",
       "    <tr>\n",
       "      <th>timestamp</th>\n",
       "      <th></th>\n",
       "      <th></th>\n",
       "      <th></th>\n",
       "      <th></th>\n",
       "      <th></th>\n",
       "      <th></th>\n",
       "      <th></th>\n",
       "      <th></th>\n",
       "      <th></th>\n",
       "      <th></th>\n",
       "    </tr>\n",
       "  </thead>\n",
       "  <tbody>\n",
       "    <tr>\n",
       "      <th>2013-07-01 00:00:00+00:00</th>\n",
       "      <td>0.27</td>\n",
       "      <td>13.5</td>\n",
       "      <td>1011.3</td>\n",
       "      <td>4</td>\n",
       "      <td>10.5</td>\n",
       "      <td>NaN</td>\n",
       "      <td>0</td>\n",
       "      <td>0</td>\n",
       "      <td>0.0</td>\n",
       "      <td>0.01605</td>\n",
       "    </tr>\n",
       "    <tr>\n",
       "      <th>2013-07-01 01:00:00+00:00</th>\n",
       "      <td>0.23</td>\n",
       "      <td>13.2</td>\n",
       "      <td>1010.8</td>\n",
       "      <td>27</td>\n",
       "      <td>11.9</td>\n",
       "      <td>NaN</td>\n",
       "      <td>0</td>\n",
       "      <td>0</td>\n",
       "      <td>0.0</td>\n",
       "      <td>0.00095</td>\n",
       "    </tr>\n",
       "    <tr>\n",
       "      <th>2013-07-01 02:00:00+00:00</th>\n",
       "      <td>0.26</td>\n",
       "      <td>13.1</td>\n",
       "      <td>1010.3</td>\n",
       "      <td>33</td>\n",
       "      <td>11.6</td>\n",
       "      <td>NaN</td>\n",
       "      <td>0</td>\n",
       "      <td>0</td>\n",
       "      <td>0.0</td>\n",
       "      <td>0.00060</td>\n",
       "    </tr>\n",
       "    <tr>\n",
       "      <th>2013-07-01 03:00:00+00:00</th>\n",
       "      <td>0.28</td>\n",
       "      <td>13.0</td>\n",
       "      <td>1010.3</td>\n",
       "      <td>28</td>\n",
       "      <td>11.2</td>\n",
       "      <td>NaN</td>\n",
       "      <td>2</td>\n",
       "      <td>7</td>\n",
       "      <td>30.1</td>\n",
       "      <td>0.00046</td>\n",
       "    </tr>\n",
       "    <tr>\n",
       "      <th>2013-07-01 04:00:00+00:00</th>\n",
       "      <td>0.29</td>\n",
       "      <td>13.8</td>\n",
       "      <td>1010.2</td>\n",
       "      <td>16</td>\n",
       "      <td>11.7</td>\n",
       "      <td>NaN</td>\n",
       "      <td>30</td>\n",
       "      <td>31</td>\n",
       "      <td>252.0</td>\n",
       "      <td>0.00046</td>\n",
       "    </tr>\n",
       "  </tbody>\n",
       "</table>\n",
       "</div>"
      ],
      "text/plain": [
       "                           Demand  Temperature  Pressure (hPa)  \\\n",
       "timestamp                                                        \n",
       "2013-07-01 00:00:00+00:00    0.27         13.5          1011.3   \n",
       "2013-07-01 01:00:00+00:00    0.23         13.2          1010.8   \n",
       "2013-07-01 02:00:00+00:00    0.26         13.1          1010.3   \n",
       "2013-07-01 03:00:00+00:00    0.28         13.0          1010.3   \n",
       "2013-07-01 04:00:00+00:00    0.29         13.8          1010.2   \n",
       "\n",
       "                           Cloud_cover (%)  Wind_speed_10m (km/h)  \\\n",
       "timestamp                                                           \n",
       "2013-07-01 00:00:00+00:00                4                   10.5   \n",
       "2013-07-01 01:00:00+00:00               27                   11.9   \n",
       "2013-07-01 02:00:00+00:00               33                   11.6   \n",
       "2013-07-01 03:00:00+00:00               28                   11.2   \n",
       "2013-07-01 04:00:00+00:00               16                   11.7   \n",
       "\n",
       "                           Shortwave_radiation (W/m²)  \\\n",
       "timestamp                                               \n",
       "2013-07-01 00:00:00+00:00                         NaN   \n",
       "2013-07-01 01:00:00+00:00                         NaN   \n",
       "2013-07-01 02:00:00+00:00                         NaN   \n",
       "2013-07-01 03:00:00+00:00                         NaN   \n",
       "2013-07-01 04:00:00+00:00                         NaN   \n",
       "\n",
       "                           direct_radiation (W/m²)  diffuse_radiation (W/m²)  \\\n",
       "timestamp                                                                      \n",
       "2013-07-01 00:00:00+00:00                        0                         0   \n",
       "2013-07-01 01:00:00+00:00                        0                         0   \n",
       "2013-07-01 02:00:00+00:00                        0                         0   \n",
       "2013-07-01 03:00:00+00:00                        2                         7   \n",
       "2013-07-01 04:00:00+00:00                       30                        31   \n",
       "\n",
       "                           direct_normal_irradiance (W/m²)    Price  \n",
       "timestamp                                                            \n",
       "2013-07-01 00:00:00+00:00                              0.0  0.01605  \n",
       "2013-07-01 01:00:00+00:00                              0.0  0.00095  \n",
       "2013-07-01 02:00:00+00:00                              0.0  0.00060  \n",
       "2013-07-01 03:00:00+00:00                             30.1  0.00046  \n",
       "2013-07-01 04:00:00+00:00                            252.0  0.00046  "
      ]
     },
     "execution_count": 2,
     "metadata": {},
     "output_type": "execute_result"
    }
   ],
   "source": [
    "\n",
    "df = pd.read_csv(DATA_PATH, parse_dates=['timestamp']).sort_values('timestamp').set_index('timestamp')\n",
    "weather_cols = [\n",
    "    'Temperature', 'Pressure (hPa)', 'Cloud_cover (%)', 'Wind_speed_10m (km/h)',\n",
    "    'Shortwave_radiation (W/m²)', 'direct_radiation (W/m²)',\n",
    "    'diffuse_radiation (W/m²)', 'direct_normal_irradiance (W/m²)', 'Price'\n",
    "]\n",
    "subset = df[['Demand'] + weather_cols].copy()\n",
    "subset.head()\n"
   ]
  },
  {
   "cell_type": "markdown",
   "id": "aaea019f",
   "metadata": {},
   "source": [
    "## Descriptive statistics"
   ]
  },
  {
   "cell_type": "code",
   "execution_count": 3,
   "id": "951dd67b",
   "metadata": {},
   "outputs": [
    {
     "data": {
      "text/html": [
       "<div>\n",
       "<style scoped>\n",
       "    .dataframe tbody tr th:only-of-type {\n",
       "        vertical-align: middle;\n",
       "    }\n",
       "\n",
       "    .dataframe tbody tr th {\n",
       "        vertical-align: top;\n",
       "    }\n",
       "\n",
       "    .dataframe thead th {\n",
       "        text-align: right;\n",
       "    }\n",
       "</style>\n",
       "<table border=\"1\" class=\"dataframe\">\n",
       "  <thead>\n",
       "    <tr style=\"text-align: right;\">\n",
       "      <th></th>\n",
       "      <th>mean</th>\n",
       "      <th>std</th>\n",
       "      <th>min</th>\n",
       "      <th>max</th>\n",
       "      <th>skewness</th>\n",
       "      <th>kurtosis</th>\n",
       "    </tr>\n",
       "  </thead>\n",
       "  <tbody>\n",
       "    <tr>\n",
       "      <th>Demand</th>\n",
       "      <td>0.531</td>\n",
       "      <td>0.375</td>\n",
       "      <td>0.0</td>\n",
       "      <td>4.240</td>\n",
       "      <td>2.484</td>\n",
       "      <td>8.801</td>\n",
       "    </tr>\n",
       "    <tr>\n",
       "      <th>Temperature</th>\n",
       "      <td>7.515</td>\n",
       "      <td>8.312</td>\n",
       "      <td>-18.3</td>\n",
       "      <td>28.900</td>\n",
       "      <td>-0.209</td>\n",
       "      <td>-0.023</td>\n",
       "    </tr>\n",
       "    <tr>\n",
       "      <th>Pressure (hPa)</th>\n",
       "      <td>1012.776</td>\n",
       "      <td>10.199</td>\n",
       "      <td>971.7</td>\n",
       "      <td>1041.000</td>\n",
       "      <td>-0.375</td>\n",
       "      <td>0.795</td>\n",
       "    </tr>\n",
       "    <tr>\n",
       "      <th>Cloud_cover (%)</th>\n",
       "      <td>68.705</td>\n",
       "      <td>36.274</td>\n",
       "      <td>0.0</td>\n",
       "      <td>100.000</td>\n",
       "      <td>-0.778</td>\n",
       "      <td>-0.955</td>\n",
       "    </tr>\n",
       "    <tr>\n",
       "      <th>Wind_speed_10m (km/h)</th>\n",
       "      <td>15.991</td>\n",
       "      <td>7.451</td>\n",
       "      <td>0.4</td>\n",
       "      <td>51.100</td>\n",
       "      <td>0.505</td>\n",
       "      <td>-0.044</td>\n",
       "    </tr>\n",
       "    <tr>\n",
       "      <th>Shortwave_radiation (W/m²)</th>\n",
       "      <td>114.955</td>\n",
       "      <td>181.902</td>\n",
       "      <td>0.0</td>\n",
       "      <td>756.000</td>\n",
       "      <td>1.661</td>\n",
       "      <td>1.751</td>\n",
       "    </tr>\n",
       "    <tr>\n",
       "      <th>direct_radiation (W/m²)</th>\n",
       "      <td>67.146</td>\n",
       "      <td>133.208</td>\n",
       "      <td>0.0</td>\n",
       "      <td>702.000</td>\n",
       "      <td>2.299</td>\n",
       "      <td>4.642</td>\n",
       "    </tr>\n",
       "    <tr>\n",
       "      <th>diffuse_radiation (W/m²)</th>\n",
       "      <td>45.229</td>\n",
       "      <td>63.792</td>\n",
       "      <td>0.0</td>\n",
       "      <td>343.000</td>\n",
       "      <td>1.479</td>\n",
       "      <td>1.587</td>\n",
       "    </tr>\n",
       "    <tr>\n",
       "      <th>direct_normal_irradiance (W/m²)</th>\n",
       "      <td>143.466</td>\n",
       "      <td>232.824</td>\n",
       "      <td>0.0</td>\n",
       "      <td>896.700</td>\n",
       "      <td>1.563</td>\n",
       "      <td>1.210</td>\n",
       "    </tr>\n",
       "    <tr>\n",
       "      <th>Price</th>\n",
       "      <td>0.046</td>\n",
       "      <td>0.025</td>\n",
       "      <td>0.0</td>\n",
       "      <td>0.255</td>\n",
       "      <td>1.200</td>\n",
       "      <td>5.481</td>\n",
       "    </tr>\n",
       "  </tbody>\n",
       "</table>\n",
       "</div>"
      ],
      "text/plain": [
       "                                     mean      std    min       max  skewness  \\\n",
       "Demand                              0.531    0.375    0.0     4.240     2.484   \n",
       "Temperature                         7.515    8.312  -18.3    28.900    -0.209   \n",
       "Pressure (hPa)                   1012.776   10.199  971.7  1041.000    -0.375   \n",
       "Cloud_cover (%)                    68.705   36.274    0.0   100.000    -0.778   \n",
       "Wind_speed_10m (km/h)              15.991    7.451    0.4    51.100     0.505   \n",
       "Shortwave_radiation (W/m²)        114.955  181.902    0.0   756.000     1.661   \n",
       "direct_radiation (W/m²)            67.146  133.208    0.0   702.000     2.299   \n",
       "diffuse_radiation (W/m²)           45.229   63.792    0.0   343.000     1.479   \n",
       "direct_normal_irradiance (W/m²)   143.466  232.824    0.0   896.700     1.563   \n",
       "Price                               0.046    0.025    0.0     0.255     1.200   \n",
       "\n",
       "                                 kurtosis  \n",
       "Demand                              8.801  \n",
       "Temperature                        -0.023  \n",
       "Pressure (hPa)                      0.795  \n",
       "Cloud_cover (%)                    -0.955  \n",
       "Wind_speed_10m (km/h)              -0.044  \n",
       "Shortwave_radiation (W/m²)          1.751  \n",
       "direct_radiation (W/m²)             4.642  \n",
       "diffuse_radiation (W/m²)            1.587  \n",
       "direct_normal_irradiance (W/m²)     1.210  \n",
       "Price                               5.481  "
      ]
     },
     "execution_count": 3,
     "metadata": {},
     "output_type": "execute_result"
    }
   ],
   "source": [
    "\n",
    "stats_functions = ['mean', 'std', 'min', 'max']\n",
    "summary = subset.agg(stats_functions).T\n",
    "extra = subset.agg(['skew', 'kurtosis']).T\n",
    "summary['skewness'] = extra['skew']\n",
    "summary['kurtosis'] = extra['kurtosis']\n",
    "summary = summary.round(3)\n",
    "summary_path = TABLES_DIR / 'task5_descriptive_stats.csv'\n",
    "summary.to_csv(summary_path)\n",
    "summary\n"
   ]
  },
  {
   "cell_type": "markdown",
   "id": "6b4f36d0",
   "metadata": {},
   "source": [
    "### Figure 1 – Demand vs temperature"
   ]
  },
  {
   "cell_type": "code",
   "execution_count": 4,
   "id": "e4f16645",
   "metadata": {},
   "outputs": [
    {
     "data": {
      "application/vnd.plotly.v1+json": {
       "config": {
        "plotlyServerURL": "https://plot.ly"
       },
       "data": [
        {
         "hovertemplate": "Temperature (°C)=%{x}<br>Demand (kW)=%{y}<extra></extra>",
         "legendgroup": "",
         "marker": {
          "color": "#2ca02c",
          "opacity": 0.6,
          "symbol": "circle"
         },
         "mode": "markers",
         "name": "",
         "showlegend": false,
         "type": "scattergl",
         "x": {
          "bdata": "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",
          "dtype": "f8"
         },
         "xaxis": "x",
         "y": {
          "bdata": "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",
          "dtype": "f8"
         },
         "yaxis": "y"
        }
       ],
       "layout": {
        "legend": {
         "tracegroupgap": 0
        },
        "template": {
         "data": {
          "bar": [
           {
            "error_x": {
             "color": "#2a3f5f"
            },
            "error_y": {
             "color": "#2a3f5f"
            },
            "marker": {
             "line": {
              "color": "white",
              "width": 0.5
             },
             "pattern": {
              "fillmode": "overlay",
              "size": 10,
              "solidity": 0.2
             }
            },
            "type": "bar"
           }
          ],
          "barpolar": [
           {
            "marker": {
             "line": {
              "color": "white",
              "width": 0.5
             },
             "pattern": {
              "fillmode": "overlay",
              "size": 10,
              "solidity": 0.2
             }
            },
            "type": "barpolar"
           }
          ],
          "carpet": [
           {
            "aaxis": {
             "endlinecolor": "#2a3f5f",
             "gridcolor": "#C8D4E3",
             "linecolor": "#C8D4E3",
             "minorgridcolor": "#C8D4E3",
             "startlinecolor": "#2a3f5f"
            },
            "baxis": {
             "endlinecolor": "#2a3f5f",
             "gridcolor": "#C8D4E3",
             "linecolor": "#C8D4E3",
             "minorgridcolor": "#C8D4E3",
             "startlinecolor": "#2a3f5f"
            },
            "type": "carpet"
           }
          ],
          "choropleth": [
           {
            "colorbar": {
             "outlinewidth": 0,
             "ticks": ""
            },
            "type": "choropleth"
           }
          ],
          "contour": [
           {
            "colorbar": {
             "outlinewidth": 0,
             "ticks": ""
            },
            "colorscale": [
             [
              0,
              "#0d0887"
             ],
             [
              0.1111111111111111,
              "#46039f"
             ],
             [
              0.2222222222222222,
              "#7201a8"
             ],
             [
              0.3333333333333333,
              "#9c179e"
             ],
             [
              0.4444444444444444,
              "#bd3786"
             ],
             [
              0.5555555555555556,
              "#d8576b"
             ],
             [
              0.6666666666666666,
              "#ed7953"
             ],
             [
              0.7777777777777778,
              "#fb9f3a"
             ],
             [
              0.8888888888888888,
              "#fdca26"
             ],
             [
              1,
              "#f0f921"
             ]
            ],
            "type": "contour"
           }
          ],
          "contourcarpet": [
           {
            "colorbar": {
             "outlinewidth": 0,
             "ticks": ""
            },
            "type": "contourcarpet"
           }
          ],
          "heatmap": [
           {
            "colorbar": {
             "outlinewidth": 0,
             "ticks": ""
            },
            "colorscale": [
             [
              0,
              "#0d0887"
             ],
             [
              0.1111111111111111,
              "#46039f"
             ],
             [
              0.2222222222222222,
              "#7201a8"
             ],
             [
              0.3333333333333333,
              "#9c179e"
             ],
             [
              0.4444444444444444,
              "#bd3786"
             ],
             [
              0.5555555555555556,
              "#d8576b"
             ],
             [
              0.6666666666666666,
              "#ed7953"
             ],
             [
              0.7777777777777778,
              "#fb9f3a"
             ],
             [
              0.8888888888888888,
              "#fdca26"
             ],
             [
              1,
              "#f0f921"
             ]
            ],
            "type": "heatmap"
           }
          ],
          "histogram": [
           {
            "marker": {
             "pattern": {
              "fillmode": "overlay",
              "size": 10,
              "solidity": 0.2
             }
            },
            "type": "histogram"
           }
          ],
          "histogram2d": [
           {
            "colorbar": {
             "outlinewidth": 0,
             "ticks": ""
            },
            "colorscale": [
             [
              0,
              "#0d0887"
             ],
             [
              0.1111111111111111,
              "#46039f"
             ],
             [
              0.2222222222222222,
              "#7201a8"
             ],
             [
              0.3333333333333333,
              "#9c179e"
             ],
             [
              0.4444444444444444,
              "#bd3786"
             ],
             [
              0.5555555555555556,
              "#d8576b"
             ],
             [
              0.6666666666666666,
              "#ed7953"
             ],
             [
              0.7777777777777778,
              "#fb9f3a"
             ],
             [
              0.8888888888888888,
              "#fdca26"
             ],
             [
              1,
              "#f0f921"
             ]
            ],
            "type": "histogram2d"
           }
          ],
          "histogram2dcontour": [
           {
            "colorbar": {
             "outlinewidth": 0,
             "ticks": ""
            },
            "colorscale": [
             [
              0,
              "#0d0887"
             ],
             [
              0.1111111111111111,
              "#46039f"
             ],
             [
              0.2222222222222222,
              "#7201a8"
             ],
             [
              0.3333333333333333,
              "#9c179e"
             ],
             [
              0.4444444444444444,
              "#bd3786"
             ],
             [
              0.5555555555555556,
              "#d8576b"
             ],
             [
              0.6666666666666666,
              "#ed7953"
             ],
             [
              0.7777777777777778,
              "#fb9f3a"
             ],
             [
              0.8888888888888888,
              "#fdca26"
             ],
             [
              1,
              "#f0f921"
             ]
            ],
            "type": "histogram2dcontour"
           }
          ],
          "mesh3d": [
           {
            "colorbar": {
             "outlinewidth": 0,
             "ticks": ""
            },
            "type": "mesh3d"
           }
          ],
          "parcoords": [
           {
            "line": {
             "colorbar": {
              "outlinewidth": 0,
              "ticks": ""
             }
            },
            "type": "parcoords"
           }
          ],
          "pie": [
           {
            "automargin": true,
            "type": "pie"
           }
          ],
          "scatter": [
           {
            "fillpattern": {
             "fillmode": "overlay",
             "size": 10,
             "solidity": 0.2
            },
            "type": "scatter"
           }
          ],
          "scatter3d": [
           {
            "line": {
             "colorbar": {
              "outlinewidth": 0,
              "ticks": ""
             }
            },
            "marker": {
             "colorbar": {
              "outlinewidth": 0,
              "ticks": ""
             }
            },
            "type": "scatter3d"
           }
          ],
          "scattercarpet": [
           {
            "marker": {
             "colorbar": {
              "outlinewidth": 0,
              "ticks": ""
             }
            },
            "type": "scattercarpet"
           }
          ],
          "scattergeo": [
           {
            "marker": {
             "colorbar": {
              "outlinewidth": 0,
              "ticks": ""
             }
            },
            "type": "scattergeo"
           }
          ],
          "scattergl": [
           {
            "marker": {
             "colorbar": {
              "outlinewidth": 0,
              "ticks": ""
             }
            },
            "type": "scattergl"
           }
          ],
          "scattermap": [
           {
            "marker": {
             "colorbar": {
              "outlinewidth": 0,
              "ticks": ""
             }
            },
            "type": "scattermap"
           }
          ],
          "scattermapbox": [
           {
            "marker": {
             "colorbar": {
              "outlinewidth": 0,
              "ticks": ""
             }
            },
            "type": "scattermapbox"
           }
          ],
          "scatterpolar": [
           {
            "marker": {
             "colorbar": {
              "outlinewidth": 0,
              "ticks": ""
             }
            },
            "type": "scatterpolar"
           }
          ],
          "scatterpolargl": [
           {
            "marker": {
             "colorbar": {
              "outlinewidth": 0,
              "ticks": ""
             }
            },
            "type": "scatterpolargl"
           }
          ],
          "scatterternary": [
           {
            "marker": {
             "colorbar": {
              "outlinewidth": 0,
              "ticks": ""
             }
            },
            "type": "scatterternary"
           }
          ],
          "surface": [
           {
            "colorbar": {
             "outlinewidth": 0,
             "ticks": ""
            },
            "colorscale": [
             [
              0,
              "#0d0887"
             ],
             [
              0.1111111111111111,
              "#46039f"
             ],
             [
              0.2222222222222222,
              "#7201a8"
             ],
             [
              0.3333333333333333,
              "#9c179e"
             ],
             [
              0.4444444444444444,
              "#bd3786"
             ],
             [
              0.5555555555555556,
              "#d8576b"
             ],
             [
              0.6666666666666666,
              "#ed7953"
             ],
             [
              0.7777777777777778,
              "#fb9f3a"
             ],
             [
              0.8888888888888888,
              "#fdca26"
             ],
             [
              1,
              "#f0f921"
             ]
            ],
            "type": "surface"
           }
          ],
          "table": [
           {
            "cells": {
             "fill": {
              "color": "#EBF0F8"
             },
             "line": {
              "color": "white"
             }
            },
            "header": {
             "fill": {
              "color": "#C8D4E3"
             },
             "line": {
              "color": "white"
             }
            },
            "type": "table"
           }
          ]
         },
         "layout": {
          "annotationdefaults": {
           "arrowcolor": "#2a3f5f",
           "arrowhead": 0,
           "arrowwidth": 1
          },
          "autotypenumbers": "strict",
          "coloraxis": {
           "colorbar": {
            "outlinewidth": 0,
            "ticks": ""
           }
          },
          "colorscale": {
           "diverging": [
            [
             0,
             "#8e0152"
            ],
            [
             0.1,
             "#c51b7d"
            ],
            [
             0.2,
             "#de77ae"
            ],
            [
             0.3,
             "#f1b6da"
            ],
            [
             0.4,
             "#fde0ef"
            ],
            [
             0.5,
             "#f7f7f7"
            ],
            [
             0.6,
             "#e6f5d0"
            ],
            [
             0.7,
             "#b8e186"
            ],
            [
             0.8,
             "#7fbc41"
            ],
            [
             0.9,
             "#4d9221"
            ],
            [
             1,
             "#276419"
            ]
           ],
           "sequential": [
            [
             0,
             "#0d0887"
            ],
            [
             0.1111111111111111,
             "#46039f"
            ],
            [
             0.2222222222222222,
             "#7201a8"
            ],
            [
             0.3333333333333333,
             "#9c179e"
            ],
            [
             0.4444444444444444,
             "#bd3786"
            ],
            [
             0.5555555555555556,
             "#d8576b"
            ],
            [
             0.6666666666666666,
             "#ed7953"
            ],
            [
             0.7777777777777778,
             "#fb9f3a"
            ],
            [
             0.8888888888888888,
             "#fdca26"
            ],
            [
             1,
             "#f0f921"
            ]
           ],
           "sequentialminus": [
            [
             0,
             "#0d0887"
            ],
            [
             0.1111111111111111,
             "#46039f"
            ],
            [
             0.2222222222222222,
             "#7201a8"
            ],
            [
             0.3333333333333333,
             "#9c179e"
            ],
            [
             0.4444444444444444,
             "#bd3786"
            ],
            [
             0.5555555555555556,
             "#d8576b"
            ],
            [
             0.6666666666666666,
             "#ed7953"
            ],
            [
             0.7777777777777778,
             "#fb9f3a"
            ],
            [
             0.8888888888888888,
             "#fdca26"
            ],
            [
             1,
             "#f0f921"
            ]
           ]
          },
          "colorway": [
           "#636efa",
           "#EF553B",
           "#00cc96",
           "#ab63fa",
           "#FFA15A",
           "#19d3f3",
           "#FF6692",
           "#B6E880",
           "#FF97FF",
           "#FECB52"
          ],
          "font": {
           "color": "#2a3f5f"
          },
          "geo": {
           "bgcolor": "white",
           "lakecolor": "white",
           "landcolor": "white",
           "showlakes": true,
           "showland": true,
           "subunitcolor": "#C8D4E3"
          },
          "hoverlabel": {
           "align": "left"
          },
          "hovermode": "closest",
          "mapbox": {
           "style": "light"
          },
          "paper_bgcolor": "white",
          "plot_bgcolor": "white",
          "polar": {
           "angularaxis": {
            "gridcolor": "#EBF0F8",
            "linecolor": "#EBF0F8",
            "ticks": ""
           },
           "bgcolor": "white",
           "radialaxis": {
            "gridcolor": "#EBF0F8",
            "linecolor": "#EBF0F8",
            "ticks": ""
           }
          },
          "scene": {
           "xaxis": {
            "backgroundcolor": "white",
            "gridcolor": "#DFE8F3",
            "gridwidth": 2,
            "linecolor": "#EBF0F8",
            "showbackground": true,
            "ticks": "",
            "zerolinecolor": "#EBF0F8"
           },
           "yaxis": {
            "backgroundcolor": "white",
            "gridcolor": "#DFE8F3",
            "gridwidth": 2,
            "linecolor": "#EBF0F8",
            "showbackground": true,
            "ticks": "",
            "zerolinecolor": "#EBF0F8"
           },
           "zaxis": {
            "backgroundcolor": "white",
            "gridcolor": "#DFE8F3",
            "gridwidth": 2,
            "linecolor": "#EBF0F8",
            "showbackground": true,
            "ticks": "",
            "zerolinecolor": "#EBF0F8"
           }
          },
          "shapedefaults": {
           "line": {
            "color": "#2a3f5f"
           }
          },
          "ternary": {
           "aaxis": {
            "gridcolor": "#DFE8F3",
            "linecolor": "#A2B1C6",
            "ticks": ""
           },
           "baxis": {
            "gridcolor": "#DFE8F3",
            "linecolor": "#A2B1C6",
            "ticks": ""
           },
           "bgcolor": "white",
           "caxis": {
            "gridcolor": "#DFE8F3",
            "linecolor": "#A2B1C6",
            "ticks": ""
           }
          },
          "title": {
           "x": 0.05
          },
          "xaxis": {
           "automargin": true,
           "gridcolor": "#EBF0F8",
           "linecolor": "#EBF0F8",
           "ticks": "",
           "title": {
            "standoff": 15
           },
           "zerolinecolor": "#EBF0F8",
           "zerolinewidth": 2
          },
          "yaxis": {
           "automargin": true,
           "gridcolor": "#EBF0F8",
           "linecolor": "#EBF0F8",
           "ticks": "",
           "title": {
            "standoff": 15
           },
           "zerolinecolor": "#EBF0F8",
           "zerolinewidth": 2
          }
         }
        },
        "title": {
         "text": "Demand vs Temperature"
        },
        "xaxis": {
         "anchor": "y",
         "domain": [
          0,
          1
         ],
         "title": {
          "text": "Temperature (°C)"
         }
        },
        "yaxis": {
         "anchor": "x",
         "domain": [
          0,
          1
         ],
         "title": {
          "text": "Demand (kW)"
         }
        }
       }
      }
     },
     "metadata": {},
     "output_type": "display_data"
    }
   ],
   "source": [
    "\n",
    "sample_temp = subset.sample(2000, random_state=42)\n",
    "fig, ax = plt.subplots(figsize=(6, 4))\n",
    "sns.scatterplot(data=sample_temp, x='Temperature', y='Demand', color=COLORS['temperature'], alpha=0.6, ax=ax)\n",
    "ax.set_title('Demand vs Temperature')\n",
    "ax.set_xlabel('Temperature (°C)')\n",
    "ax.set_ylabel('Demand (kW)')\n",
    "fig.tight_layout()\n",
    "save_figure(fig, 'task5_fig_demand_vs_temperature')\n",
    "plt.close(fig)\n",
    "\n",
    "fig_px = px.scatter(sample_temp, x='Temperature', y='Demand', opacity=0.6,\n",
    "                    labels={'Temperature': 'Temperature (°C)', 'Demand': 'Demand (kW)'},\n",
    "                    title='Demand vs Temperature')\n",
    "save_interactive(fig_px, 'task5_fig_demand_vs_temperature_interactive')\n",
    "fig_px\n"
   ]
  },
  {
   "cell_type": "markdown",
   "id": "3b35bdf2",
   "metadata": {},
   "source": [
    "### Figure 2 – Hourly demand profile"
   ]
  },
  {
   "cell_type": "code",
   "execution_count": 5,
   "id": "18314d30",
   "metadata": {},
   "outputs": [
    {
     "data": {
      "application/vnd.plotly.v1+json": {
       "config": {
        "plotlyServerURL": "https://plot.ly"
       },
       "data": [
        {
         "hovertemplate": "Hour of day (UTC)=%{x}<br>Demand (kW)=%{y}<extra></extra>",
         "legendgroup": "",
         "line": {
          "color": "#2ca02c",
          "dash": "solid"
         },
         "marker": {
          "symbol": "circle"
         },
         "mode": "lines",
         "name": "",
         "orientation": "v",
         "showlegend": false,
         "type": "scatter",
         "x": {
          "bdata": "AAECAwQFBgcICQoLDA0ODxAREhMUFRYX",
          "dtype": "i1"
         },
         "xaxis": "x",
         "y": {
          "bdata": "mGP6J4M51j9hzG+DdyzTP+t7k+v3n9I/OF9mk3Ic0j8hzzXaxhDSPyQcsUu+rdM/RS/P28Fa2T8fsvcHFH7iP4B+Z4uLquU/4H/KNrMc5T+yQ9c7D43kP8tHLUo8P+I/r32A7CoO4z+TNJbeWqXiP49lrNO7JeM/xEdaVvKa4T850Fr/ChjjPzCUhsfYveU/eVGI4eWm5z8dHw9BXbTnPyqE5e/lTOc/VUMg2k015D8FarlDqi/hPy2S78Urids/",
          "dtype": "f8"
         },
         "yaxis": "y"
        }
       ],
       "layout": {
        "legend": {
         "tracegroupgap": 0
        },
        "template": {
         "data": {
          "bar": [
           {
            "error_x": {
             "color": "#2a3f5f"
            },
            "error_y": {
             "color": "#2a3f5f"
            },
            "marker": {
             "line": {
              "color": "white",
              "width": 0.5
             },
             "pattern": {
              "fillmode": "overlay",
              "size": 10,
              "solidity": 0.2
             }
            },
            "type": "bar"
           }
          ],
          "barpolar": [
           {
            "marker": {
             "line": {
              "color": "white",
              "width": 0.5
             },
             "pattern": {
              "fillmode": "overlay",
              "size": 10,
              "solidity": 0.2
             }
            },
            "type": "barpolar"
           }
          ],
          "carpet": [
           {
            "aaxis": {
             "endlinecolor": "#2a3f5f",
             "gridcolor": "#C8D4E3",
             "linecolor": "#C8D4E3",
             "minorgridcolor": "#C8D4E3",
             "startlinecolor": "#2a3f5f"
            },
            "baxis": {
             "endlinecolor": "#2a3f5f",
             "gridcolor": "#C8D4E3",
             "linecolor": "#C8D4E3",
             "minorgridcolor": "#C8D4E3",
             "startlinecolor": "#2a3f5f"
            },
            "type": "carpet"
           }
          ],
          "choropleth": [
           {
            "colorbar": {
             "outlinewidth": 0,
             "ticks": ""
            },
            "type": "choropleth"
           }
          ],
          "contour": [
           {
            "colorbar": {
             "outlinewidth": 0,
             "ticks": ""
            },
            "colorscale": [
             [
              0,
              "#0d0887"
             ],
             [
              0.1111111111111111,
              "#46039f"
             ],
             [
              0.2222222222222222,
              "#7201a8"
             ],
             [
              0.3333333333333333,
              "#9c179e"
             ],
             [
              0.4444444444444444,
              "#bd3786"
             ],
             [
              0.5555555555555556,
              "#d8576b"
             ],
             [
              0.6666666666666666,
              "#ed7953"
             ],
             [
              0.7777777777777778,
              "#fb9f3a"
             ],
             [
              0.8888888888888888,
              "#fdca26"
             ],
             [
              1,
              "#f0f921"
             ]
            ],
            "type": "contour"
           }
          ],
          "contourcarpet": [
           {
            "colorbar": {
             "outlinewidth": 0,
             "ticks": ""
            },
            "type": "contourcarpet"
           }
          ],
          "heatmap": [
           {
            "colorbar": {
             "outlinewidth": 0,
             "ticks": ""
            },
            "colorscale": [
             [
              0,
              "#0d0887"
             ],
             [
              0.1111111111111111,
              "#46039f"
             ],
             [
              0.2222222222222222,
              "#7201a8"
             ],
             [
              0.3333333333333333,
              "#9c179e"
             ],
             [
              0.4444444444444444,
              "#bd3786"
             ],
             [
              0.5555555555555556,
              "#d8576b"
             ],
             [
              0.6666666666666666,
              "#ed7953"
             ],
             [
              0.7777777777777778,
              "#fb9f3a"
             ],
             [
              0.8888888888888888,
              "#fdca26"
             ],
             [
              1,
              "#f0f921"
             ]
            ],
            "type": "heatmap"
           }
          ],
          "histogram": [
           {
            "marker": {
             "pattern": {
              "fillmode": "overlay",
              "size": 10,
              "solidity": 0.2
             }
            },
            "type": "histogram"
           }
          ],
          "histogram2d": [
           {
            "colorbar": {
             "outlinewidth": 0,
             "ticks": ""
            },
            "colorscale": [
             [
              0,
              "#0d0887"
             ],
             [
              0.1111111111111111,
              "#46039f"
             ],
             [
              0.2222222222222222,
              "#7201a8"
             ],
             [
              0.3333333333333333,
              "#9c179e"
             ],
             [
              0.4444444444444444,
              "#bd3786"
             ],
             [
              0.5555555555555556,
              "#d8576b"
             ],
             [
              0.6666666666666666,
              "#ed7953"
             ],
             [
              0.7777777777777778,
              "#fb9f3a"
             ],
             [
              0.8888888888888888,
              "#fdca26"
             ],
             [
              1,
              "#f0f921"
             ]
            ],
            "type": "histogram2d"
           }
          ],
          "histogram2dcontour": [
           {
            "colorbar": {
             "outlinewidth": 0,
             "ticks": ""
            },
            "colorscale": [
             [
              0,
              "#0d0887"
             ],
             [
              0.1111111111111111,
              "#46039f"
             ],
             [
              0.2222222222222222,
              "#7201a8"
             ],
             [
              0.3333333333333333,
              "#9c179e"
             ],
             [
              0.4444444444444444,
              "#bd3786"
             ],
             [
              0.5555555555555556,
              "#d8576b"
             ],
             [
              0.6666666666666666,
              "#ed7953"
             ],
             [
              0.7777777777777778,
              "#fb9f3a"
             ],
             [
              0.8888888888888888,
              "#fdca26"
             ],
             [
              1,
              "#f0f921"
             ]
            ],
            "type": "histogram2dcontour"
           }
          ],
          "mesh3d": [
           {
            "colorbar": {
             "outlinewidth": 0,
             "ticks": ""
            },
            "type": "mesh3d"
           }
          ],
          "parcoords": [
           {
            "line": {
             "colorbar": {
              "outlinewidth": 0,
              "ticks": ""
             }
            },
            "type": "parcoords"
           }
          ],
          "pie": [
           {
            "automargin": true,
            "type": "pie"
           }
          ],
          "scatter": [
           {
            "fillpattern": {
             "fillmode": "overlay",
             "size": 10,
             "solidity": 0.2
            },
            "type": "scatter"
           }
          ],
          "scatter3d": [
           {
            "line": {
             "colorbar": {
              "outlinewidth": 0,
              "ticks": ""
             }
            },
            "marker": {
             "colorbar": {
              "outlinewidth": 0,
              "ticks": ""
             }
            },
            "type": "scatter3d"
           }
          ],
          "scattercarpet": [
           {
            "marker": {
             "colorbar": {
              "outlinewidth": 0,
              "ticks": ""
             }
            },
            "type": "scattercarpet"
           }
          ],
          "scattergeo": [
           {
            "marker": {
             "colorbar": {
              "outlinewidth": 0,
              "ticks": ""
             }
            },
            "type": "scattergeo"
           }
          ],
          "scattergl": [
           {
            "marker": {
             "colorbar": {
              "outlinewidth": 0,
              "ticks": ""
             }
            },
            "type": "scattergl"
           }
          ],
          "scattermap": [
           {
            "marker": {
             "colorbar": {
              "outlinewidth": 0,
              "ticks": ""
             }
            },
            "type": "scattermap"
           }
          ],
          "scattermapbox": [
           {
            "marker": {
             "colorbar": {
              "outlinewidth": 0,
              "ticks": ""
             }
            },
            "type": "scattermapbox"
           }
          ],
          "scatterpolar": [
           {
            "marker": {
             "colorbar": {
              "outlinewidth": 0,
              "ticks": ""
             }
            },
            "type": "scatterpolar"
           }
          ],
          "scatterpolargl": [
           {
            "marker": {
             "colorbar": {
              "outlinewidth": 0,
              "ticks": ""
             }
            },
            "type": "scatterpolargl"
           }
          ],
          "scatterternary": [
           {
            "marker": {
             "colorbar": {
              "outlinewidth": 0,
              "ticks": ""
             }
            },
            "type": "scatterternary"
           }
          ],
          "surface": [
           {
            "colorbar": {
             "outlinewidth": 0,
             "ticks": ""
            },
            "colorscale": [
             [
              0,
              "#0d0887"
             ],
             [
              0.1111111111111111,
              "#46039f"
             ],
             [
              0.2222222222222222,
              "#7201a8"
             ],
             [
              0.3333333333333333,
              "#9c179e"
             ],
             [
              0.4444444444444444,
              "#bd3786"
             ],
             [
              0.5555555555555556,
              "#d8576b"
             ],
             [
              0.6666666666666666,
              "#ed7953"
             ],
             [
              0.7777777777777778,
              "#fb9f3a"
             ],
             [
              0.8888888888888888,
              "#fdca26"
             ],
             [
              1,
              "#f0f921"
             ]
            ],
            "type": "surface"
           }
          ],
          "table": [
           {
            "cells": {
             "fill": {
              "color": "#EBF0F8"
             },
             "line": {
              "color": "white"
             }
            },
            "header": {
             "fill": {
              "color": "#C8D4E3"
             },
             "line": {
              "color": "white"
             }
            },
            "type": "table"
           }
          ]
         },
         "layout": {
          "annotationdefaults": {
           "arrowcolor": "#2a3f5f",
           "arrowhead": 0,
           "arrowwidth": 1
          },
          "autotypenumbers": "strict",
          "coloraxis": {
           "colorbar": {
            "outlinewidth": 0,
            "ticks": ""
           }
          },
          "colorscale": {
           "diverging": [
            [
             0,
             "#8e0152"
            ],
            [
             0.1,
             "#c51b7d"
            ],
            [
             0.2,
             "#de77ae"
            ],
            [
             0.3,
             "#f1b6da"
            ],
            [
             0.4,
             "#fde0ef"
            ],
            [
             0.5,
             "#f7f7f7"
            ],
            [
             0.6,
             "#e6f5d0"
            ],
            [
             0.7,
             "#b8e186"
            ],
            [
             0.8,
             "#7fbc41"
            ],
            [
             0.9,
             "#4d9221"
            ],
            [
             1,
             "#276419"
            ]
           ],
           "sequential": [
            [
             0,
             "#0d0887"
            ],
            [
             0.1111111111111111,
             "#46039f"
            ],
            [
             0.2222222222222222,
             "#7201a8"
            ],
            [
             0.3333333333333333,
             "#9c179e"
            ],
            [
             0.4444444444444444,
             "#bd3786"
            ],
            [
             0.5555555555555556,
             "#d8576b"
            ],
            [
             0.6666666666666666,
             "#ed7953"
            ],
            [
             0.7777777777777778,
             "#fb9f3a"
            ],
            [
             0.8888888888888888,
             "#fdca26"
            ],
            [
             1,
             "#f0f921"
            ]
           ],
           "sequentialminus": [
            [
             0,
             "#0d0887"
            ],
            [
             0.1111111111111111,
             "#46039f"
            ],
            [
             0.2222222222222222,
             "#7201a8"
            ],
            [
             0.3333333333333333,
             "#9c179e"
            ],
            [
             0.4444444444444444,
             "#bd3786"
            ],
            [
             0.5555555555555556,
             "#d8576b"
            ],
            [
             0.6666666666666666,
             "#ed7953"
            ],
            [
             0.7777777777777778,
             "#fb9f3a"
            ],
            [
             0.8888888888888888,
             "#fdca26"
            ],
            [
             1,
             "#f0f921"
            ]
           ]
          },
          "colorway": [
           "#636efa",
           "#EF553B",
           "#00cc96",
           "#ab63fa",
           "#FFA15A",
           "#19d3f3",
           "#FF6692",
           "#B6E880",
           "#FF97FF",
           "#FECB52"
          ],
          "font": {
           "color": "#2a3f5f"
          },
          "geo": {
           "bgcolor": "white",
           "lakecolor": "white",
           "landcolor": "white",
           "showlakes": true,
           "showland": true,
           "subunitcolor": "#C8D4E3"
          },
          "hoverlabel": {
           "align": "left"
          },
          "hovermode": "closest",
          "mapbox": {
           "style": "light"
          },
          "paper_bgcolor": "white",
          "plot_bgcolor": "white",
          "polar": {
           "angularaxis": {
            "gridcolor": "#EBF0F8",
            "linecolor": "#EBF0F8",
            "ticks": ""
           },
           "bgcolor": "white",
           "radialaxis": {
            "gridcolor": "#EBF0F8",
            "linecolor": "#EBF0F8",
            "ticks": ""
           }
          },
          "scene": {
           "xaxis": {
            "backgroundcolor": "white",
            "gridcolor": "#DFE8F3",
            "gridwidth": 2,
            "linecolor": "#EBF0F8",
            "showbackground": true,
            "ticks": "",
            "zerolinecolor": "#EBF0F8"
           },
           "yaxis": {
            "backgroundcolor": "white",
            "gridcolor": "#DFE8F3",
            "gridwidth": 2,
            "linecolor": "#EBF0F8",
            "showbackground": true,
            "ticks": "",
            "zerolinecolor": "#EBF0F8"
           },
           "zaxis": {
            "backgroundcolor": "white",
            "gridcolor": "#DFE8F3",
            "gridwidth": 2,
            "linecolor": "#EBF0F8",
            "showbackground": true,
            "ticks": "",
            "zerolinecolor": "#EBF0F8"
           }
          },
          "shapedefaults": {
           "line": {
            "color": "#2a3f5f"
           }
          },
          "ternary": {
           "aaxis": {
            "gridcolor": "#DFE8F3",
            "linecolor": "#A2B1C6",
            "ticks": ""
           },
           "baxis": {
            "gridcolor": "#DFE8F3",
            "linecolor": "#A2B1C6",
            "ticks": ""
           },
           "bgcolor": "white",
           "caxis": {
            "gridcolor": "#DFE8F3",
            "linecolor": "#A2B1C6",
            "ticks": ""
           }
          },
          "title": {
           "x": 0.05
          },
          "xaxis": {
           "automargin": true,
           "gridcolor": "#EBF0F8",
           "linecolor": "#EBF0F8",
           "ticks": "",
           "title": {
            "standoff": 15
           },
           "zerolinecolor": "#EBF0F8",
           "zerolinewidth": 2
          },
          "yaxis": {
           "automargin": true,
           "gridcolor": "#EBF0F8",
           "linecolor": "#EBF0F8",
           "ticks": "",
           "title": {
            "standoff": 15
           },
           "zerolinecolor": "#EBF0F8",
           "zerolinewidth": 2
          }
         }
        },
        "title": {
         "text": "Average demand by hour of day"
        },
        "xaxis": {
         "anchor": "y",
         "domain": [
          0,
          1
         ],
         "title": {
          "text": "Hour of day (UTC)"
         }
        },
        "yaxis": {
         "anchor": "x",
         "domain": [
          0,
          1
         ],
         "title": {
          "text": "Demand (kW)"
         }
        }
       }
      }
     },
     "metadata": {},
     "output_type": "display_data"
    }
   ],
   "source": [
    "\n",
    "hour_profile = df['Demand'].groupby(df.index.hour).mean()\n",
    "hour_profile.index.name = 'hour'\n",
    "hour_profile = hour_profile.reset_index()\n",
    "fig, ax = plt.subplots(figsize=(6, 4))\n",
    "ax.plot(hour_profile['hour'], hour_profile['Demand'], color=COLORS['demand'], linewidth=1.8)\n",
    "ax.set_title('Average demand by hour of day')\n",
    "ax.set_xlabel('Hour of day (UTC)')\n",
    "ax.set_ylabel('Demand (kW)')\n",
    "fig.tight_layout()\n",
    "save_figure(fig, 'task5_fig_demand_hour')\n",
    "plt.close(fig)\n",
    "\n",
    "fig_px = px.line(hour_profile, x='hour', y='Demand', labels={'hour': 'Hour of day (UTC)', 'Demand': 'Demand (kW)'},\n",
    "                 title='Average demand by hour of day')\n",
    "save_interactive(fig_px, 'task5_fig_demand_hour_interactive')\n",
    "fig_px\n"
   ]
  },
  {
   "cell_type": "markdown",
   "id": "6c67e6a7",
   "metadata": {},
   "source": [
    "### Figure 3 – Demand vs shortwave radiation"
   ]
  },
  {
   "cell_type": "code",
   "execution_count": 6,
   "id": "9131c62c",
   "metadata": {},
   "outputs": [
    {
     "data": {
      "application/vnd.plotly.v1+json": {
       "config": {
        "plotlyServerURL": "https://plot.ly"
       },
       "data": [
        {
         "hovertemplate": "Shortwave radiation (W/m²)=%{x}<br>Demand (kW)=%{y}<extra></extra>",
         "legendgroup": "",
         "marker": {
          "color": "#2ca02c",
          "opacity": 0.6,
          "symbol": "circle"
         },
         "mode": "markers",
         "name": "",
         "showlegend": false,
         "type": "scattergl",
         "x": {
          "bdata": "AAAAAAAA+H8AAAAAAAAAAAAAAAAAAPh/AAAAAAAA+H8AAAAAAAD4fwAAAAAAAPh/AAAAAAAA+H8AAAAAAAD4fwAAAAAAAPh/AAAAAAAAAAAAAAAAAAD4fwAAAAAAAPh/AAAAAAAA+H8AAAAAAAD4fwAAAAAAAPh/AAAAAAAAAAAAAAAAAAD4fwAAAAAAAPh/AAAAAAAA+H8AAAAAAAD4fwAAAAAAgEFAAAAAAAAA+H8AAAAAAAAAAAAAAAAAAPh/AAAAAAAA+H8AAAAAAAD4fwAAAAAAAPh/AAAAAAAA+H8AAAAAAAAAAAAAAAAAcHZAAAAAAAAAAAAAAAAAAAAkQAAAAAAAADBAAAAAAAAAJkAAAAAAAAD4fwAAAAAAAPh/AAAAAAAA+H8AAAAAAAD4fwAAAAAAAPh/AAAAAAAA+H8AAAAAAAD4fwAAAAAAAAAAAAAAAAAA+H8AAAAAAAD4fwAAAAAAAPh/AAAAAAAA+H8AAAAAAAAAAAAAAAAAAPh/AAAAAAAA+H8AAAAAAAD4fwAAAAAAsHBAAAAAAAAA+H8AAAAAAAD4fwAAAAAAAPh/AAAAAAAA+H8AAAAAAAD4fwAAAAAAAPh/AAAAAAAA+H8AAAAAAAD4fwAAAAAAAPh/AAAAAAAA+H8AAAAAAAD4fwAAAAAAAPh/AAAAAAAA+H8AAAAAAAD4fwAAAAAAAPh/AAAAAAAA+H8AAAAAAAD4fwAAAAAAAAAAAAAAAAAA+H8AAAAAAADwPwAAAAAAAPh/AAAAAAAA+H8AAAAAAAD4fwAAAAAAAPh/AAAAAAAA+H8AAAAAAAD4fwAAAAAAAPh/AAAAAAAA+H8AAAAAAAD4fwAAAAAAAPh/AAAAAAAA+H8AAAAAAAAAAAAAAAAAAAAAAAAAAAAA+H8AAAAAAAD4fwAAAAAAAPh/AAAAAAAA+H8AAAAAAAD4fwAAAAAAAPh/AAAAAAAA+H8AAAAAAAD4fwAAAAAAAPh/AAAAAAAA+H8AAAAAAIBxQAAAAAAAAPh/AAAAAAAAAAAAAAAAAAD4fwAAAAAAAPh/AAAAAAAAAAAAAAAAAAD4fwAAAAAAAPh/AAAAAAAA+H8AAAAAAAD4fwAAAAAAAPh/AAAAAAAAAAAAAAAAAAD4fwAAAAAAAPh/AAAAAAAA+H8AAAAAAAAAAAAAAAAAAPh/AAAAAAAA+H8AAAAAAAAAAAAAAAAAAPh/AAAAAAAA+H8AAAAAAAD4fwAAAAAAAPh/AAAAAAAA+H8AAAAAAAD4fwAAAAAAAPh/AAAAAAAAAAAAAAAAAAD4fwAAAAAAAPh/AAAAAAAAAAAAAAAAAAAAAAAAAAAAAAAAAAAAAAAAPkAAAAAAAAD4fwAAAAAAAPh/AAAAAAAAAAAAAAAAAAD4fwAAAAAAAPh/AAAAAAAAAAAAAAAAAAD4fwAAAAAAEHBAAAAAAAAA+H8AAAAAAAD4fwAAAAAAAPh/AAAAAAAA+H8AAAAAAAD4fwAAAAAAAPh/AAAAAAAA+H8AAAAAAAD4fwAAAAAAAPh/AAAAAAAAAAAAAAAAAAD4fwAAAAAAAPh/AAAAAAAA+H8AAAAAAAD4fwAAAAAAAPh/AAAAAAAAAAAAAAAAAAD4fwAAAAAAAPh/AAAAAAAA+H8AAAAAAAD4fwAAAAAAAPh/AAAAAAAA+H8AAAAAAMBRQAAAAAAAAFtAAAAAAADgdEAAAAAAAAD4fwAAAAAAAAAAAAAAAAAA+H8AAAAAAAD4fwAAAAAAAAAAAAAAAAAA+H8AAAAAAAD4fwAAAAAAAPh/AAAAAAAAAAAAAAAAAAD4fwAAAAAAAPh/AAAAAAAA+H8AAAAAAAD4fwAAAAAAAPh/AAAAAAAA+H8AAAAAAAAAAAAAAAAAAPh/AAAAAAAA+H8AAAAAAAD4fwAAAAAAAPh/AAAAAAAAAAAAAAAAAAD4fwAAAAAAAPh/AAAAAAAA+H8AAAAAAAAsQAAAAAAAAPh/AAAAAAAA+H8AAAAAAAD4fwAAAAAAAPh/AAAAAAAA+H8AAAAAANBxQAAAAAAAAPh/AAAAAAAA+H8AAAAAAAD4fwAAAAAAAPh/AAAAAAAAAAAAAAAAAAD4fwAAAAAAAPh/AAAAAAAA+H8AAAAAAAD4fwAAAAAAAAAAAAAAAAAA+H8AAAAAAAD4fwAAAAAAAPh/AAAAAAAA+H8AAAAAAAD4fwAAAAAAAPh/AAAAAAAA+H8AAAAAAAD4fwAAAAAAAPh/AAAAAAAA+H8AAAAAAAD4fwAAAAAAAPh/AAAAAAAA+H8AAAAAAAD4fwAAAAAAAPh/AAAAAAAA+H8AAAAAAAD4fwAAAAAAAPh/AAAAAAAA+H8AAAAAAAD4fwAAAAAAAPh/AAAAAAAA+H8AAAAAAAD4fwAAAAAAAPh/AAAAAAAA+H8AAAAAAAAgQAAAAAAAAPh/AAAAAAAA+H8AAAAAAAD4fwAAAAAAAPh/AAAAAAAA+H8AAAAAAAD4fwAAAAAAAPh/AAAAAABAUUAAAAAAAAD4fwAAAAAAAPh/AAAAAAAA+H8AAAAAAAAAAAAAAAAAAPh/AAAAAAAA+H8AAAAAAAD4fwAAAAAAAPh/AAAAAADgZUAAAAAAAAD4fwAAAAAAAPh/AAAAAAAA+H8AAAAAAAD4fwAAAAAAAPh/AAAAAAAA+H8AAAAAAAD4fwAAAAAAAPh/AAAAAAAA+H8AAAAAAAD4fwAAAAAAYGtAAAAAAADwd0AAAAAAAAD4fwAAAAAAAPh/AAAAAAAA+H8AAAAAAAD4fwAAAAAAAPh/AAAAAAAA+H8AAAAAAAAAQAAAAAAAAFlAAAAAAACgeEAAAAAAAAD4fwAAAAAAAPh/AAAAAAAA+H8AAAAAAAD4fwAAAAAAAAAAAAAAAAAA+H8AAAAAAAD4fwAAAAAAwG9AAAAAAAAA+H8AAAAAAAD4fwAAAAAAAPh/AAAAAAAAAAAAAAAAAAD4fwAAAAAAAPh/AAAAAAAA+H8AAAAAAAD4fwAAAAAAAPh/AAAAAAAA+H8AAAAAAAD4fwAAAAAAAPh/AAAAAAAA+H8AAAAAAAD4fwAAAAAAAPh/AAAAAAAA+H8AAAAAAAD4fwAAAAAAAPh/AAAAAAAA+H8AAAAAAAD4fwAAAAAAAPh/AAAAAAAA+H8AAAAAAAD4fwAAAAAAAPh/AAAAAACwcEAAAAAAAAD4fwAAAAAAAAAAAAAAAAAA+H8AAAAAAAD4fwAAAAAAAPh/AAAAAAAA+H8AAAAAAAD4fwAAAAAAAPh/AAAAAAAAAAAAAAAAAAD4fwAAAAAAAPh/AAAAAAAA+H8AAAAAAAD4fwAAAAAAAPh/AAAAAAAAAAAAAAAAAAD4fwAAAAAAAPh/AAAAAAAA+H8AAAAAAAD4fwAAAAAAAAAAAAAAAAAgeEAAAAAAAAD4fwAAAAAAAPh/AAAAAAAA+H8AAAAAAAD4fwAAAAAAAPh/AAAAAAAA+H8AAAAAAAD4fwAAAAAAAPh/AAAAAAAA+H8AAAAAAAD4fwAAAAAAAPh/AAAAAAAA+H8AAAAAAICGQAAAAAAAAPh/AAAAAAAA+H8AAAAAAAD4fwAAAAAAAPh/AAAAAAAAQUAAAAAAAAD4fwAAAAAAAPh/AAAAAAAA+H8AAAAAAAD4fwAAAAAAAAAAAAAAAAAA+H8AAAAAAAAAAAAAAAAAAPh/AAAAAAAAAAAAAAAAAAAAAAAAAAAAAPh/AAAAAAAA+H8AAAAAAAD4fwAAAAAAAPh/AAAAAAAA+H8AAAAAAAD4fwAAAAAAAAAAAAAAAAAA+H8AAAAAAAD4fwAAAAAAAPh/AAAAAAAA+H8AAAAAAAD4fwAAAAAAAPh/AAAAAAAA+H8AAAAAAAD4fwAAAAAAAAAAAAAAAAAA+H8AAAAAAAD4fwAAAAAAAPh/AAAAAAAA+H8AAAAAAAD4fwAAAAAAAPh/AAAAAAAA+H8AAAAAAAD4fwAAAAAAAPh/AAAAAAAA+H8AAAAAAAD4fwAAAAAAAPh/AAAAAAAA+H8AAAAAAAD4fwAAAAAAAPh/AAAAAAAAAAAAAAAAAAD4fwAAAAAAAPh/AAAAAAAA+H8AAAAAAAD4fwAAAAAAAPh/AAAAAAAAAAAAAAAAAAD4fwAAAAAAAPh/AAAAAAAA+H8AAAAAAAAAAAAAAAAAAPh/AAAAAAAA8D8AAAAAAAD4fwAAAAAAAPh/AAAAAAAA+H8AAAAAAAD4fwAAAAAAAPh/AAAAAAAA+H8AAAAAAAD4fwAAAAAAAPh/AAAAAAAA+H8AAAAAAAD4fwAAAAAAADRAAAAAAAAA+H8AAAAAAAD4fwAAAAAAAPh/AAAAAAAA+H8AAAAAAAD4fwAAAAAAoG1AAAAAAAAAAAAAAAAAAAD4fwAAAAAAAPh/AAAAAAAA+H8AAAAAAAD4fwAAAAAAAPh/AAAAAAAA+H8AAAAAAAD4fwAAAAAAAAAAAAAAAAAA+H8AAAAAAAD4fwAAAAAAAPh/AAAAAAAA+H8AAAAAAAD4fwAAAAAAAPh/AAAAAAAA+H8AAAAAAAD4fwAAAAAAgHJAAAAAAAAAAAAAAAAAAAD4fwAAAAAAAPh/AAAAAAAA+H8AAAAAAAD4fwAAAAAAAPh/AAAAAAAAAAAAAAAAAAD4fwAAAAAAaIFAAAAAAAAA+H8AAAAAAAD4fwAAAAAAAPh/AAAAAAAA+H8AAAAAAAD4fwAAAAAAAPh/AAAAAAAA+H8AAAAAAAD4fwAAAAAAAPh/AAAAAAAA+H8AAAAAAAD4fwAAAAAAAPh/AAAAAAAA+H8AAAAAAAD4fwAAAAAAAPh/AAAAAAAA+H8AAAAAAAD4fwAAAAAAaIBAAAAAAAAA+H8AAAAAANB4QAAAAAAAAPh/AAAAAAAA+H8AAAAAAADwPwAAAAAAAPh/AAAAAAAA+H8AAAAAAAD4fwAAAAAAAAAAAAAAAAAA+H8AAAAAAAD4fwAAAAAAAPh/AAAAAAAA+H8AAAAAAAD4fwAAAAAAAPh/AAAAAAAA+H8AAAAAAAAAAAAAAAAAgE1AAAAAAAAA+H8AAAAAAAD4fwAAAAAAAPh/AAAAAAAAAAAAAAAAAAD4fwAAAAAAAPh/AAAAAAAA+H8AAAAAAAD4fwAAAAAAAPh/AAAAAAAA+H8AAAAAAIBRQAAAAAAAAPh/AAAAAAAA+H8AAAAAAAAAAAAAAAAAAPh/AAAAAABgbEAAAAAAAAD4fwAAAAAAAPh/AAAAAAAA+H8AAAAAAAD4fwAAAAAAAPh/AAAAAAAA+H8AAAAAAAD4fwAAAAAAAPh/AAAAAAAA+H8AAAAAAAD4fwAAAAAAAPh/AAAAAAAA+H8AAAAAAAD4fwAAAAAAAPh/AAAAAAAA+H8AAAAAAAD4fwAAAAAAAPh/AAAAAAAA+H8AAAAAAAD4fwAAAAAAAPh/AAAAAAAA+H8AAAAAAAD4fwAAAAAAAPh/AAAAAAAA+H8AAAAAAAD4fwAAAAAAAPh/AAAAAAAAAAAAAAAAAAD4fwAAAAAAMIFAAAAAAAAA+H8AAAAAAAD4fwAAAAAAAPh/AAAAAAAA+H8AAAAAAAD4fwAAAAAAAPh/AAAAAAAA+H8AAAAAAAD4fwAAAAAAAPh/AAAAAAAA+H8AAAAAAAD4fwAAAAAAcHdAAAAAAAAA+H8AAAAAAAD4fwAAAAAAAPh/AAAAAAAA+H8AAAAAAAD4fwAAAAAAAPh/AAAAAAAA+H8AAAAAAAD4fwAAAAAAAPh/AAAAAAAA+H8AAAAAAAD4fwAAAAAAAAAAAAAAAAAACEAAAAAAAAD4fwAAAAAAAPh/AAAAAAAA+H8AAAAAAAD4fwAAAAAAAAAAAAAAAAAA+H8AAAAAAAAAQAAAAAAAAPh/AAAAAAAAAAAAAAAAAAD4fwAAAAAAAAAAAAAAAAAA+H8AAAAAAAD4fwAAAAAAAPh/AAAAAAAA+H8AAAAAAAD4fwAAAAAAgHFAAAAAAAAA+H8AAAAAAAD4fwAAAAAAAPh/AAAAAACAWEAAAAAAAAD4fwAAAAAAAPh/AAAAAAAA+H8AAAAAAAD4fwAAAAAAAPh/AAAAAAAA+H8AAAAAAAD4fwAAAAAASIRAAAAAAAAA+H8AAAAAAAAAAAAAAAAAAAAAAAAAAAAA+H8AAAAAAABsQAAAAAAAAPh/AAAAAAAAAAAAAAAAALB/QAAAAAAAAPh/AAAAAAAA+H8AAAAAAAD4fwAAAAAAwFRAAAAAAAAA+H8AAAAAAAD4fwAAAAAAAPh/AAAAAAAA+H8AAAAAAAAAAAAAAAAAAPh/AAAAAAAA+H8AAAAAAAD4fwAAAAAAAPh/AAAAAAAA+H8AAAAAAAD4fwAAAAAAAPh/AAAAAAAA+H8AAAAAAAD4fwAAAAAAAPh/AAAAAAAA+H8AAAAAAAD4fwAAAAAAAPh/AAAAAAAA+H8AAAAAAAD4fwAAAAAAAPh/AAAAAAAA+H8AAAAAAAD4fwAAAAAAAPh/AAAAAADwdkAAAAAAAPBzQAAAAAAAAPh/AAAAAAAA+H8AAAAAAAD4fwAAAAAAAPh/AAAAAAAA+H8AAAAAAAD4fwAAAAAAAPh/AAAAAAAA+H8AAAAAAAD4fwAAAAAAAPh/AAAAAAAA+H8AAAAAAAD4fwAAAAAAAPh/AAAAAAAA+H8AAAAAAAD4fwAAAAAAAPh/AAAAAAAA+H8AAAAAAAD4fwAAAAAAAPh/AAAAAAAAPkAAAAAAAAD4fwAAAAAAAPh/AAAAAAAA+H8AAAAAAAD4fwAAAAAA4HxAAAAAAAAA+H8AAAAAAAD4fwAAAAAAAPh/AAAAAAAA+H8AAAAAAAD4fwAAAAAAAPh/AAAAAAAA+H8AAAAAAAD4fwAAAAAAAAAAAAAAAAAA+H8AAAAAAHiDQAAAAAAAAPh/AAAAAAAA+H8AAAAAAAD4fwAAAAAAAPh/AAAAAAAA+H8AAAAAAAD4fwAAAAAAAPh/AAAAAAAA+H8AAAAAAAD4fwAAAAAAAPh/AAAAAADAhEAAAAAAAAD4fwAAAAAAAAAAAAAAAABAUEAAAAAAAAAAAAAAAAAAAAAAAAAAAAAA+H8AAAAAAAD4fwAAAAAAAPh/AAAAAAAA+H8AAAAAAECDQAAAAAAAAPh/AAAAAAAAMkAAAAAAAAD4fwAAAAAAAPh/AAAAAAAA+H8AAAAAAAD4fwAAAAAAAPh/AAAAAAAA+H8AAAAAAAD4fwAAAAAAAPh/AAAAAACgZEAAAAAAAAD4fwAAAAAAAPh/AAAAAAAA+H8AAAAAAAD4fwAAAAAAAPh/AAAAAAAA+H8AAAAAAAD4fwAAAAAAAPh/AAAAAAAA+H8AAAAAAAAxQAAAAAAAAPh/AAAAAAAgcUAAAAAAAAD4fwAAAAAAAPh/AAAAAAAA+H8AAAAAAAD4fwAAAAAAAPh/AAAAAAAA+H8AAAAAAAAAAAAAAAAAAPh/AAAAAAAA+H8AAAAAAAD4fwAAAAAAAPh/AAAAAAAA+H8AAAAAAAD4fwAAAAAAAPh/AAAAAAAA+H8AAAAAAAD4fwAAAAAAAPh/AAAAAAAA+H8AAAAAAAD4fwAAAAAAAPh/AAAAAAAA+H8AAAAAAAD4fwAAAAAAAPh/AAAAAAAA+H8AAAAAAAD4fwAAAAAAAPh/AAAAAAAA+H8AAAAAAAD4fwAAAAAAAPh/AAAAAAAA+H8AAAAAAAD4fwAAAAAAAFlAAAAAAAAA+H8AAAAAAAD4fwAAAAAAAPh/AAAAAAAA+H8AAAAAAAD4fwAAAAAAAPh/AAAAAAAAAAAAAAAAAAD4fwAAAAAAAPh/AAAAAAAgeEAAAAAAAAD4fwAAAAAAAPh/AAAAAAAA+H8AAAAAAAD4fwAAAAAAAPh/AAAAAAAA+H8AAAAAAMiBQAAAAAAAAAAAAAAAAAAA+H8AAAAAAAD4fwAAAAAAAAAAAAAAAAAA+H8AAAAAAMBbQAAAAAAAAAAAAAAAAAAAAAAAAAAAAAD4fwAAAAAAAPh/AAAAAAAAAAAAAAAAAAD4fwAAAAAAKIdAAAAAAAAA+H8AAAAAAAD4fwAAAAAAAPh/AAAAAAAA+H8AAAAAAAD4fwAAAAAAAPh/AAAAAAAACEAAAAAAAAD4fwAAAAAAAAAAAAAAAAAAQUAAAAAAAAD4fwAAAAAAAFJAAAAAAABAX0AAAAAAAAD4fwAAAAAAAPh/AAAAAAAA+H8AAAAAAABhQAAAAAAAAPh/AAAAAAAA+H8AAAAAAAD4fwAAAAAAAPh/AAAAAAAA+H8AAAAAAAD4fwAAAAAAAPh/AAAAAAAA+H8AAAAAAAD4fwAAAAAAAPh/AAAAAAAA+H8AAAAAAAAAAAAAAAAAAPh/AAAAAAAAAAAAAAAAAAD4fwAAAAAAAAAAAAAAAAAA+H8AAAAAAAAAAAAAAAAAgENAAAAAAAAA+H8AAAAAAAD4fwAAAAAAAPh/AAAAAAAA+H8AAAAAAACCQAAAAAAAAAAAAAAAAAAA+H8AAAAAAAD4fwAAAAAAAPh/AAAAAAAA+H8AAAAAAAD4fwAAAAAAAPh/AAAAAAAAAAAAAAAAAAD4fwAAAAAAAPh/AAAAAAAASkAAAAAAAAD4fwAAAAAAAPh/AAAAAAAA+H8AAAAAAAD4fwAAAAAAAPh/AAAAAAAgckAAAAAAAABpQAAAAAAAAPh/AAAAAAAAS0AAAAAAAAD4fwAAAAAAAAAAAAAAAAAA+H8AAAAAAAD4fwAAAAAAAChAAAAAAAAAPEAAAAAAAAD4fwAAAAAA0HJAAAAAAAAA+H8AAAAAAAD4fwAAAAAAAAAAAAAAAAAA+H8AAAAAAIBNQAAAAAAAAPh/AAAAAACAaUAAAAAAAEBRQAAAAAAAAPh/AAAAAAAA+H8AAAAAAAD4fwAAAAAAAPh/AAAAAAAA+H8AAAAAAAAAAAAAAAAAAPh/AAAAAAAA+H8AAAAAAAD4fwAAAAAAAPh/AAAAAAAAAAAAAAAAAAD4fwAAAAAAAPh/AAAAAAAA+H8AAAAAAAD4fwAAAAAAAPh/AAAAAAAA+H8AAAAAABB8QAAAAAAAAPh/AAAAAABohEAAAAAAAAD4fwAAAAAAAPh/AAAAAAAA+H8AAAAAAAD4fwAAAAAAAPh/AAAAAAAA+H8AAAAAAAAAAAAAAAAAAPh/AAAAAADgZEAAAAAAAAD4fwAAAAAAAPh/AAAAAAAA+H8AAAAAAAD4fwAAAAAAAPh/AAAAAAAA+H8AAAAAAAD4fwAAAAAAAPh/AAAAAAAA+H8AAAAAAAD4fwAAAAAAAPh/AAAAAAAA+H8AAAAAAAD4fwAAAAAAAPh/AAAAAAAA+H8AAAAAAAAAAAAAAAAAAPh/AAAAAAAA+H8AAAAAAAD4fwAAAAAAAPh/AAAAAAAA+H8AAAAAAAAAAAAAAAAAAPh/AAAAAAAA+H8AAAAAAAD4fwAAAAAAcHBAAAAAAAAA+H8AAAAAAAD4fwAAAAAAAAhAAAAAAAAA+H8AAAAAAAD4fwAAAAAAAPh/AAAAAAAA+H8AAAAAAAD4fwAAAAAAAPh/AAAAAAAA+H8AAAAAAAD4fwAAAAAAAPh/AAAAAAAA+H8AAAAAAAD4fwAAAAAAAPh/AAAAAAAA+H8AAAAAAAD4fwAAAAAAgEJAAAAAAAAA+H8AAAAAAABjQAAAAAAAAPh/AAAAAABgakAAAAAAAAD4fwAAAAAAAFZAAAAAAAAA+H8AAAAAAAD4fwAAAAAAAPh/AAAAAAAA+H8AAAAAAAD4fwAAAAAAABRAAAAAAABwfUAAAAAAAAAAAAAAAAAAAPh/AAAAAAAA+H8AAAAAAAD4fwAAAAAAAPh/AAAAAACASkAAAAAAAAD4fwAAAAAAAPh/AAAAAAAAAAAAAAAAAAD4fwAAAAAAAPh/AAAAAAAA+H8AAAAAAAD4fwAAAAAAAPh/AAAAAAAA+H8AAAAAAAD4fwAAAAAAAPh/AAAAAAAA+H8AAAAAAAD4fwAAAAAAAPh/AAAAAAAA+H8AAAAAAAD4fwAAAAAAAPh/AAAAAAAA+H8AAAAAAAD4fwAAAAAAAPh/AAAAAAAA+H8AAAAAAAD4fwAAAAAAAPh/AAAAAAAA+H8AAAAAAAD4fwAAAAAAQG1AAAAAAAAA+H8AAAAAAAD4fwAAAAAAAPh/AAAAAAAA+H8AAAAAAAD4fwAAAAAAAPh/AAAAAAAA+H8AAAAAAAD4fwAAAAAAAPh/AAAAAAAA+H8AAAAAAAD4fwAAAAAAAPh/AAAAAAAA+H8AAAAAAAD4fwAAAAAAAPh/AAAAAAAA+H8AAAAAAAAAAAAAAAAAAPh/AAAAAAAA+H8AAAAAAAAAAAAAAAAAABhAAAAAAAAA+H8AAAAAAAD4fwAAAAAAAPh/AAAAAAAA+H8AAAAAAAD4fwAAAAAAAPh/AAAAAAAA+H8AAAAAAAD4fwAAAAAAAPh/AAAAAAAA+H8AAAAAAAD4fwAAAAAAAPh/AAAAAAAA+H8AAAAAAAD4fwAAAAAAAAAAAAAAAAAAAAAAAAAAAAD4fwAAAAAAAPh/AAAAAAAAAAAAAAAAAAD4fwAAAAAAAPh/AAAAAAAA+H8AAAAAAAD4fwAAAAAAAPh/AAAAAAAAAAAAAAAAAAAAAAAAAAAAAPh/AAAAAAAA+H8AAAAAAAD4fwAAAAAAAPh/AAAAAAAA+H8AAAAAAAD4fwAAAAAAAPh/AAAAAAAA+H8AAAAAAAAAAAAAAAAAAPh/AAAAAAAA+H8AAAAAAAD4fwAAAAAAAPh/AAAAAAAA+H8AAAAAAAD4fwAAAAAAAPh/AAAAAAAA+H8AAAAAAAD4fwAAAAAAAPh/AAAAAAAA+H8AAAAAAAD4fwAAAAAAAPh/AAAAAAAA+H8AAAAAAAD4fwAAAAAAAPh/AAAAAAAA+H8AAAAAAAD4fwAAAAAAAPh/AAAAAAAA+H8AAAAAAAD4fwAAAAAAAPh/AAAAAAAA+H8AAAAAAAD4fwAAAAAAACpAAAAAAAAA+H8AAAAAAAD4fwAAAAAAAPh/AAAAAAAA+H8AAAAAAAD4fwAAAAAAAPh/AAAAAAAA+H8AAAAAAAD4fwAAAAAAAPh/AAAAAACgaEAAAAAAAAAyQAAAAAAAAPh/AAAAAAAA+H8AAAAAAAD4fwAAAAAAAAAAAAAAAAAA+H8AAAAAAAD4fwAAAAAAAPh/AAAAAAAA+H8AAAAAAAD4fwAAAAAAAPh/AAAAAAAA+H8AAAAAAAD4fwAAAAAAAPh/AAAAAAAA+H8AAAAAAIBwQAAAAAAAAPh/AAAAAAAA+H8AAAAAAAD4fwAAAAAAAPh/AAAAAABQckAAAAAAAAD4fwAAAAAAAPh/AAAAAAAA+H8AAAAAAAD4fwAAAAAAAAAAAAAAAAAA+H8AAAAAAAD4fwAAAAAAAPh/AAAAAAAA+H8AAAAAAAD4fwAAAAAAAPh/AAAAAACQfUAAAAAAAAAAAAAAAAAAAPh/AAAAAAAA+H8AAAAAALiFQAAAAAAAAPh/AAAAAABAUUAAAAAAAAD4fwAAAAAAAPh/AAAAAAAA+H8AAAAAAAAAAAAAAAAAAPh/AAAAAAAAAAAAAAAAAAD4fwAAAAAAAEpAAAAAAAAA+H8AAAAAAAD4fwAAAAAAgEJAAAAAAAAA+H8AAAAAAAD4fwAAAAAAAPh/AAAAAAAA+H8AAAAAAAD4fwAAAAAAAPh/AAAAAAAA+H8AAAAAAAD4fwAAAAAAAPh/AAAAAAAA+H8AAAAAAAD4fwAAAAAAAPh/AAAAAAAA+H8AAAAAAAD4fwAAAAAAAPh/AAAAAAAA+H8AAAAAAAD4fwAAAAAAAPh/AAAAAAAA+H8AAAAAAAD4fwAAAAAAAPh/AAAAAAAAAAAAAAAAAAD4fwAAAAAAAAAAAAAAAAAA+H8AAAAAAAAAAAAAAAAAAPh/AAAAAAAA+H8AAAAAAAD4fwAAAAAAAPh/AAAAAAAA+H8AAAAAAAAAAAAAAAAAAPh/AAAAAAAA+H8AAAAAAAD4fwAAAAAAAPh/AAAAAAAA+H8AAAAAAAD4fwAAAAAAAAAAAAAAAAAA+H8AAAAAAAD4fwAAAAAAAPh/AAAAAAAAS0AAAAAAAAD4fwAAAAAAAAAAAAAAAAAA+H8AAAAAAAD4fwAAAAAAAPh/AAAAAAAA+H8AAAAAAAD4fwAAAAAAAPh/AAAAAAAA+H8AAAAAAAD4fwAAAAAAAAAAAAAAAAAA+H8AAAAAAAD4fwAAAAAAAPh/AAAAAAAA+H8AAAAAAAD4fwAAAAAAAPh/AAAAAAAA+H8AAAAAAAD4fwAAAAAAAPh/AAAAAAAA+H8AAAAAAAD4fwAAAAAAAPh/AAAAAAAA+H8AAAAAAAD4fwAAAAAAoGBAAAAAAAAA+H8AAAAAAABLQAAAAAAAUHlAAAAAAAAA+H8AAAAAAAD4fwAAAAAAAPh/AAAAAAAA+H8AAAAAAAD4fwAAAAAAAPh/AAAAAAAA+H8AAAAAAAD4fwAAAAAAAPh/AAAAAAAA+H8AAAAAAIBaQAAAAAAAAAAAAAAAAAAA+H8AAAAAAAD4fwAAAAAAAPh/AAAAAAAA+H8AAAAAAAD4fwAAAAAAAPh/AAAAAAAA+H8AAAAAAAD4fwAAAAAAAAAAAAAAAAAA+H8AAAAAAAD4fwAAAAAAAPh/AAAAAAAA+H8AAAAAAPB4QAAAAAAAAPh/AAAAAAAA+H8AAAAAAAD4fwAAAAAAAPh/AAAAAAAA+H8AAAAAAAD4fwAAAAAAAPh/AAAAAAAA+H8AAAAAAAAAAAAAAAAAAPh/AAAAAAAA+H8AAAAAAAD4fwAAAAAAAPh/AAAAAAAA+H8AAAAAAAD4fwAAAAAAAPh/AAAAAAAA+H8AAAAAAEBWQAAAAAAAAPh/AAAAAAAA+H8AAAAAAAD4fwAAAAAAAPh/AAAAAAAA+H8AAAAAAAD4fwAAAAAAAPh/AAAAAAAA+H8AAAAAAAD4fwAAAAAAAPh/AAAAAAAA+H8AAAAAAAD4fwAAAAAAAPh/AAAAAAAA+H8AAAAAAAAAAAAAAAAAAPh/AAAAAAAA+H8AAAAAAAD4fwAAAAAAAPh/AAAAAAAAAAAAAAAAAKB2QAAAAAAAAAAAAAAAAAAAAAAAAAAAAAD4fwAAAAAAAPh/AAAAAAAAAAAAAAAAAAD4fwAAAAAAAPh/AAAAAAAA+H8AAAAAAAD4fwAAAAAAAPh/AAAAAAAAAAAAAAAAABBwQAAAAAAAAPh/AAAAAAAA+H8AAAAAAAD4fwAAAAAAAPh/AAAAAAAA+H8AAAAAAAD4fwAAAAAAAPh/AAAAAAAA+H8AAAAAAAAAAAAAAAAAAPh/AAAAAAAA+H8AAAAAAAD4fwAAAAAAAPh/AAAAAAAA+H8AAAAAAAD4fwAAAAAAAPh/AAAAAAAAFEAAAAAAAAD4fwAAAAAAAAAAAAAAAAAA+H8AAAAAAAD4fwAAAAAAAPh/AAAAAAAA+H8AAAAAAAD4fwAAAAAAAPh/AAAAAAAA+H8AAAAAAAD4fwAAAAAAAPh/AAAAAAAA+H8AAAAAAAD4fwAAAAAAAPh/AAAAAAAA+H8AAAAAAABVQAAAAAAAAPh/AAAAAAAA+H8AAAAAAAD4fwAAAAAAAPh/AAAAAAAA+H8AAAAAAAD4fwAAAAAAAPh/AAAAAAAA+H8AAAAAAAD4fwAAAAAAAPh/AAAAAAAA+H8AAAAAAAD4fwAAAAAAAPh/AAAAAAAALEAAAAAAAAD4fwAAAAAAAPh/AAAAAAAA+H8AAAAAAAD4fwAAAAAAAAAAAAAAAAAA+H8AAAAAAAD4fwAAAAAAAPh/AAAAAAAA+H8AAAAAAPB0QAAAAAAAAPh/AAAAAAAA+H8AAAAAAAD4fwAAAAAAAPh/AAAAAAAA+H8AAAAAAAD4fwAAAAAAAAAAAAAAAAAA+H8AAAAAAAD4fwAAAAAAAAAAAAAAAAAA+H8AAAAAAAD4fwAAAAAAAPh/AAAAAAAA+H8AAAAAAAAAAAAAAAAAAPh/AAAAAAAA+H8AAAAAAAAAAAAAAAAAYHFAAAAAAAAA+H8AAAAAAAD4fwAAAAAAAPh/AAAAAAAA+H8AAAAAAAD4fwAAAAAAAE5AAAAAAAAA+H8AAAAAAAD4fwAAAAAAAPh/AAAAAAAA+H8AAAAAAAD4fwAAAAAAAPh/AAAAAAAAAAAAAAAAAAD4fwAAAAAAAPh/AAAAAAAA+H8AAAAAAAD4fwAAAAAAAPh/AAAAAAAA+H8AAAAAAAD4fwAAAAAAAPh/AAAAAAAA+H8AAAAAAAA7QAAAAAAAAPh/AAAAAADgg0AAAAAAAABiQAAAAAAAsH1AAAAAAAAA+H8AAAAAAAD4fwAAAAAAAPh/AAAAAAAA+H8AAAAAAAD4fwAAAAAAAPh/AAAAAAAA+H8AAAAAAAD4fwAAAAAAACRAAAAAAAAA+H8AAAAAAAD4fwAAAAAAAAAAAAAAAAAA+H8AAAAAAMBaQAAAAAAAAAAAAAAAAAAA+H8AAAAAAAD4fwAAAAAAMIBAAAAAAAAA+H8AAAAAAAD4fwAAAAAAAPh/AAAAAAAAFEAAAAAAAAD4fwAAAAAAAPh/AAAAAACAYEAAAAAAAAD4fwAAAAAAAPh/AAAAAABAUEAAAAAAAEB+QAAAAAAAAPh/AAAAAAAA+H8AAAAAAABCQAAAAAAAAAAAAAAAAAAA+H8AAAAAAAD4fwAAAAAAAPh/AAAAAAAA+H8AAAAAAAD4fwAAAAAAAPh/AAAAAAAA+H8AAAAAAAD4fwAAAAAAAAAAAAAAAAAA+H8AAAAAAAD4fwAAAAAAAPh/AAAAAAAA+H8AAAAAAAD4fwAAAAAAAPh/AAAAAAAA+H8AAAAAAKByQAAAAAAAAPh/AAAAAAAA+H8AAAAAAAD4fwAAAAAAAPh/AAAAAAAA+H8AAAAAAAD4fwAAAAAAAPh/AAAAAAAAAAAAAAAAAAD4fwAAAAAAAPh/AAAAAAAA+H8AAAAAAEByQAAAAAAAAPh/AAAAAAAA+H8AAAAAAAD4fwAAAAAAAPh/AAAAAAAA+H8AAAAAAAD4fwAAAAAAIGRAAAAAAAAA+H8AAAAAAAD4fwAAAAAAAPh/AAAAAAAA+H8AAAAAAAD4fwAAAAAAAPh/AAAAAAAA+H8AAAAAAAAAAAAAAAAAAPh/AAAAAAAA+H8AAAAAAAD4fwAAAAAAAPh/AAAAAAAA+H8AAAAAAAD4fwAAAAAAAPh/AAAAAAAA+H8AAAAAAAD4fwAAAAAAAPh/AAAAAAAA+H8AAAAAAAD4fwAAAAAAAPh/AAAAAAAA+H8AAAAAADB5QAAAAAAAAPh/AAAAAAAA+H8AAAAAAAD4fwAAAAAAAPh/AAAAAAAA+H8AAAAAAAD4fwAAAAAAAPh/AAAAAAAA+H8AAAAAAAD4fwAAAAAAAPh/AAAAAAAA+H8AAAAAAAD4fwAAAAAAcHxAAAAAAAAA+H8AAAAAAAD4fwAAAAAAACpAAAAAAAAAAAAAAAAAAAD4fwAAAAAAAPh/AAAAAAAA+H8AAAAAAAD4fwAAAAAAAPh/AAAAAAAA+H8AAAAAAAD4fwAAAAAAAPh/AAAAAAAA+H8AAAAAAKBsQAAAAAAAAPh/AAAAAAAA+H8AAAAAAAD4fwAAAAAAAPh/AAAAAAAA+H8AAAAAAAD4fwAAAAAAAAAAAAAAAABIhEAAAAAAAAD4fwAAAAAAAAAAAAAAAAAA+H8AAAAAAAD4fwAAAAAAAPh/AAAAAAAA+H8AAAAAAAD4fwAAAAAAAAhAAAAAAAAA+H8AAAAAAPB3QAAAAAAAAPh/AAAAAAAA+H8AAAAAAAAAAAAAAAAAAPh/AAAAAAAA+H8AAAAAAAAAAAAAAAAAAPh/AAAAAAAA+H8AAAAAAAD4fwAAAAAAAPh/AAAAAAAA+H8AAAAAAAB5QAAAAAAAAAAAAAAAAAAA+H8AAAAAAAD4fwAAAAAAAPh/AAAAAAAA+H8AAAAAAAD4fwAAAAAAAPh/AAAAAAAA+H8AAAAAAAD4fwAAAAAAAAAAAAAAAAAA+H8AAAAAAAAAAAAAAAAAAPh/AAAAAAAA+H8AAAAAAAAAAAAAAAAAAPh/AAAAAAAA+H8AAAAAAAD4fwAAAAAAgEpAAAAAAAAA+H8AAAAAAAD4fwAAAAAAAPh/AAAAAAAA+H8AAAAAAAD4fwAAAAAAAPh/AAAAAAAA+H8AAAAAAAD4fwAAAAAAAPh/AAAAAAAA+H8AAAAAAAAAAAAAAAAAAPh/AAAAAAAA+H8AAAAAAAAAAAAAAAAAAPh/AAAAAAAA+H8AAAAAAAD4fwAAAAAAAPh/AAAAAAAA+H8AAAAAAAD4fwAAAAAAAPh/AAAAAAAA+H8AAAAAAAD4fwAAAAAAAPh/AAAAAAAA+H8AAAAAAAD4fwAAAAAAAPh/AAAAAAAA+H8AAAAAAAD4fwAAAAAAoHxAAAAAAAAA+H8AAAAAAAD4fwAAAAAAAPh/AAAAAAAA+H8AAAAAAAD4fwAAAAAAAPh/AAAAAAAA+H8AAAAAAAD4fwAAAAAAAPh/AAAAAAAA+H8AAAAAAAD4fwAAAAAAAEFAAAAAAAAAAAAAAAAAAAD4fwAAAAAAAPh/AAAAAAAA+H8AAAAAAAD4fwAAAAAA8HxAAAAAAAAA+H8AAAAAAAD4fwAAAAAA0IJAAAAAAAAA+H8AAAAAAAAAAAAAAAAAAPh/AAAAAAAAAAAAAAAAAPB0QAAAAAAAAPh/AAAAAAAA+H8AAAAAAAD4fwAAAAAAAPh/AAAAAAAA+H8AAAAAAAD4fwAAAAAAAPh/AAAAAAAA+H8AAAAAAAD4fwAAAAAAAPh/AAAAAAAA+H8AAAAAAIBLQAAAAAAAAPh/AAAAAAAA+H8AAAAAAAD4fwAAAAAAAPh/AAAAAAAA+H8AAAAAAAAAAAAAAAAAAPh/AAAAAAAA+H8AAAAAAAD4fwAAAAAAAPh/AAAAAAAA+H8AAAAAAAD4fwAAAAAAAPh/AAAAAAAA+H8AAAAAAAD4fwAAAAAAAPh/AAAAAAAA+H8AAAAAAAD4fwAAAAAAAPh/AAAAAAAA+H8AAAAAAAD4fwAAAAAAAPh/AAAAAAAA+H8AAAAAAAD4fwAAAAAAAAAAAAAAAAAA+H8AAAAAAAD4fwAAAAAAAPh/AAAAAAAA+H8AAAAAAAD4fwAAAAAAAPh/AAAAAAAA+H8AAAAAAAD4fwAAAAAAAPh/AAAAAAAA+H8AAAAAAAD4fwAAAAAAAPh/AAAAAAAAAAAAAAAAAAD4fwAAAAAAAPh/AAAAAAAA+H8AAAAAAKB6QAAAAAAAAPh/AAAAAABgZUAAAAAAAAD4fwAAAAAAAPh/AAAAAAAA+H8AAAAAAAD4fwAAAAAAAPh/AAAAAABAUUAAAAAAAJB/QAAAAAAAAPh/AAAAAACAXUAAAAAAAAD4fwAAAAAAAPh/AAAAAAAA+H8AAAAAAAAAAAAAAAAAAPh/AAAAAAAA+H8AAAAAAAD4fwAAAAAAAPh/AAAAAAAA+H8AAAAAAAD4fwAAAAAAqIFAAAAAAAAA+H8AAAAAAAD4fwAAAAAAAPh/AAAAAAAA+H8AAAAAAAD4fwAAAAAAAPh/AAAAAAAA+H8AAAAAAAD4fwAAAAAAAPh/AAAAAAAAEEAAAAAAAAD4fwAAAAAAAPh/AAAAAAAA+H8AAAAAAAD4fwAAAAAAAPh/AAAAAAAA+H8AAAAAAAD4fwAAAAAAAPh/AAAAAAAA+H8AAAAAAAD4fwAAAAAAAPh/AAAAAAAAAAAAAAAAAAD4fwAAAAAAAAAAAAAAAAAA+H8AAAAAAAAAAAAAAAAAAPh/AAAAAAAA+H8AAAAAAAAAAAAAAAAAAPh/AAAAAAAA+H8AAAAAAAD4fwAAAAAAAPh/AAAAAAAA+H8AAAAAAABSQAAAAAAAAPh/AAAAAAAAAAAAAAAAAAA2QAAAAAAAAPh/AAAAAAAAAAAAAAAAAAD4fwAAAAAAEIBAAAAAAAAA+H8AAAAAAAD4fwAAAAAAAPh/AAAAAAAA+H8AAAAAAAAIQAAAAAAAAPh/AAAAAAAA+H8AAAAAAAD4fwAAAAAAAAAAAAAAAAAA+H8AAAAAAAD4fwAAAAAAAAAAAAAAAAAA+H8AAAAAAAD4fwAAAAAAAPh/AAAAAAAA+H8AAAAAABB1QAAAAAAAAPh/AAAAAAAA+H8AAAAAAAD4fwAAAAAAACJAAAAAAAAA+H8AAAAAAAD4fwAAAAAAAPh/AAAAAAAAAAAAAAAAAAD4fwAAAAAAAPh/AAAAAAAA+H8AAAAAAAD4fwAAAAAAAAAAAAAAAAAA+H8AAAAAAEiBQAAAAAAAAPh/AAAAAAAA+H8AAAAAAAD4fwAAAAAAAPh/AAAAAAAA+H8AAAAAAAD4fwAAAAAAQGVAAAAAAAAA+H8AAAAAAAD4fwAAAAAAAPh/AAAAAAAA+H8AAAAAAAD4fwAAAAAAAPh/AAAAAAAA+H8AAAAAAAD4fwAAAAAAAPh/AAAAAAAA+H8AAAAAAAD4fwAAAAAAgEhAAAAAAAAA+H8AAAAAAAD4fwAAAAAAAPh/AAAAAAAA+H8AAAAAAAD4fwAAAAAAAPh/AAAAAAAA+H8AAAAAAAD4fwAAAAAAAPh/AAAAAAAA+H8AAAAAAKBzQAAAAAAAAPh/AAAAAAAA+H8AAAAAAAD4fwAAAAAAAPh/AAAAAAAA+H8AAAAAAOBhQAAAAAAAAPh/AAAAAAAA+H8AAAAAAAA/QAAAAAAA0IRAAAAAAAAA+H8AAAAAAAD4fwAAAAAAAAAAAAAAAAAA+H8AAAAAAAAAAAAAAAAAAPh/AAAAAAAA+H8AAAAAAAD4fwAAAAAAAPh/AAAAAAAA+H8AAAAAAAD4fwAAAAAAAPh/AAAAAAAAAAAAAAAAAAD4fwAAAAAAAAAAAAAAAAAAAAAAAAAAAJB1QAAAAAAAAPh/AAAAAAAA+H8AAAAAAAD4fwAAAAAAAPh/AAAAAABAZEAAAAAAAABdQAAAAAAAAAAAAAAAAAAAAAAAAAAAAAD4fwAAAAAAAPh/AAAAAAAA+H8AAAAAAAD4fwAAAAAAAPh/AAAAAADAVEAAAAAAAAD4fwAAAAAAAPh/AAAAAAAA+H8AAAAAAAD4fwAAAAAAAAAAAAAAAAAA+H8AAAAAAAD4fwAAAAAAAPh/AAAAAAAA+H8AAAAAAAD4fwAAAAAAAPh/AAAAAAAA+H8AAAAAAAD4fwAAAAAAAPh/AAAAAAAA+H8AAAAAAAD4fwAAAAAAAPh/AAAAAAAA+H8AAAAAAAA4QAAAAAAAAPh/AAAAAAAA+H8AAAAAAKBjQAAAAAAAAPh/AAAAAAAA+H8AAAAAAAD4fwAAAAAAAPh/AAAAAAAAAAAAAAAAAAD4fwAAAAAAAPh/AAAAAAAA+H8AAAAAAAD4fwAAAAAAAPh/AAAAAAAA+H8AAAAAAAD4fwAAAAAAAPh/AAAAAAAALkAAAAAAAAAAAAAAAAAAAPh/AAAAAAAA+H8AAAAAAAD4fwAAAAAAAPh/AAAAAAAAAAAAAAAAAAD4fwAAAAAAAPh/AAAAAAAA+H8AAAAAAAD4fwAAAAAAAPh/AAAAAAAAAAAAAAAAAAD4fwAAAAAAAPh/AAAAAAAA+H8AAAAAAAD4fwAAAAAAAAAAAAAAAAAA+H8AAAAAAAAQQAAAAAAAAPh/AAAAAAAA+H8AAAAAAAD4fwAAAAAAAPh/AAAAAAAA+H8AAAAAAADwPwAAAAAAAPh/AAAAAAAA+H8AAAAAAAD4fwAAAAAAAPh/AAAAAAAA+H8AAAAAAAD4fwAAAAAAAPh/AAAAAAAA+H8AAAAAAAD4fwAAAAAAAPh/AAAAAAAA+H8AAAAAAAD4fwAAAAAAAPh/AAAAAAAA+H8AAAAAAAD4fwAAAAAAADhAAAAAAAAA+H8AAAAAAAD4fwAAAAAAAPh/AAAAAAAAAAAAAAAAAAD4fwAAAAAAAAAAAAAAAAAA+H8AAAAAAAD4fwAAAAAAAPh/AAAAAAAA+H8AAAAAAAD4fwAAAAAAAPh/AAAAAABIgEAAAAAAAAD4fwAAAAAAAPh/AAAAAADgaUAAAAAAAAD4fwAAAAAAAPh/AAAAAAAA+H8AAAAAAAD4fwAAAAAAAAAAAAAAAAAAAAAAAAAAAAD4fwAAAAAAAPh/AAAAAAAA+H8AAAAAAAD4fwAAAAAAAPh/AAAAAAAA+H8AAAAAAAD4fwAAAAAAAPh/AAAAAAAA+H8AAAAAAAD4fwAAAAAAAPh/AAAAAAAA+H8AAAAAAAD4fwAAAAAAABBAAAAAAAAA+H8AAAAAAAD4fwAAAAAAAPh/AAAAAAAA+H8AAAAAAAD4fwAAAAAAAPh/AAAAAAAA+H8AAAAAAAD4fwAAAAAAAPh/AAAAAAAA+H8AAAAAAPBwQAAAAAAAAPh/AAAAAAAA+H8AAAAAAAD4fwAAAAAAAPh/AAAAAAAA+H8AAAAAAAD4fwAAAAAAAPh/AAAAAAAA+H8AAAAAAAD4fwAAAAAAaIBAAAAAAAAA+H8AAAAAAAAAAAAAAAAAAPh/AAAAAAAA+H8AAAAAAAD4fwAAAAAAAPh/AAAAAAAA+H8AAAAAAAD4fwAAAAAAAAAAAAAAAAAA+H8AAAAAAAD4fwAAAAAAAPh/AAAAAAAA+H8AAAAAAAD4fwAAAAAAAPh/AAAAAAAA+H8AAAAAAAD4fwAAAAAAAPh/AAAAAAAA+H8AAAAAAAD4fwAAAAAAAPh/AAAAAAAA+H8AAAAAAAD4fwAAAAAAAPh/AAAAAAAA+H8AAAAAAAD4fwAAAAAAAPh/AAAAAAAA+H8AAAAAAAD4fwAAAAAAAPh/AAAAAAAA+H8AAAAAAAD4fwAAAAAAAPh/AAAAAAAYgUAAAAAAAAAAAAAAAAAAAPh/AAAAAAAA+H8AAAAAAADwPwAAAAAAAPh/AAAAAAAA+H8AAAAAAAD4fwAAAAAAAPh/AAAAAAAA+H8AAAAAAAD4fwAAAAAAIHZAAAAAAAAA+H8AAAAAAIBLQAAAAAAAAPh/AAAAAAAA+H8AAAAAAAD4fwAAAAAAAPh/AAAAAAAA+H8AAAAAAAD4fwAAAAAAAPh/AAAAAAAA+H8AAAAAAAAAAAAAAAAAAPh/AAAAAAAAAAAAAAAAAAD4fwAAAAAAAPh/AAAAAAAA+H8AAAAAAAD4fwAAAAAAAPh/AAAAAAAA+H8AAAAAAAD4fwAAAAAAAPh/AAAAAAAA+H8AAAAAAAD4fwAAAAAAAPh/AAAAAAAA+H8AAAAAAAD4fwAAAAAAAPh/AAAAAAAA+H8AAAAAAAD4fwAAAAAAAPh/AAAAAAAA+H8AAAAAAAD4fwAAAAAAAPh/AAAAAAAA+H8AAAAAAAD4fwAAAAAAAAAAAAAAAAAA+H8AAAAAAAD4fw==",
          "dtype": "f8"
         },
         "xaxis": "x",
         "y": {
          "bdata": "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",
          "dtype": "f8"
         },
         "yaxis": "y"
        }
       ],
       "layout": {
        "legend": {
         "tracegroupgap": 0
        },
        "template": {
         "data": {
          "bar": [
           {
            "error_x": {
             "color": "#2a3f5f"
            },
            "error_y": {
             "color": "#2a3f5f"
            },
            "marker": {
             "line": {
              "color": "white",
              "width": 0.5
             },
             "pattern": {
              "fillmode": "overlay",
              "size": 10,
              "solidity": 0.2
             }
            },
            "type": "bar"
           }
          ],
          "barpolar": [
           {
            "marker": {
             "line": {
              "color": "white",
              "width": 0.5
             },
             "pattern": {
              "fillmode": "overlay",
              "size": 10,
              "solidity": 0.2
             }
            },
            "type": "barpolar"
           }
          ],
          "carpet": [
           {
            "aaxis": {
             "endlinecolor": "#2a3f5f",
             "gridcolor": "#C8D4E3",
             "linecolor": "#C8D4E3",
             "minorgridcolor": "#C8D4E3",
             "startlinecolor": "#2a3f5f"
            },
            "baxis": {
             "endlinecolor": "#2a3f5f",
             "gridcolor": "#C8D4E3",
             "linecolor": "#C8D4E3",
             "minorgridcolor": "#C8D4E3",
             "startlinecolor": "#2a3f5f"
            },
            "type": "carpet"
           }
          ],
          "choropleth": [
           {
            "colorbar": {
             "outlinewidth": 0,
             "ticks": ""
            },
            "type": "choropleth"
           }
          ],
          "contour": [
           {
            "colorbar": {
             "outlinewidth": 0,
             "ticks": ""
            },
            "colorscale": [
             [
              0,
              "#0d0887"
             ],
             [
              0.1111111111111111,
              "#46039f"
             ],
             [
              0.2222222222222222,
              "#7201a8"
             ],
             [
              0.3333333333333333,
              "#9c179e"
             ],
             [
              0.4444444444444444,
              "#bd3786"
             ],
             [
              0.5555555555555556,
              "#d8576b"
             ],
             [
              0.6666666666666666,
              "#ed7953"
             ],
             [
              0.7777777777777778,
              "#fb9f3a"
             ],
             [
              0.8888888888888888,
              "#fdca26"
             ],
             [
              1,
              "#f0f921"
             ]
            ],
            "type": "contour"
           }
          ],
          "contourcarpet": [
           {
            "colorbar": {
             "outlinewidth": 0,
             "ticks": ""
            },
            "type": "contourcarpet"
           }
          ],
          "heatmap": [
           {
            "colorbar": {
             "outlinewidth": 0,
             "ticks": ""
            },
            "colorscale": [
             [
              0,
              "#0d0887"
             ],
             [
              0.1111111111111111,
              "#46039f"
             ],
             [
              0.2222222222222222,
              "#7201a8"
             ],
             [
              0.3333333333333333,
              "#9c179e"
             ],
             [
              0.4444444444444444,
              "#bd3786"
             ],
             [
              0.5555555555555556,
              "#d8576b"
             ],
             [
              0.6666666666666666,
              "#ed7953"
             ],
             [
              0.7777777777777778,
              "#fb9f3a"
             ],
             [
              0.8888888888888888,
              "#fdca26"
             ],
             [
              1,
              "#f0f921"
             ]
            ],
            "type": "heatmap"
           }
          ],
          "histogram": [
           {
            "marker": {
             "pattern": {
              "fillmode": "overlay",
              "size": 10,
              "solidity": 0.2
             }
            },
            "type": "histogram"
           }
          ],
          "histogram2d": [
           {
            "colorbar": {
             "outlinewidth": 0,
             "ticks": ""
            },
            "colorscale": [
             [
              0,
              "#0d0887"
             ],
             [
              0.1111111111111111,
              "#46039f"
             ],
             [
              0.2222222222222222,
              "#7201a8"
             ],
             [
              0.3333333333333333,
              "#9c179e"
             ],
             [
              0.4444444444444444,
              "#bd3786"
             ],
             [
              0.5555555555555556,
              "#d8576b"
             ],
             [
              0.6666666666666666,
              "#ed7953"
             ],
             [
              0.7777777777777778,
              "#fb9f3a"
             ],
             [
              0.8888888888888888,
              "#fdca26"
             ],
             [
              1,
              "#f0f921"
             ]
            ],
            "type": "histogram2d"
           }
          ],
          "histogram2dcontour": [
           {
            "colorbar": {
             "outlinewidth": 0,
             "ticks": ""
            },
            "colorscale": [
             [
              0,
              "#0d0887"
             ],
             [
              0.1111111111111111,
              "#46039f"
             ],
             [
              0.2222222222222222,
              "#7201a8"
             ],
             [
              0.3333333333333333,
              "#9c179e"
             ],
             [
              0.4444444444444444,
              "#bd3786"
             ],
             [
              0.5555555555555556,
              "#d8576b"
             ],
             [
              0.6666666666666666,
              "#ed7953"
             ],
             [
              0.7777777777777778,
              "#fb9f3a"
             ],
             [
              0.8888888888888888,
              "#fdca26"
             ],
             [
              1,
              "#f0f921"
             ]
            ],
            "type": "histogram2dcontour"
           }
          ],
          "mesh3d": [
           {
            "colorbar": {
             "outlinewidth": 0,
             "ticks": ""
            },
            "type": "mesh3d"
           }
          ],
          "parcoords": [
           {
            "line": {
             "colorbar": {
              "outlinewidth": 0,
              "ticks": ""
             }
            },
            "type": "parcoords"
           }
          ],
          "pie": [
           {
            "automargin": true,
            "type": "pie"
           }
          ],
          "scatter": [
           {
            "fillpattern": {
             "fillmode": "overlay",
             "size": 10,
             "solidity": 0.2
            },
            "type": "scatter"
           }
          ],
          "scatter3d": [
           {
            "line": {
             "colorbar": {
              "outlinewidth": 0,
              "ticks": ""
             }
            },
            "marker": {
             "colorbar": {
              "outlinewidth": 0,
              "ticks": ""
             }
            },
            "type": "scatter3d"
           }
          ],
          "scattercarpet": [
           {
            "marker": {
             "colorbar": {
              "outlinewidth": 0,
              "ticks": ""
             }
            },
            "type": "scattercarpet"
           }
          ],
          "scattergeo": [
           {
            "marker": {
             "colorbar": {
              "outlinewidth": 0,
              "ticks": ""
             }
            },
            "type": "scattergeo"
           }
          ],
          "scattergl": [
           {
            "marker": {
             "colorbar": {
              "outlinewidth": 0,
              "ticks": ""
             }
            },
            "type": "scattergl"
           }
          ],
          "scattermap": [
           {
            "marker": {
             "colorbar": {
              "outlinewidth": 0,
              "ticks": ""
             }
            },
            "type": "scattermap"
           }
          ],
          "scattermapbox": [
           {
            "marker": {
             "colorbar": {
              "outlinewidth": 0,
              "ticks": ""
             }
            },
            "type": "scattermapbox"
           }
          ],
          "scatterpolar": [
           {
            "marker": {
             "colorbar": {
              "outlinewidth": 0,
              "ticks": ""
             }
            },
            "type": "scatterpolar"
           }
          ],
          "scatterpolargl": [
           {
            "marker": {
             "colorbar": {
              "outlinewidth": 0,
              "ticks": ""
             }
            },
            "type": "scatterpolargl"
           }
          ],
          "scatterternary": [
           {
            "marker": {
             "colorbar": {
              "outlinewidth": 0,
              "ticks": ""
             }
            },
            "type": "scatterternary"
           }
          ],
          "surface": [
           {
            "colorbar": {
             "outlinewidth": 0,
             "ticks": ""
            },
            "colorscale": [
             [
              0,
              "#0d0887"
             ],
             [
              0.1111111111111111,
              "#46039f"
             ],
             [
              0.2222222222222222,
              "#7201a8"
             ],
             [
              0.3333333333333333,
              "#9c179e"
             ],
             [
              0.4444444444444444,
              "#bd3786"
             ],
             [
              0.5555555555555556,
              "#d8576b"
             ],
             [
              0.6666666666666666,
              "#ed7953"
             ],
             [
              0.7777777777777778,
              "#fb9f3a"
             ],
             [
              0.8888888888888888,
              "#fdca26"
             ],
             [
              1,
              "#f0f921"
             ]
            ],
            "type": "surface"
           }
          ],
          "table": [
           {
            "cells": {
             "fill": {
              "color": "#EBF0F8"
             },
             "line": {
              "color": "white"
             }
            },
            "header": {
             "fill": {
              "color": "#C8D4E3"
             },
             "line": {
              "color": "white"
             }
            },
            "type": "table"
           }
          ]
         },
         "layout": {
          "annotationdefaults": {
           "arrowcolor": "#2a3f5f",
           "arrowhead": 0,
           "arrowwidth": 1
          },
          "autotypenumbers": "strict",
          "coloraxis": {
           "colorbar": {
            "outlinewidth": 0,
            "ticks": ""
           }
          },
          "colorscale": {
           "diverging": [
            [
             0,
             "#8e0152"
            ],
            [
             0.1,
             "#c51b7d"
            ],
            [
             0.2,
             "#de77ae"
            ],
            [
             0.3,
             "#f1b6da"
            ],
            [
             0.4,
             "#fde0ef"
            ],
            [
             0.5,
             "#f7f7f7"
            ],
            [
             0.6,
             "#e6f5d0"
            ],
            [
             0.7,
             "#b8e186"
            ],
            [
             0.8,
             "#7fbc41"
            ],
            [
             0.9,
             "#4d9221"
            ],
            [
             1,
             "#276419"
            ]
           ],
           "sequential": [
            [
             0,
             "#0d0887"
            ],
            [
             0.1111111111111111,
             "#46039f"
            ],
            [
             0.2222222222222222,
             "#7201a8"
            ],
            [
             0.3333333333333333,
             "#9c179e"
            ],
            [
             0.4444444444444444,
             "#bd3786"
            ],
            [
             0.5555555555555556,
             "#d8576b"
            ],
            [
             0.6666666666666666,
             "#ed7953"
            ],
            [
             0.7777777777777778,
             "#fb9f3a"
            ],
            [
             0.8888888888888888,
             "#fdca26"
            ],
            [
             1,
             "#f0f921"
            ]
           ],
           "sequentialminus": [
            [
             0,
             "#0d0887"
            ],
            [
             0.1111111111111111,
             "#46039f"
            ],
            [
             0.2222222222222222,
             "#7201a8"
            ],
            [
             0.3333333333333333,
             "#9c179e"
            ],
            [
             0.4444444444444444,
             "#bd3786"
            ],
            [
             0.5555555555555556,
             "#d8576b"
            ],
            [
             0.6666666666666666,
             "#ed7953"
            ],
            [
             0.7777777777777778,
             "#fb9f3a"
            ],
            [
             0.8888888888888888,
             "#fdca26"
            ],
            [
             1,
             "#f0f921"
            ]
           ]
          },
          "colorway": [
           "#636efa",
           "#EF553B",
           "#00cc96",
           "#ab63fa",
           "#FFA15A",
           "#19d3f3",
           "#FF6692",
           "#B6E880",
           "#FF97FF",
           "#FECB52"
          ],
          "font": {
           "color": "#2a3f5f"
          },
          "geo": {
           "bgcolor": "white",
           "lakecolor": "white",
           "landcolor": "white",
           "showlakes": true,
           "showland": true,
           "subunitcolor": "#C8D4E3"
          },
          "hoverlabel": {
           "align": "left"
          },
          "hovermode": "closest",
          "mapbox": {
           "style": "light"
          },
          "paper_bgcolor": "white",
          "plot_bgcolor": "white",
          "polar": {
           "angularaxis": {
            "gridcolor": "#EBF0F8",
            "linecolor": "#EBF0F8",
            "ticks": ""
           },
           "bgcolor": "white",
           "radialaxis": {
            "gridcolor": "#EBF0F8",
            "linecolor": "#EBF0F8",
            "ticks": ""
           }
          },
          "scene": {
           "xaxis": {
            "backgroundcolor": "white",
            "gridcolor": "#DFE8F3",
            "gridwidth": 2,
            "linecolor": "#EBF0F8",
            "showbackground": true,
            "ticks": "",
            "zerolinecolor": "#EBF0F8"
           },
           "yaxis": {
            "backgroundcolor": "white",
            "gridcolor": "#DFE8F3",
            "gridwidth": 2,
            "linecolor": "#EBF0F8",
            "showbackground": true,
            "ticks": "",
            "zerolinecolor": "#EBF0F8"
           },
           "zaxis": {
            "backgroundcolor": "white",
            "gridcolor": "#DFE8F3",
            "gridwidth": 2,
            "linecolor": "#EBF0F8",
            "showbackground": true,
            "ticks": "",
            "zerolinecolor": "#EBF0F8"
           }
          },
          "shapedefaults": {
           "line": {
            "color": "#2a3f5f"
           }
          },
          "ternary": {
           "aaxis": {
            "gridcolor": "#DFE8F3",
            "linecolor": "#A2B1C6",
            "ticks": ""
           },
           "baxis": {
            "gridcolor": "#DFE8F3",
            "linecolor": "#A2B1C6",
            "ticks": ""
           },
           "bgcolor": "white",
           "caxis": {
            "gridcolor": "#DFE8F3",
            "linecolor": "#A2B1C6",
            "ticks": ""
           }
          },
          "title": {
           "x": 0.05
          },
          "xaxis": {
           "automargin": true,
           "gridcolor": "#EBF0F8",
           "linecolor": "#EBF0F8",
           "ticks": "",
           "title": {
            "standoff": 15
           },
           "zerolinecolor": "#EBF0F8",
           "zerolinewidth": 2
          },
          "yaxis": {
           "automargin": true,
           "gridcolor": "#EBF0F8",
           "linecolor": "#EBF0F8",
           "ticks": "",
           "title": {
            "standoff": 15
           },
           "zerolinecolor": "#EBF0F8",
           "zerolinewidth": 2
          }
         }
        },
        "title": {
         "text": "Demand vs Shortwave radiation"
        },
        "xaxis": {
         "anchor": "y",
         "domain": [
          0,
          1
         ],
         "title": {
          "text": "Shortwave radiation (W/m²)"
         }
        },
        "yaxis": {
         "anchor": "x",
         "domain": [
          0,
          1
         ],
         "title": {
          "text": "Demand (kW)"
         }
        }
       }
      }
     },
     "metadata": {},
     "output_type": "display_data"
    }
   ],
   "source": [
    "\n",
    "irr_sample = subset.sample(2000, random_state=21)\n",
    "fig, ax = plt.subplots(figsize=(6, 4))\n",
    "sns.scatterplot(data=irr_sample, x='Shortwave_radiation (W/m²)', y='Demand', color=COLORS['irradiance'], alpha=0.6, ax=ax)\n",
    "ax.set_title('Demand vs Shortwave radiation')\n",
    "ax.set_xlabel('Shortwave radiation (W/m²)')\n",
    "ax.set_ylabel('Demand (kW)')\n",
    "fig.tight_layout()\n",
    "save_figure(fig, 'task5_fig_demand_vs_shortwave')\n",
    "plt.close(fig)\n",
    "\n",
    "fig_px = px.scatter(irr_sample, x='Shortwave_radiation (W/m²)', y='Demand', opacity=0.6,\n",
    "                    labels={'Shortwave_radiation (W/m²)': 'Shortwave radiation (W/m²)', 'Demand': 'Demand (kW)'},\n",
    "                    title='Demand vs Shortwave radiation')\n",
    "save_interactive(fig_px, 'task5_fig_demand_vs_shortwave_interactive')\n",
    "fig_px\n"
   ]
  },
  {
   "cell_type": "markdown",
   "id": "58827769",
   "metadata": {},
   "source": [
    "## Distribution analysis and transformations"
   ]
  },
  {
   "cell_type": "code",
   "execution_count": 7,
   "id": "36f5829b",
   "metadata": {},
   "outputs": [],
   "source": [
    "\n",
    "transformer = PowerTransformer(method='yeo-johnson', standardize=False)\n",
    "analysis_vars = ['Demand', 'Temperature', 'Shortwave_radiation (W/m²)']\n",
    "\n",
    "for var in analysis_vars:\n",
    "    series = subset[var].dropna()\n",
    "    sample = series.sample(min(5000, len(series)), random_state=42)\n",
    "    stat, pvalue = stats.shapiro(sample)\n",
    "\n",
    "    fig, axes = plt.subplots(1, 2, figsize=(10, 4))\n",
    "    sns.histplot(series, bins=50, color=COLORS['demand'] if var == 'Demand' else COLORS['temperature'], alpha=0.7, ax=axes[0])\n",
    "    axes[0].set_title(f'{var} histogram (p={pvalue:.3f})')\n",
    "    axes[0].set_xlabel(var)\n",
    "    axes[0].set_ylabel('Frequency')\n",
    "    stats.probplot(series, dist='norm', plot=axes[1])\n",
    "    axes[1].set_title(f'{var} Q-Q plot')\n",
    "    fig.tight_layout()\n",
    "    base = f'task5_fig_{var.replace(\" \", \"_\").replace(\"/\", \"_\")}_dist'\n",
    "    save_figure(fig, base)\n",
    "    plt.close(fig)\n",
    "\n",
    "    if pvalue < 0.05:\n",
    "        transformed = transformer.fit_transform(series.values.reshape(-1, 1)).flatten()\n",
    "        fig, axes = plt.subplots(1, 2, figsize=(10, 4))\n",
    "        sns.histplot(transformed, bins=50, color=COLORS['engineered'], alpha=0.7, ax=axes[0])\n",
    "        axes[0].set_title(f'{var} transformed histogram')\n",
    "        axes[0].set_xlabel(var)\n",
    "        axes[0].set_ylabel('Frequency')\n",
    "        stats.probplot(transformed, dist='norm', plot=axes[1])\n",
    "        axes[1].set_title(f'{var} transformed Q-Q plot')\n",
    "        fig.tight_layout()\n",
    "        base_t = f'task5_fig_{var.replace(\" \", \"_\").replace(\"/\", \"_\")}_transformed'\n",
    "        save_figure(fig, base_t)\n",
    "        plt.close(fig)\n"
   ]
  },
  {
   "cell_type": "markdown",
   "id": "9a6b8904",
   "metadata": {},
   "source": [
    "## Feature engineering"
   ]
  },
  {
   "cell_type": "code",
   "execution_count": 8,
   "id": "28c34d68",
   "metadata": {},
   "outputs": [
    {
     "data": {
      "text/html": [
       "<div>\n",
       "<style scoped>\n",
       "    .dataframe tbody tr th:only-of-type {\n",
       "        vertical-align: middle;\n",
       "    }\n",
       "\n",
       "    .dataframe tbody tr th {\n",
       "        vertical-align: top;\n",
       "    }\n",
       "\n",
       "    .dataframe thead th {\n",
       "        text-align: right;\n",
       "    }\n",
       "</style>\n",
       "<table border=\"1\" class=\"dataframe\">\n",
       "  <thead>\n",
       "    <tr style=\"text-align: right;\">\n",
       "      <th></th>\n",
       "      <th>Demand</th>\n",
       "      <th>hour_sin</th>\n",
       "      <th>hour_cos</th>\n",
       "      <th>is_weekend</th>\n",
       "      <th>cooling_degree</th>\n",
       "      <th>heating_degree</th>\n",
       "      <th>temp_irradiance_interaction</th>\n",
       "      <th>Temperature</th>\n",
       "      <th>Pressure (hPa)</th>\n",
       "      <th>Cloud_cover (%)</th>\n",
       "      <th>Wind_speed_10m (km/h)</th>\n",
       "      <th>Shortwave_radiation (W/m²)</th>\n",
       "      <th>direct_radiation (W/m²)</th>\n",
       "      <th>diffuse_radiation (W/m²)</th>\n",
       "      <th>direct_normal_irradiance (W/m²)</th>\n",
       "      <th>Price</th>\n",
       "    </tr>\n",
       "    <tr>\n",
       "      <th>timestamp</th>\n",
       "      <th></th>\n",
       "      <th></th>\n",
       "      <th></th>\n",
       "      <th></th>\n",
       "      <th></th>\n",
       "      <th></th>\n",
       "      <th></th>\n",
       "      <th></th>\n",
       "      <th></th>\n",
       "      <th></th>\n",
       "      <th></th>\n",
       "      <th></th>\n",
       "      <th></th>\n",
       "      <th></th>\n",
       "      <th></th>\n",
       "      <th></th>\n",
       "    </tr>\n",
       "  </thead>\n",
       "  <tbody>\n",
       "    <tr>\n",
       "      <th>2013-07-01 00:00:00+00:00</th>\n",
       "      <td>0.27</td>\n",
       "      <td>0.000000</td>\n",
       "      <td>1.000000</td>\n",
       "      <td>0</td>\n",
       "      <td>0.0</td>\n",
       "      <td>4.5</td>\n",
       "      <td>NaN</td>\n",
       "      <td>13.5</td>\n",
       "      <td>1011.3</td>\n",
       "      <td>4</td>\n",
       "      <td>10.5</td>\n",
       "      <td>NaN</td>\n",
       "      <td>0</td>\n",
       "      <td>0</td>\n",
       "      <td>0.0</td>\n",
       "      <td>0.01605</td>\n",
       "    </tr>\n",
       "    <tr>\n",
       "      <th>2013-07-01 01:00:00+00:00</th>\n",
       "      <td>0.23</td>\n",
       "      <td>0.258819</td>\n",
       "      <td>0.965926</td>\n",
       "      <td>0</td>\n",
       "      <td>0.0</td>\n",
       "      <td>4.8</td>\n",
       "      <td>NaN</td>\n",
       "      <td>13.2</td>\n",
       "      <td>1010.8</td>\n",
       "      <td>27</td>\n",
       "      <td>11.9</td>\n",
       "      <td>NaN</td>\n",
       "      <td>0</td>\n",
       "      <td>0</td>\n",
       "      <td>0.0</td>\n",
       "      <td>0.00095</td>\n",
       "    </tr>\n",
       "    <tr>\n",
       "      <th>2013-07-01 02:00:00+00:00</th>\n",
       "      <td>0.26</td>\n",
       "      <td>0.500000</td>\n",
       "      <td>0.866025</td>\n",
       "      <td>0</td>\n",
       "      <td>0.0</td>\n",
       "      <td>4.9</td>\n",
       "      <td>NaN</td>\n",
       "      <td>13.1</td>\n",
       "      <td>1010.3</td>\n",
       "      <td>33</td>\n",
       "      <td>11.6</td>\n",
       "      <td>NaN</td>\n",
       "      <td>0</td>\n",
       "      <td>0</td>\n",
       "      <td>0.0</td>\n",
       "      <td>0.00060</td>\n",
       "    </tr>\n",
       "    <tr>\n",
       "      <th>2013-07-01 03:00:00+00:00</th>\n",
       "      <td>0.28</td>\n",
       "      <td>0.707107</td>\n",
       "      <td>0.707107</td>\n",
       "      <td>0</td>\n",
       "      <td>0.0</td>\n",
       "      <td>5.0</td>\n",
       "      <td>NaN</td>\n",
       "      <td>13.0</td>\n",
       "      <td>1010.3</td>\n",
       "      <td>28</td>\n",
       "      <td>11.2</td>\n",
       "      <td>NaN</td>\n",
       "      <td>2</td>\n",
       "      <td>7</td>\n",
       "      <td>30.1</td>\n",
       "      <td>0.00046</td>\n",
       "    </tr>\n",
       "    <tr>\n",
       "      <th>2013-07-01 04:00:00+00:00</th>\n",
       "      <td>0.29</td>\n",
       "      <td>0.866025</td>\n",
       "      <td>0.500000</td>\n",
       "      <td>0</td>\n",
       "      <td>0.0</td>\n",
       "      <td>4.2</td>\n",
       "      <td>NaN</td>\n",
       "      <td>13.8</td>\n",
       "      <td>1010.2</td>\n",
       "      <td>16</td>\n",
       "      <td>11.7</td>\n",
       "      <td>NaN</td>\n",
       "      <td>30</td>\n",
       "      <td>31</td>\n",
       "      <td>252.0</td>\n",
       "      <td>0.00046</td>\n",
       "    </tr>\n",
       "  </tbody>\n",
       "</table>\n",
       "</div>"
      ],
      "text/plain": [
       "                           Demand  hour_sin  hour_cos  is_weekend  \\\n",
       "timestamp                                                           \n",
       "2013-07-01 00:00:00+00:00    0.27  0.000000  1.000000           0   \n",
       "2013-07-01 01:00:00+00:00    0.23  0.258819  0.965926           0   \n",
       "2013-07-01 02:00:00+00:00    0.26  0.500000  0.866025           0   \n",
       "2013-07-01 03:00:00+00:00    0.28  0.707107  0.707107           0   \n",
       "2013-07-01 04:00:00+00:00    0.29  0.866025  0.500000           0   \n",
       "\n",
       "                           cooling_degree  heating_degree  \\\n",
       "timestamp                                                   \n",
       "2013-07-01 00:00:00+00:00             0.0             4.5   \n",
       "2013-07-01 01:00:00+00:00             0.0             4.8   \n",
       "2013-07-01 02:00:00+00:00             0.0             4.9   \n",
       "2013-07-01 03:00:00+00:00             0.0             5.0   \n",
       "2013-07-01 04:00:00+00:00             0.0             4.2   \n",
       "\n",
       "                           temp_irradiance_interaction  Temperature  \\\n",
       "timestamp                                                             \n",
       "2013-07-01 00:00:00+00:00                          NaN         13.5   \n",
       "2013-07-01 01:00:00+00:00                          NaN         13.2   \n",
       "2013-07-01 02:00:00+00:00                          NaN         13.1   \n",
       "2013-07-01 03:00:00+00:00                          NaN         13.0   \n",
       "2013-07-01 04:00:00+00:00                          NaN         13.8   \n",
       "\n",
       "                           Pressure (hPa)  Cloud_cover (%)  \\\n",
       "timestamp                                                    \n",
       "2013-07-01 00:00:00+00:00          1011.3                4   \n",
       "2013-07-01 01:00:00+00:00          1010.8               27   \n",
       "2013-07-01 02:00:00+00:00          1010.3               33   \n",
       "2013-07-01 03:00:00+00:00          1010.3               28   \n",
       "2013-07-01 04:00:00+00:00          1010.2               16   \n",
       "\n",
       "                           Wind_speed_10m (km/h)  Shortwave_radiation (W/m²)  \\\n",
       "timestamp                                                                      \n",
       "2013-07-01 00:00:00+00:00                   10.5                         NaN   \n",
       "2013-07-01 01:00:00+00:00                   11.9                         NaN   \n",
       "2013-07-01 02:00:00+00:00                   11.6                         NaN   \n",
       "2013-07-01 03:00:00+00:00                   11.2                         NaN   \n",
       "2013-07-01 04:00:00+00:00                   11.7                         NaN   \n",
       "\n",
       "                           direct_radiation (W/m²)  diffuse_radiation (W/m²)  \\\n",
       "timestamp                                                                      \n",
       "2013-07-01 00:00:00+00:00                        0                         0   \n",
       "2013-07-01 01:00:00+00:00                        0                         0   \n",
       "2013-07-01 02:00:00+00:00                        0                         0   \n",
       "2013-07-01 03:00:00+00:00                        2                         7   \n",
       "2013-07-01 04:00:00+00:00                       30                        31   \n",
       "\n",
       "                           direct_normal_irradiance (W/m²)    Price  \n",
       "timestamp                                                            \n",
       "2013-07-01 00:00:00+00:00                              0.0  0.01605  \n",
       "2013-07-01 01:00:00+00:00                              0.0  0.00095  \n",
       "2013-07-01 02:00:00+00:00                              0.0  0.00060  \n",
       "2013-07-01 03:00:00+00:00                             30.1  0.00046  \n",
       "2013-07-01 04:00:00+00:00                            252.0  0.00046  "
      ]
     },
     "execution_count": 8,
     "metadata": {},
     "output_type": "execute_result"
    }
   ],
   "source": [
    "\n",
    "features = df.copy()\n",
    "features['hour'] = features.index.hour\n",
    "features['dayofweek'] = features.index.dayofweek\n",
    "features['is_weekend'] = (features['dayofweek'] >= 5).astype(int)\n",
    "features['hour_sin'] = np.sin(2 * np.pi * features['hour'] / 24)\n",
    "features['hour_cos'] = np.cos(2 * np.pi * features['hour'] / 24)\n",
    "features['cooling_degree'] = np.clip(features['Temperature'] - 18, 0, None)\n",
    "features['heating_degree'] = np.clip(18 - features['Temperature'], 0, None)\n",
    "features['temp_irradiance_interaction'] = features['Temperature'] * features['Shortwave_radiation (W/m²)']\n",
    "selected_cols = ['Demand', 'hour_sin', 'hour_cos', 'is_weekend', 'cooling_degree', 'heating_degree',\n",
    "                 'temp_irradiance_interaction'] + weather_cols\n",
    "processed_path = PROCESSED_PATH / 'task5_features.parquet'\n",
    "features[selected_cols].to_parquet(processed_path)\n",
    "features[selected_cols].head()\n"
   ]
  },
  {
   "cell_type": "markdown",
   "id": "1610a77e",
   "metadata": {},
   "source": [
    "## Feature ranking"
   ]
  },
  {
   "cell_type": "code",
   "execution_count": 9,
   "id": "f14dac5c",
   "metadata": {},
   "outputs": [
    {
     "data": {
      "text/html": [
       "<div>\n",
       "<style scoped>\n",
       "    .dataframe tbody tr th:only-of-type {\n",
       "        vertical-align: middle;\n",
       "    }\n",
       "\n",
       "    .dataframe tbody tr th {\n",
       "        vertical-align: top;\n",
       "    }\n",
       "\n",
       "    .dataframe thead th {\n",
       "        text-align: right;\n",
       "    }\n",
       "</style>\n",
       "<table border=\"1\" class=\"dataframe\">\n",
       "  <thead>\n",
       "    <tr style=\"text-align: right;\">\n",
       "      <th></th>\n",
       "      <th>mutual_information</th>\n",
       "      <th>permutation</th>\n",
       "    </tr>\n",
       "  </thead>\n",
       "  <tbody>\n",
       "    <tr>\n",
       "      <th>hour_cos</th>\n",
       "      <td>0.133851</td>\n",
       "      <td>0.293501</td>\n",
       "    </tr>\n",
       "    <tr>\n",
       "      <th>hour_sin</th>\n",
       "      <td>0.109495</td>\n",
       "      <td>0.515502</td>\n",
       "    </tr>\n",
       "    <tr>\n",
       "      <th>heating_degree</th>\n",
       "      <td>0.089476</td>\n",
       "      <td>0.161763</td>\n",
       "    </tr>\n",
       "    <tr>\n",
       "      <th>Temperature</th>\n",
       "      <td>0.081546</td>\n",
       "      <td>0.132669</td>\n",
       "    </tr>\n",
       "    <tr>\n",
       "      <th>Cloud_cover (%)</th>\n",
       "      <td>0.067358</td>\n",
       "      <td>0.097224</td>\n",
       "    </tr>\n",
       "  </tbody>\n",
       "</table>\n",
       "</div>"
      ],
      "text/plain": [
       "                 mutual_information  permutation\n",
       "hour_cos                   0.133851     0.293501\n",
       "hour_sin                   0.109495     0.515502\n",
       "heating_degree             0.089476     0.161763\n",
       "Temperature                0.081546     0.132669\n",
       "Cloud_cover (%)            0.067358     0.097224"
      ]
     },
     "execution_count": 9,
     "metadata": {},
     "output_type": "execute_result"
    }
   ],
   "source": [
    "\n",
    "clean = features[selected_cols].dropna()\n",
    "sample = clean.sample(min(1000, len(clean)), random_state=42)\n",
    "X = sample.drop(columns=['Demand'])\n",
    "y = sample['Demand']\n",
    "\n",
    "mi_scores = mutual_info_regression(X, y, random_state=42)\n",
    "mi_series = pd.Series(mi_scores, index=X.columns, name='mutual_information').sort_values(ascending=False)\n",
    "mi_series.round(4).to_csv(TABLES_DIR / 'task5_feature_ranking_mi.csv')\n",
    "\n",
    "rf = RandomForestRegressor(n_estimators=80, random_state=42, n_jobs=-1)\n",
    "rf.fit(X, y)\n",
    "perm_scores = permutation_importance(rf, X, y, n_repeats=3, random_state=42, n_jobs=-1)\n",
    "perm_series = pd.Series(perm_scores.importances_mean, index=X.columns, name='permutation').sort_values(ascending=False)\n",
    "perm_series.round(4).to_csv(TABLES_DIR / 'task5_feature_ranking_permutation.csv')\n",
    "combined = pd.concat([mi_series, perm_series], axis=1)\n",
    "combined.to_csv(TABLES_DIR / 'task5_feature_ranking_combined.csv')\n",
    "combined.head()\n"
   ]
  },
  {
   "cell_type": "markdown",
   "id": "aafbf870",
   "metadata": {},
   "source": [
    "### Figure 4 – Top features (mutual information)"
   ]
  },
  {
   "cell_type": "code",
   "execution_count": 10,
   "id": "e70496c8",
   "metadata": {},
   "outputs": [
    {
     "data": {
      "application/vnd.plotly.v1+json": {
       "config": {
        "plotlyServerURL": "https://plot.ly"
       },
       "data": [
        {
         "hovertemplate": "Mutual information=%{x}<br>Feature=%{y}<extra></extra>",
         "legendgroup": "",
         "marker": {
          "color": "#2ca02c",
          "pattern": {
           "shape": ""
          }
         },
         "name": "",
         "orientation": "h",
         "showlegend": false,
         "textposition": "auto",
         "type": "bar",
         "x": {
          "bdata": "ACdfXAgiwT9gJ0pS4Qe8P0AWT+Xh57Y/gGEJFDjgtD9ADMVhWz6xP4ALHaOIpKo/QI2Po/eTpj+Alz2wrXahP4ClcajvKaA/AG0UyjP1lj8AToFCtyeOPwD6Yat5LX4/AEijStodaD8AQH1RkW9NPwAAAAAAAAAA",
          "dtype": "f8"
         },
         "xaxis": "x",
         "y": [
          "hour_cos",
          "hour_sin",
          "heating_degree",
          "Temperature",
          "Cloud_cover (%)",
          "Pressure (hPa)",
          "direct_radiation (W/m²)",
          "diffuse_radiation (W/m²)",
          "Shortwave_radiation (W/m²)",
          "Price",
          "direct_normal_irradiance (W/m²)",
          "cooling_degree",
          "temp_irradiance_interaction",
          "Wind_speed_10m (km/h)",
          "is_weekend"
         ],
         "yaxis": "y"
        }
       ],
       "layout": {
        "barmode": "relative",
        "legend": {
         "tracegroupgap": 0
        },
        "template": {
         "data": {
          "bar": [
           {
            "error_x": {
             "color": "#2a3f5f"
            },
            "error_y": {
             "color": "#2a3f5f"
            },
            "marker": {
             "line": {
              "color": "white",
              "width": 0.5
             },
             "pattern": {
              "fillmode": "overlay",
              "size": 10,
              "solidity": 0.2
             }
            },
            "type": "bar"
           }
          ],
          "barpolar": [
           {
            "marker": {
             "line": {
              "color": "white",
              "width": 0.5
             },
             "pattern": {
              "fillmode": "overlay",
              "size": 10,
              "solidity": 0.2
             }
            },
            "type": "barpolar"
           }
          ],
          "carpet": [
           {
            "aaxis": {
             "endlinecolor": "#2a3f5f",
             "gridcolor": "#C8D4E3",
             "linecolor": "#C8D4E3",
             "minorgridcolor": "#C8D4E3",
             "startlinecolor": "#2a3f5f"
            },
            "baxis": {
             "endlinecolor": "#2a3f5f",
             "gridcolor": "#C8D4E3",
             "linecolor": "#C8D4E3",
             "minorgridcolor": "#C8D4E3",
             "startlinecolor": "#2a3f5f"
            },
            "type": "carpet"
           }
          ],
          "choropleth": [
           {
            "colorbar": {
             "outlinewidth": 0,
             "ticks": ""
            },
            "type": "choropleth"
           }
          ],
          "contour": [
           {
            "colorbar": {
             "outlinewidth": 0,
             "ticks": ""
            },
            "colorscale": [
             [
              0,
              "#0d0887"
             ],
             [
              0.1111111111111111,
              "#46039f"
             ],
             [
              0.2222222222222222,
              "#7201a8"
             ],
             [
              0.3333333333333333,
              "#9c179e"
             ],
             [
              0.4444444444444444,
              "#bd3786"
             ],
             [
              0.5555555555555556,
              "#d8576b"
             ],
             [
              0.6666666666666666,
              "#ed7953"
             ],
             [
              0.7777777777777778,
              "#fb9f3a"
             ],
             [
              0.8888888888888888,
              "#fdca26"
             ],
             [
              1,
              "#f0f921"
             ]
            ],
            "type": "contour"
           }
          ],
          "contourcarpet": [
           {
            "colorbar": {
             "outlinewidth": 0,
             "ticks": ""
            },
            "type": "contourcarpet"
           }
          ],
          "heatmap": [
           {
            "colorbar": {
             "outlinewidth": 0,
             "ticks": ""
            },
            "colorscale": [
             [
              0,
              "#0d0887"
             ],
             [
              0.1111111111111111,
              "#46039f"
             ],
             [
              0.2222222222222222,
              "#7201a8"
             ],
             [
              0.3333333333333333,
              "#9c179e"
             ],
             [
              0.4444444444444444,
              "#bd3786"
             ],
             [
              0.5555555555555556,
              "#d8576b"
             ],
             [
              0.6666666666666666,
              "#ed7953"
             ],
             [
              0.7777777777777778,
              "#fb9f3a"
             ],
             [
              0.8888888888888888,
              "#fdca26"
             ],
             [
              1,
              "#f0f921"
             ]
            ],
            "type": "heatmap"
           }
          ],
          "histogram": [
           {
            "marker": {
             "pattern": {
              "fillmode": "overlay",
              "size": 10,
              "solidity": 0.2
             }
            },
            "type": "histogram"
           }
          ],
          "histogram2d": [
           {
            "colorbar": {
             "outlinewidth": 0,
             "ticks": ""
            },
            "colorscale": [
             [
              0,
              "#0d0887"
             ],
             [
              0.1111111111111111,
              "#46039f"
             ],
             [
              0.2222222222222222,
              "#7201a8"
             ],
             [
              0.3333333333333333,
              "#9c179e"
             ],
             [
              0.4444444444444444,
              "#bd3786"
             ],
             [
              0.5555555555555556,
              "#d8576b"
             ],
             [
              0.6666666666666666,
              "#ed7953"
             ],
             [
              0.7777777777777778,
              "#fb9f3a"
             ],
             [
              0.8888888888888888,
              "#fdca26"
             ],
             [
              1,
              "#f0f921"
             ]
            ],
            "type": "histogram2d"
           }
          ],
          "histogram2dcontour": [
           {
            "colorbar": {
             "outlinewidth": 0,
             "ticks": ""
            },
            "colorscale": [
             [
              0,
              "#0d0887"
             ],
             [
              0.1111111111111111,
              "#46039f"
             ],
             [
              0.2222222222222222,
              "#7201a8"
             ],
             [
              0.3333333333333333,
              "#9c179e"
             ],
             [
              0.4444444444444444,
              "#bd3786"
             ],
             [
              0.5555555555555556,
              "#d8576b"
             ],
             [
              0.6666666666666666,
              "#ed7953"
             ],
             [
              0.7777777777777778,
              "#fb9f3a"
             ],
             [
              0.8888888888888888,
              "#fdca26"
             ],
             [
              1,
              "#f0f921"
             ]
            ],
            "type": "histogram2dcontour"
           }
          ],
          "mesh3d": [
           {
            "colorbar": {
             "outlinewidth": 0,
             "ticks": ""
            },
            "type": "mesh3d"
           }
          ],
          "parcoords": [
           {
            "line": {
             "colorbar": {
              "outlinewidth": 0,
              "ticks": ""
             }
            },
            "type": "parcoords"
           }
          ],
          "pie": [
           {
            "automargin": true,
            "type": "pie"
           }
          ],
          "scatter": [
           {
            "fillpattern": {
             "fillmode": "overlay",
             "size": 10,
             "solidity": 0.2
            },
            "type": "scatter"
           }
          ],
          "scatter3d": [
           {
            "line": {
             "colorbar": {
              "outlinewidth": 0,
              "ticks": ""
             }
            },
            "marker": {
             "colorbar": {
              "outlinewidth": 0,
              "ticks": ""
             }
            },
            "type": "scatter3d"
           }
          ],
          "scattercarpet": [
           {
            "marker": {
             "colorbar": {
              "outlinewidth": 0,
              "ticks": ""
             }
            },
            "type": "scattercarpet"
           }
          ],
          "scattergeo": [
           {
            "marker": {
             "colorbar": {
              "outlinewidth": 0,
              "ticks": ""
             }
            },
            "type": "scattergeo"
           }
          ],
          "scattergl": [
           {
            "marker": {
             "colorbar": {
              "outlinewidth": 0,
              "ticks": ""
             }
            },
            "type": "scattergl"
           }
          ],
          "scattermap": [
           {
            "marker": {
             "colorbar": {
              "outlinewidth": 0,
              "ticks": ""
             }
            },
            "type": "scattermap"
           }
          ],
          "scattermapbox": [
           {
            "marker": {
             "colorbar": {
              "outlinewidth": 0,
              "ticks": ""
             }
            },
            "type": "scattermapbox"
           }
          ],
          "scatterpolar": [
           {
            "marker": {
             "colorbar": {
              "outlinewidth": 0,
              "ticks": ""
             }
            },
            "type": "scatterpolar"
           }
          ],
          "scatterpolargl": [
           {
            "marker": {
             "colorbar": {
              "outlinewidth": 0,
              "ticks": ""
             }
            },
            "type": "scatterpolargl"
           }
          ],
          "scatterternary": [
           {
            "marker": {
             "colorbar": {
              "outlinewidth": 0,
              "ticks": ""
             }
            },
            "type": "scatterternary"
           }
          ],
          "surface": [
           {
            "colorbar": {
             "outlinewidth": 0,
             "ticks": ""
            },
            "colorscale": [
             [
              0,
              "#0d0887"
             ],
             [
              0.1111111111111111,
              "#46039f"
             ],
             [
              0.2222222222222222,
              "#7201a8"
             ],
             [
              0.3333333333333333,
              "#9c179e"
             ],
             [
              0.4444444444444444,
              "#bd3786"
             ],
             [
              0.5555555555555556,
              "#d8576b"
             ],
             [
              0.6666666666666666,
              "#ed7953"
             ],
             [
              0.7777777777777778,
              "#fb9f3a"
             ],
             [
              0.8888888888888888,
              "#fdca26"
             ],
             [
              1,
              "#f0f921"
             ]
            ],
            "type": "surface"
           }
          ],
          "table": [
           {
            "cells": {
             "fill": {
              "color": "#EBF0F8"
             },
             "line": {
              "color": "white"
             }
            },
            "header": {
             "fill": {
              "color": "#C8D4E3"
             },
             "line": {
              "color": "white"
             }
            },
            "type": "table"
           }
          ]
         },
         "layout": {
          "annotationdefaults": {
           "arrowcolor": "#2a3f5f",
           "arrowhead": 0,
           "arrowwidth": 1
          },
          "autotypenumbers": "strict",
          "coloraxis": {
           "colorbar": {
            "outlinewidth": 0,
            "ticks": ""
           }
          },
          "colorscale": {
           "diverging": [
            [
             0,
             "#8e0152"
            ],
            [
             0.1,
             "#c51b7d"
            ],
            [
             0.2,
             "#de77ae"
            ],
            [
             0.3,
             "#f1b6da"
            ],
            [
             0.4,
             "#fde0ef"
            ],
            [
             0.5,
             "#f7f7f7"
            ],
            [
             0.6,
             "#e6f5d0"
            ],
            [
             0.7,
             "#b8e186"
            ],
            [
             0.8,
             "#7fbc41"
            ],
            [
             0.9,
             "#4d9221"
            ],
            [
             1,
             "#276419"
            ]
           ],
           "sequential": [
            [
             0,
             "#0d0887"
            ],
            [
             0.1111111111111111,
             "#46039f"
            ],
            [
             0.2222222222222222,
             "#7201a8"
            ],
            [
             0.3333333333333333,
             "#9c179e"
            ],
            [
             0.4444444444444444,
             "#bd3786"
            ],
            [
             0.5555555555555556,
             "#d8576b"
            ],
            [
             0.6666666666666666,
             "#ed7953"
            ],
            [
             0.7777777777777778,
             "#fb9f3a"
            ],
            [
             0.8888888888888888,
             "#fdca26"
            ],
            [
             1,
             "#f0f921"
            ]
           ],
           "sequentialminus": [
            [
             0,
             "#0d0887"
            ],
            [
             0.1111111111111111,
             "#46039f"
            ],
            [
             0.2222222222222222,
             "#7201a8"
            ],
            [
             0.3333333333333333,
             "#9c179e"
            ],
            [
             0.4444444444444444,
             "#bd3786"
            ],
            [
             0.5555555555555556,
             "#d8576b"
            ],
            [
             0.6666666666666666,
             "#ed7953"
            ],
            [
             0.7777777777777778,
             "#fb9f3a"
            ],
            [
             0.8888888888888888,
             "#fdca26"
            ],
            [
             1,
             "#f0f921"
            ]
           ]
          },
          "colorway": [
           "#636efa",
           "#EF553B",
           "#00cc96",
           "#ab63fa",
           "#FFA15A",
           "#19d3f3",
           "#FF6692",
           "#B6E880",
           "#FF97FF",
           "#FECB52"
          ],
          "font": {
           "color": "#2a3f5f"
          },
          "geo": {
           "bgcolor": "white",
           "lakecolor": "white",
           "landcolor": "white",
           "showlakes": true,
           "showland": true,
           "subunitcolor": "#C8D4E3"
          },
          "hoverlabel": {
           "align": "left"
          },
          "hovermode": "closest",
          "mapbox": {
           "style": "light"
          },
          "paper_bgcolor": "white",
          "plot_bgcolor": "white",
          "polar": {
           "angularaxis": {
            "gridcolor": "#EBF0F8",
            "linecolor": "#EBF0F8",
            "ticks": ""
           },
           "bgcolor": "white",
           "radialaxis": {
            "gridcolor": "#EBF0F8",
            "linecolor": "#EBF0F8",
            "ticks": ""
           }
          },
          "scene": {
           "xaxis": {
            "backgroundcolor": "white",
            "gridcolor": "#DFE8F3",
            "gridwidth": 2,
            "linecolor": "#EBF0F8",
            "showbackground": true,
            "ticks": "",
            "zerolinecolor": "#EBF0F8"
           },
           "yaxis": {
            "backgroundcolor": "white",
            "gridcolor": "#DFE8F3",
            "gridwidth": 2,
            "linecolor": "#EBF0F8",
            "showbackground": true,
            "ticks": "",
            "zerolinecolor": "#EBF0F8"
           },
           "zaxis": {
            "backgroundcolor": "white",
            "gridcolor": "#DFE8F3",
            "gridwidth": 2,
            "linecolor": "#EBF0F8",
            "showbackground": true,
            "ticks": "",
            "zerolinecolor": "#EBF0F8"
           }
          },
          "shapedefaults": {
           "line": {
            "color": "#2a3f5f"
           }
          },
          "ternary": {
           "aaxis": {
            "gridcolor": "#DFE8F3",
            "linecolor": "#A2B1C6",
            "ticks": ""
           },
           "baxis": {
            "gridcolor": "#DFE8F3",
            "linecolor": "#A2B1C6",
            "ticks": ""
           },
           "bgcolor": "white",
           "caxis": {
            "gridcolor": "#DFE8F3",
            "linecolor": "#A2B1C6",
            "ticks": ""
           }
          },
          "title": {
           "x": 0.05
          },
          "xaxis": {
           "automargin": true,
           "gridcolor": "#EBF0F8",
           "linecolor": "#EBF0F8",
           "ticks": "",
           "title": {
            "standoff": 15
           },
           "zerolinecolor": "#EBF0F8",
           "zerolinewidth": 2
          },
          "yaxis": {
           "automargin": true,
           "gridcolor": "#EBF0F8",
           "linecolor": "#EBF0F8",
           "ticks": "",
           "title": {
            "standoff": 15
           },
           "zerolinecolor": "#EBF0F8",
           "zerolinewidth": 2
          }
         }
        },
        "title": {
         "text": "Top 15 features (mutual information)"
        },
        "xaxis": {
         "anchor": "y",
         "domain": [
          0,
          1
         ],
         "title": {
          "text": "Mutual information"
         }
        },
        "yaxis": {
         "anchor": "x",
         "domain": [
          0,
          1
         ],
         "title": {
          "text": "Feature"
         }
        }
       }
      }
     },
     "metadata": {},
     "output_type": "display_data"
    }
   ],
   "source": [
    "\n",
    "top15 = mi_series.head(15)\n",
    "fig, ax = plt.subplots(figsize=(7, 4.5))\n",
    "ax.barh(top15.index[::-1], top15.values[::-1], color=COLORS['demand'])\n",
    "ax.set_title('Top 15 features (mutual information)')\n",
    "ax.set_xlabel('Mutual information')\n",
    "ax.set_ylabel('Feature')\n",
    "fig.tight_layout()\n",
    "save_figure(fig, 'task5_fig_feature_ranking_mi')\n",
    "plt.close(fig)\n",
    "\n",
    "fig_px = px.bar(x=top15.values, y=top15.index, orientation='h',\n",
    "               labels={'x': 'Mutual information', 'y': 'Feature'},\n",
    "               title='Top 15 features (mutual information)')\n",
    "save_interactive(fig_px, 'task5_fig_feature_ranking_mi_interactive')\n",
    "fig_px\n"
   ]
  },
  {
   "cell_type": "markdown",
   "id": "c07fba75",
   "metadata": {},
   "source": [
    "## Discussion\n",
    "Time-of-day encodings (`hour_sin`, `hour_cos`) and the weekend indicator dominate the rankings, which is\n",
    "expected for residential load shaped by daily and weekly routines. Weather-driven variables (temperature,\n",
    "irradiance, and their interaction) also score highly, highlighting the influence of HVAC usage and solar\n",
    "production on demand. Engineered signals that rank lower likely add limited new information beyond the\n",
    "base weather variables or suffer from noise; they can be refined in later iterations."
   ]
  }
 ],
 "metadata": {
  "kernelspec": {
   "display_name": "ML",
   "language": "python",
   "name": "python3"
  },
  "language_info": {
   "codemirror_mode": {
    "name": "ipython",
    "version": 3
   },
   "file_extension": ".py",
   "mimetype": "text/x-python",
   "name": "python",
   "nbconvert_exporter": "python",
   "pygments_lexer": "ipython3",
   "version": "3.10.9"
  }
 },
 "nbformat": 4,
 "nbformat_minor": 5
}
